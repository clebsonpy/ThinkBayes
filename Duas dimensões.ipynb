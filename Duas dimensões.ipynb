{
 "cells": [
  {
   "cell_type": "markdown",
   "metadata": {},
   "source": [
    "## 9 Duas dimensões"
   ]
  },
  {
   "cell_type": "markdown",
   "metadata": {},
   "source": [
    "### 9.1 Paintball"
   ]
  },
  {
   "cell_type": "markdown",
   "metadata": {},
   "source": [
    "Tamanho da arena:\n",
    " - 30 pés de largura;\n",
    " - 50 pés de comprimento;\n",
    " \n",
    " Próximo da parede de 30 pés e suspeita que o oponente se esconde nas proximidades;\n",
    " \n",
    " Os respingos estão a 15, 16, 18 e 21 pés, medidos no canto inferior esquerdo da sala.\n",
    " \n",
    " Com base nos dados, onde você acha que seu oponente está se escondendo?"
   ]
  },
  {
   "cell_type": "markdown",
   "metadata": {},
   "source": [
    "![](arena.png)"
   ]
  },
  {
   "cell_type": "markdown",
   "metadata": {},
   "source": [
    "- Coordenadas do atirador (α e β);\n",
    "- Respingo é x;\n",
    "- O ângulo em que o oponente dispara é θ;"
   ]
  },
  {
   "cell_type": "markdown",
   "metadata": {},
   "source": [
    "### 9.2 Suite"
   ]
  },
  {
   "cell_type": "markdown",
   "metadata": {},
   "source": [
    "- Cada hipótese é um par de coordenadas: (alfa, beta);"
   ]
  },
  {
   "cell_type": "code",
   "execution_count": 2,
   "metadata": {},
   "outputs": [],
   "source": [
    "import thinkbayes\n",
    "class Paintball(thinkbayes.Suite, thinkbayes.Joint):\n",
    "\n",
    "    def __init__(self, alphas, betas, locations):\n",
    "        self.locations = locations\n",
    "        pairs = [(alpha, beta) \n",
    "                 for alpha in alphas \n",
    "                 for beta in betas]\n",
    "        thinkbayes.Suite.__init__(self, pairs)"
   ]
  },
  {
   "cell_type": "code",
   "execution_count": 3,
   "metadata": {},
   "outputs": [],
   "source": [
    "alphas = range(0, 31)\n",
    "betas = range(1, 51)\n",
    "locations = range(0, 31)\n",
    "\n",
    "suite = Paintball(alphas, betas, locations)"
   ]
  },
  {
   "cell_type": "markdown",
   "metadata": {},
   "source": [
    "![](pos_loc.png)"
   ]
  },
  {
   "cell_type": "markdown",
   "metadata": {},
   "source": [
    "A Distribuição priori supõe que todos os locais sejam igualmente prováveis."
   ]
  },
  {
   "cell_type": "markdown",
   "metadata": {},
   "source": [
    "### 9.3 Trigonometria"
   ]
  },
  {
   "cell_type": "markdown",
   "metadata": {},
   "source": [
    "- Temos que descobrir a verossimilhança de atingir qualquer ponto ao longo da parede, dada a localização do oponente.\n",
    "\n",
    "- É mais provável que o atirador acerte próximo de alfa do que mais longe de alfa;\n",
    "\n",
    "- A probabilidade pode ser calculada usando trigonometria;\n",
    "\n",
    "\\begin{equation}\n",
    " x  - α = β tanθ\n",
    "\\end{equation}\n",
    "\n",
    "\\begin{equation}\n",
    " \\theta = \\tan ^{-1}\\left ( \\frac{x-a}{\\beta } \\right )\n",
    "\\end{equation}\n",
    "\n",
    "Derivando (Velocidade de deslocamento):\n",
    "\\begin{equation}\n",
    "    \\frac{dx}{d\\theta} = \\frac{\\beta}{\\cos^{2}\\theta}\n",
    "\\end{equation}\n",
    "\n",
    "A probabilidade de atingir um determinado ponto na parede está inversamente relacionada à **velocidade da metralhadora**.\n"
   ]
  },
  {
   "cell_type": "code",
   "execution_count": 7,
   "metadata": {},
   "outputs": [],
   "source": [
    "def StrafingSpeed(alpha, beta, x):\n",
    "    theta = math.atan2(x - alpha, beta)\n",
    "    speed = beta / math.cos(theta)**2\n",
    "    return speed"
   ]
  },
  {
   "cell_type": "markdown",
   "metadata": {},
   "source": [
    "- alfa e beta são as coordenadas do atirador; ]\n",
    "- x é a localização de um tiro."
   ]
  },
  {
   "cell_type": "markdown",
   "metadata": {},
   "source": [
    "![](loc_.png)"
   ]
  },
  {
   "cell_type": "code",
   "execution_count": 8,
   "metadata": {},
   "outputs": [],
   "source": [
    "def MakeLocationPmf(alpha, beta, locations):\n",
    "    pmf = thinkbayes.Pmf()\n",
    "    for x in locations:\n",
    "        prob = 1.0 / StrafingSpeed(alpha, beta, x)\n",
    "        pmf.Set(x, prob)\n",
    "    pmf.Normalize()\n",
    "    return pmf"
   ]
  },
  {
   "cell_type": "markdown",
   "metadata": {},
   "source": [
    "- Probabilidade de atingir qualquer local na parede;"
   ]
  },
  {
   "cell_type": "markdown",
   "metadata": {},
   "source": [
    "### 9.4 Verossimilhança"
   ]
  },
  {
   "cell_type": "markdown",
   "metadata": {},
   "source": [
    "- Podemos usar MakeLocationPmf para calcular a verossimilhança de qualquer valor de x;"
   ]
  },
  {
   "cell_type": "code",
   "execution_count": 10,
   "metadata": {},
   "outputs": [],
   "source": [
    "def Likelihood(self, data, hypo):\n",
    "    alpha, beta = hypo\n",
    "    x = data\n",
    "    pmf = MakeLocationPmf(alpha, beta, self.locations)\n",
    "    like = pmf.Prob(x)\n",
    "    return like"
   ]
  },
  {
   "cell_type": "markdown",
   "metadata": {},
   "source": [
    "- `pmf` contém a probabilidade de cada local, dadas as coordenadas do atirador."
   ]
  },
  {
   "cell_type": "markdown",
   "metadata": {},
   "source": [
    "O resultado é uma distribuição que mapeia cada par (alfa, beta) para uma probabilidade posterior."
   ]
  },
  {
   "cell_type": "markdown",
   "metadata": {},
   "source": [
    "### 9.5 Distribuições conjuntas"
   ]
  },
  {
   "cell_type": "markdown",
   "metadata": {},
   "source": [
    "![](pos_loc.png)"
   ]
  },
  {
   "cell_type": "markdown",
   "metadata": {},
   "source": [
    "Representa as distribuições das variáveis juntas;\n",
    "\n",
    "Uma distribuição conjunta contém:\n",
    "- As distribuições das variáveis;\n",
    "- As informações sobre os relacionamentos entre elas.\n",
    "\n",
    "As distribuições de cada variável podem ser calculadas de forma independente, chamadas de **distribuições marginais**.\n",
    "\n",
    "Os intervalos de credibilidade de 50% são (14, 21) para alfa e (5, 31) para beta;"
   ]
  },
  {
   "cell_type": "markdown",
   "metadata": {},
   "source": [
    "### 9.6 Distribuições condicionais"
   ]
  },
  {
   "cell_type": "markdown",
   "metadata": {},
   "source": [
    "![](loc_.png)"
   ]
  },
  {
   "cell_type": "markdown",
   "metadata": {},
   "source": [
    "Uma maneira de visualizar a dependência é calculando as distribuições condicionais;"
   ]
  },
  {
   "cell_type": "markdown",
   "metadata": {},
   "source": [
    "### 9.7 Intervalo de credibilidade"
   ]
  },
  {
   "cell_type": "markdown",
   "metadata": {},
   "source": [
    "![](inter_cred.png)"
   ]
  },
  {
   "cell_type": "markdown",
   "metadata": {},
   "source": []
  },
  {
   "cell_type": "markdown",
   "metadata": {},
   "source": [
    "### 9.8 Discussões"
   ]
  },
  {
   "cell_type": "code",
   "execution_count": null,
   "metadata": {},
   "outputs": [],
   "source": []
  }
 ],
 "metadata": {
  "kernelspec": {
   "display_name": "Python 3",
   "language": "python",
   "name": "python3"
  },
  "language_info": {
   "codemirror_mode": {
    "name": "ipython",
    "version": 3
   },
   "file_extension": ".py",
   "mimetype": "text/x-python",
   "name": "python",
   "nbconvert_exporter": "python",
   "pygments_lexer": "ipython3",
   "version": "3.6.8"
  }
 },
 "nbformat": 4,
 "nbformat_minor": 4
}
