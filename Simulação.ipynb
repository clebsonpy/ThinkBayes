{
 "cells": [
  {
   "cell_type": "markdown",
   "metadata": {},
   "source": [
    "# 13 - Simulação"
   ]
  },
  {
   "cell_type": "markdown",
   "metadata": {},
   "source": [
    "## 13.1 - O problema do tumor renal"
   ]
  },
  {
   "cell_type": "markdown",
   "metadata": {},
   "source": [
    "- Determinar se o câncer se formou antes de me aposentar das forças armadas;\n",
    "- Possível determinar quando havia uma chance de 50/50 de desenvolver o doença?\n",
    "- É possível determinar a probabilidade na data da aposentadoria?\n",
    "    - Meu tumor tinha 15,5 cm x 15 cm na detecção (Grau II);"
   ]
  },
  {
   "cell_type": "markdown",
   "metadata": {},
   "source": [
    "- Benefícios diferentes se é \"mais provável do que não\";"
   ]
  },
  {
   "cell_type": "markdown",
   "metadata": {},
   "source": [
    "![](cap13_1.png)\n",
    "- Distribuição de RDT para 53 pacientes.\n",
    "\n",
    "- Coletou os dados de um artigo de Zhang;\n",
    "- Imprimiu um gráficos e medindo-os com uma régua.\n",
    "- Tempo de duplicação recíproca (RDT): unidades de duplicação por ano;\n",
    "- Uma mistura de duas distribuições exponenciais;"
   ]
  },
  {
   "cell_type": "markdown",
   "metadata": {},
   "source": [
    "## 13.2 Um modelo simples"
   ]
  },
  {
   "cell_type": "markdown",
   "metadata": {},
   "source": [
    "- O modelo simples é suficiente para o problema em questão e, se não, você pode usá-lo para validar o modelo mais complexo.\n",
    "- Suposições:\n",
    "    - Tempo de duplicação constante;\n",
    "    - Sejam tridimensionais:\n",
    "        - Se a medida linear máxima duplicar, o volume será multiplicado por oito;"
   ]
  },
  {
   "cell_type": "markdown",
   "metadata": {},
   "source": [
    "- A alta do exército e o diagnóstico foi de 3291 dias (cerca de 9 anos);\n",
    "- Se esse tumor crescesse na taxa média, qual seria o tamanho na data da alta?\n",
    "- O tempo médio de duplicação do volume relatado por Zhang et al é de 811 dias"
   ]
  },
  {
   "cell_type": "code",
   "execution_count": 57,
   "metadata": {},
   "outputs": [
    {
     "data": {
      "text/plain": [
       "6.069363645997591"
      ]
     },
     "execution_count": 57,
     "metadata": {},
     "output_type": "execute_result"
    }
   ],
   "source": [
    "# time between discharge and diagnosis, in days \n",
    "interval = 3291.0\n",
    "\n",
    "# doubling time in linear measure is doubling time in volume * 3\n",
    "dt = 811.0 * 3\n",
    "\n",
    "# number of doublings since discharge\n",
    "doublings = interval / dt\n",
    "\n",
    "# how big was the tumor at time of discharge (diameter in cm)\n",
    "d1 = 15.5\n",
    "d0 = d1 / 2.0 ** doublings\n",
    "d0"
   ]
  },
  {
   "cell_type": "markdown",
   "metadata": {},
   "source": [
    "- É mais provável que o tumor se formou antes da data da alta."
   ]
  },
  {
   "cell_type": "markdown",
   "metadata": {},
   "source": [
    "Taxa de crescimento que seria implícita se este tumor tivesse se formado após a data da alta"
   ]
  },
  {
   "cell_type": "code",
   "execution_count": 58,
   "metadata": {},
   "outputs": [],
   "source": [
    "import math\n",
    "def log2(x, denom=math.log(2)):\n",
    "    \"\"\"Computes log base 2.\"\"\"\n",
    "    return math.log(x) / denom"
   ]
  },
  {
   "cell_type": "code",
   "execution_count": 59,
   "metadata": {},
   "outputs": [
    {
     "data": {
      "text/plain": [
       "2.420952969849678"
      ]
     },
     "execution_count": 59,
     "metadata": {},
     "output_type": "execute_result"
    }
   ],
   "source": [
    "# assume an initial linear measure of 0.1 cm\n",
    "d0 = 0.1\n",
    "d1 = 15.5\n",
    "\n",
    "# how many doublings would it take to get from d0 to d1\n",
    "doublings = log2(d1 / d0)\n",
    "\n",
    "# what linear doubling time does that imply?\n",
    "dt = interval / doublings\n",
    "\n",
    "# compute the volumetric doubling time and RDT\n",
    "vdt = dt / 3\n",
    "rdt = 365 / vdt\n",
    "rdt"
   ]
  },
  {
   "cell_type": "markdown",
   "metadata": {},
   "source": [
    "- **dt** é o tempo de duplicação linear;\n",
    "- **vdt** é o tempo de duplicação volumétrico;\n",
    "- **rdt** é o tempo de duplicação recíproco;"
   ]
  },
  {
   "cell_type": "markdown",
   "metadata": {},
   "source": [
    "- Apenas 20% dos tumores cresceram tão rápido durante um período de observação.\n",
    "- É mais provável que o tumor se formou antes da data da alta.\n",
    "- Esses cálculos são suficientes para responder à pergunta apresentada"
   ]
  },
  {
   "cell_type": "markdown",
   "metadata": {},
   "source": [
    "## 13.3 - Um modelo mais geral"
   ]
  },
  {
   "cell_type": "markdown",
   "metadata": {},
   "source": [
    "Probabilidade de o tumor se formar antes de qualquer data;\n",
    "- Distribuição das idades."
   ]
  },
  {
   "cell_type": "markdown",
   "metadata": {},
   "source": [
    "A simulação começa com um pequeno tumor e executa estas etapas:\n",
    "\n",
    "- Escolha uma taxa de crescimento na distribuição do RDT.\n",
    "- Calcule o tamanho do tumor no final de um intervalo.\n",
    "- Registre o tamanho do tumor em cada intervalo.\n",
    "- Repita até o tumor exceder o tamanho máximo relevante."
   ]
  },
  {
   "cell_type": "markdown",
   "metadata": {},
   "source": [
    "Tamanho inicial: 0.3 cm;\n",
    "\n",
    "Intervalo de 245 dias (cerca de 8 meses);\n",
    "\n",
    "Tamanho máximo 20 cm;"
   ]
  },
  {
   "cell_type": "markdown",
   "metadata": {},
   "source": [
    "![](cap13_tamanho.png)\n",
    "\n",
    "Simulações de crescimento tumoral, tamanho versus tempo."
   ]
  },
  {
   "cell_type": "markdown",
   "metadata": {},
   "source": [
    "- A taxa de crescimento é escolhida independentemente durante cada intervalo;\n",
    "- Os resultados são apresentados em termos de medidas lineares, mas os cálculos são em termos de volume;"
   ]
  },
  {
   "cell_type": "markdown",
   "metadata": {},
   "source": [
    "## 13.4 - Implementação"
   ]
  },
  {
   "cell_type": "markdown",
   "metadata": {},
   "source": [
    "## 13.5 - Armazenando a distribuição conjunta em cache"
   ]
  },
  {
   "cell_type": "markdown",
   "metadata": {},
   "source": [
    "![](cap13_joint.png)\n",
    "\n",
    "Distribuição conjunta da idade e tamanho do tumor.\n",
    "\n",
    "Distribuição conjunta após 1000 simulações."
   ]
  },
  {
   "cell_type": "markdown",
   "metadata": {},
   "source": [
    "![](cap13_cond.png)\n",
    "\n",
    "Distribuições de idade, condicionadas ao tamanho."
   ]
  },
  {
   "cell_type": "markdown",
   "metadata": {},
   "source": [
    "## 13.6 - Distribuições condicionais"
   ]
  },
  {
   "cell_type": "markdown",
   "metadata": {},
   "source": [
    "![](cap13_perc.png)\n",
    "\n",
    "Percentis da idade do tumor em função do tamanho."
   ]
  },
  {
   "cell_type": "markdown",
   "metadata": {},
   "source": [
    "Ao fazer uma fatia horizontal, podemos obter a distribuição das idades condicionada ao tamanho."
   ]
  },
  {
   "cell_type": "markdown",
   "metadata": {},
   "source": [
    "## 13.7 - Correlação serial"
   ]
  },
  {
   "cell_type": "markdown",
   "metadata": {},
   "source": [
    "Os resultados até agora são baseados em várias decisões de modelagem;\n",
    "- Assumimos que os tumores são aproximadamente esféricos;\n",
    "- A distribuição das taxas de crescimento nas simulações é baseada em um modelo contínuo que escolhemos para ajustar os dados relatados por Zhang et al;\n",
    "- O modelo de crescimento não leva em consideração o subtipo ou grau do tumor; \n",
    "- A distribuição da taxa de crescimento não depende do tamanho do tumor;\n",
    "- A taxa de crescimento durante cada intervalo é independente das taxas de crescimento anteriores."
   ]
  },
  {
   "cell_type": "markdown",
   "metadata": {},
   "source": [
    "O primeiro e o último parecem os mais problemáticos"
   ]
  },
  {
   "cell_type": "markdown",
   "metadata": {},
   "source": [
    "- Gere valores correlacionados a partir de uma distribuição gaussiana. Isso é fácil, pois podemos calcular a distribuição do próximo valor condicionado ao valor anterior.\n",
    "- Transforme cada valor em sua probabilidade cumulativa usando o CDF gaussiano.\n",
    "- Transforme cada probabilidade cumulativa no valor correspondente usando o Cdf fornecido."
   ]
  },
  {
   "cell_type": "markdown",
   "metadata": {},
   "source": [
    "Sem correlação serial, a probabilidade de um tumor de 15.5 cm ter mais de 8 anos é de 0.999, ou quase certa. Com a correlação 0.4, o crescimento mais rápido dos tumores são mais prováveis, mas a probabilidade ainda é de 0.995. Mesmo com a correlação 0.8, a probabilidade é 0.978."
   ]
  },
  {
   "cell_type": "markdown",
   "metadata": {},
   "source": [
    "Mesmo levando em consideração os erros de modelagem, é improvável que um tumor tão grande possa ter se formado menos de 8 anos."
   ]
  },
  {
   "cell_type": "markdown",
   "metadata": {},
   "source": [
    "## 13.8 - Discussão"
   ]
  },
  {
   "cell_type": "markdown",
   "metadata": {},
   "source": [
    "- Sem usar o teorema de Bayes;\n",
    "- É mais difícil condicionar a distribuição da idade ao tamanho ou p(idade|tamanho);\n",
    "    - Oportunidade perfeita para usar o teorema de Bayes.\n",
    "    - Eficiência computacional (motivo para não ter usado bayes)"
   ]
  },
  {
   "cell_type": "code",
   "execution_count": null,
   "metadata": {},
   "outputs": [],
   "source": []
  }
 ],
 "metadata": {
  "kernelspec": {
   "display_name": "Python 3",
   "language": "python",
   "name": "python3"
  },
  "language_info": {
   "codemirror_mode": {
    "name": "ipython",
    "version": 3
   },
   "file_extension": ".py",
   "mimetype": "text/x-python",
   "name": "python",
   "nbconvert_exporter": "python",
   "pygments_lexer": "ipython3",
   "version": "3.6.9"
  }
 },
 "nbformat": 4,
 "nbformat_minor": 4
}
