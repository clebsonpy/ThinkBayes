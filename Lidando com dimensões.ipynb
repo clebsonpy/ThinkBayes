{
 "cells": [
  {
   "cell_type": "markdown",
   "metadata": {},
   "source": [
    "# 15 - Lidando com dimensões"
   ]
  },
  {
   "cell_type": "code",
   "execution_count": 8,
   "metadata": {},
   "outputs": [],
   "source": [
    "import thinkbayes"
   ]
  },
  {
   "cell_type": "markdown",
   "metadata": {},
   "source": [
    "## 15.1 - Bactérias do umbigo"
   ]
  },
  {
   "cell_type": "markdown",
   "metadata": {},
   "source": [
    "- Projeto com objetivo de identificar as especies de bactérias que pode ser encontrado em umbigo humanos;\n",
    "- É de interesse do microbioma humano, o conjunto de migroorganismo que vive na pele humana e partes do corpo;"
   ]
  },
  {
   "cell_type": "markdown",
   "metadata": {},
   "source": [
    "- Os pesquisadores coletaram amostras de 60 volumtários;\n",
    "- Usou o método multiplex pyrosequencing para extrair e sequenciar fragmentos de rDNA 16S;"
   ]
  },
  {
   "cell_type": "markdown",
   "metadata": {},
   "source": [
    "Podemos usar esses dados para responder a várias questões relacionadas:\n",
    "\n",
    "- Com base no número de espécies observadas, podemos estimar o número total de espécies no ambiente?\n",
    "- Podemos estimar a prevalência de cada espécie, ou seja, a fração da população total pertencente a cada espécie?\n",
    "- Se estamos planejando coletar amostras adicionais, podemos prever quantas novas espécies poderemos descobrir?\n",
    "- Quantas leituras adicionais são necessárias para aumentar a fração de espécies observadas até um determinado limite?"
   ]
  },
  {
   "cell_type": "markdown",
   "metadata": {},
   "source": [
    "**Problema das Espécies Invisíveis**"
   ]
  },
  {
   "cell_type": "markdown",
   "metadata": {},
   "source": [
    "## 15.2 - Leões, tigres e ursos"
   ]
  },
  {
   "cell_type": "markdown",
   "metadata": {},
   "source": [
    "Problema simples onde conhecemos 3 espécies;\n",
    "- 3 Leões, 2 Tigres e 1 Urso;\n",
    "\n",
    "Chance igual de observar qualquer animal, o de vermos cada espécie é dada pela distribuição multinomial;\n",
    "A verossimilhança de ver 3 leões, 2 tigres e um urso é proporcional a\n",
    "```python\n",
    "    p_lion**3 * p_tiger**2 * p_bear**1\n",
    "```\n",
    "\n",
    "- **Distribuição Beta**: Uma abordagem atentadora, mas não correta;\n",
    "\n",
    "```python\n",
    "    beta = thinkbayes.Beta()\n",
    "    beta.Update((3, 3))\n",
    "    print beta.MaximumLikelihood()\n",
    "```\n",
    "- `p_lion = 50%`\n",
    "- `p_tiger = 33%`\n",
    "- `p_bear = 17%`"
   ]
  },
  {
   "cell_type": "markdown",
   "metadata": {},
   "source": [
    "**Problemas**\n",
    "1. A a priori não é adequada para esse tipo de problema:\n",
    "    - Distribuição uniforme para cada espécie;\n",
    "2. As distribuições para cada espécie não pode ser independente:\n",
    "    - Precisamos de uma distribuição conjunta;\n",
    "    \n",
    "**Solução**\n",
    "- Usar uma distribuição Dirichlet, assim, resolvendo os dois problemas;\n",
    "    - Descreve a distribuição conjunta de `p_lion`, `p_tiger` e `p_bear`.\n",
    "    - É a generalização multidimensional da distribuição beta;\n",
    "    - É descrita por n parâmetros, escritos de `α1` a `αn`.\n",
    "    - A distribuição marginal para cada prevalência é uma distribuição beta;"
   ]
  },
  {
   "cell_type": "code",
   "execution_count": 6,
   "metadata": {},
   "outputs": [],
   "source": [
    "import numpy\n",
    "\n",
    "class Dirichlet(object):\n",
    "\n",
    "    def __init__(self, n):\n",
    "        self.n = n\n",
    "        self.params = numpy.ones(n, dtype=numpy.int)\n",
    "        \n",
    "    def MarginalBeta(self, i):\n",
    "        alpha0 = self.params.sum()\n",
    "        alpha = self.params[i]\n",
    "        return thinkbayes.Beta(alpha, alpha0-alpha)\n",
    "    \n",
    "    def Update(self, data):\n",
    "        m = len(data)\n",
    "        self.params[:m] += data"
   ]
  },
  {
   "cell_type": "code",
   "execution_count": 3,
   "metadata": {},
   "outputs": [
    {
     "name": "stdout",
     "output_type": "stream",
     "text": [
      "0.3333333333333333\n",
      "0.3333333333333333\n",
      "0.3333333333333333\n"
     ]
    }
   ],
   "source": [
    "dirichlet = thinkbayes.Dirichlet(3)\n",
    "for i in range(3):\n",
    "    beta = dirichlet.MarginalBeta(i)\n",
    "    print(beta.Mean())"
   ]
  },
  {
   "cell_type": "markdown",
   "metadata": {},
   "source": [
    "```python\n",
    "data = [3, 2, 1]\n",
    "dirichlet = Dirichlet(3)\n",
    "dirichlet.Update(data)\n",
    "\n",
    "for i in range(3):\n",
    "    beta = dirichlet.MarginalBeta(i)\n",
    "    pmf = beta.MakePmf()\n",
    "    print(i, pmf.Mean())\n",
    "\n",
    "0 0.44 \n",
    "1 0.33\n",
    "2 0.22    \n",
    "```\n"
   ]
  },
  {
   "cell_type": "markdown",
   "metadata": {},
   "source": [
    "![](post_15_2.png)\n",
    "\n",
    "Distribuição das prevalências para três espécies"
   ]
  },
  {
   "cell_type": "markdown",
   "metadata": {},
   "source": [
    "## 15.3 - A versão hierárquica"
   ]
  },
  {
   "cell_type": "markdown",
   "metadata": {},
   "source": [
    "**Problema simples:** Se soubermos quantas espécies existem, podemos estimar a prevalência de cada uma.\n",
    "\n",
    "**Problema original:** Estimando o número total de espécies\n",
    "- Definiu **Meta-Suite**, que é uma Suite que contém outras Suites como hipóteses.\n",
    "- Nível superior contém hipóteses sobre o número de espécies; \n",
    "- Nível inferior contém hipóteses sobre prevalências."
   ]
  },
  {
   "cell_type": "code",
   "execution_count": 19,
   "metadata": {},
   "outputs": [],
   "source": [
    "class Species(thinkbayes.Suite):\n",
    "\n",
    "    def __init__(self, ns):\n",
    "        hypos = [thinkbayes.Dirichlet(n) for n in ns]\n",
    "        thinkbayes.Suite.__init__(self, hypos)\n",
    "        \n",
    "    def Update(self, data):\n",
    "        thinkbayes.Suite.Update(self, data)\n",
    "        for hypo in self.Values():\n",
    "            hypo.Update(data)\n",
    "            \n",
    "    def Likelihood(self, data, hypo):\n",
    "        dirichlet = hypo\n",
    "        like = 0\n",
    "        for i in range(1000):\n",
    "            like += dirichlet.Likelihood(data)\n",
    "\n",
    "        return like"
   ]
  },
  {
   "cell_type": "code",
   "execution_count": 25,
   "metadata": {},
   "outputs": [],
   "source": [
    "ns = range(3, 30)\n",
    "suite = Species(ns)"
   ]
  },
  {
   "cell_type": "markdown",
   "metadata": {},
   "source": [
    "- Assumimos que qualquer valor nesse intervalo é igualmente provável.\n",
    "- O comprimento de `data` é o número de espécies observadas. \n",
    "- Se vemos mais espécies do que pensávamos existir, a probabilidade é 0."
   ]
  },
  {
   "cell_type": "markdown",
   "metadata": {},
   "source": [
    "## 15.4 - Amostragem aleatória"
   ]
  },
  {
   "cell_type": "markdown",
   "metadata": {},
   "source": [
    "Existem duas maneiras de gerar uma amostra aleatória a partir de uma distribuição Dirichlet:\n",
    "1. Usar as distribuições beta marginais;\n",
    "2. Selecionar valores de n distribuições gama e normalizar dividindo pelo total\n",
    "\n",
    "```python\n",
    "# class Dirichlet\n",
    "\n",
    "    def Random(self):\n",
    "        p = numpy.random.gamma(self.params)\n",
    "        return p / p.sum()\n",
    "```"
   ]
  },
  {
   "cell_type": "markdown",
   "metadata": {},
   "source": [
    "Distribuição a posteriori de n;\n",
    "\n",
    "```python\n",
    "    def DistOfN(self):\n",
    "        pmf = thinkbayes.Pmf()\n",
    "        for hypo, prob in self.Items():\n",
    "            pmf.Set(hypo.n, prob)\n",
    "        return pmf\n",
    "```\n",
    "\n",
    "Percorre as hipóteses de nível superior e acumula a probabilidade de cada n.\n",
    "\n",
    "![](post_15_4.png)\n",
    "\n",
    "Distribuição a posteriori de n"
   ]
  },
  {
   "cell_type": "markdown",
   "metadata": {},
   "source": [
    "- O valor mais provável é 4;\n",
    "- Valores de 3 a 7 são razoavelmente prováveis;\n",
    "- A probabilidade de haver 29 espécies é baixa o suficiente para ser insignificante;"
   ]
  },
  {
   "cell_type": "markdown",
   "metadata": {},
   "source": [
    "- A priori -> uniforme;\n",
    "- Com mais informações sobre as espécies, poderemos escolher uma a priori diferente;"
   ]
  },
  {
   "cell_type": "markdown",
   "metadata": {},
   "source": [
    "## 15.5 - Otimização"
   ]
  },
  {
   "cell_type": "markdown",
   "metadata": {},
   "source": [
    "- Poucas linhas de código para a solução;\n",
    "- É lento;\n",
    "    - Bom para poucas espécies;\n",
    "    - Não é bom para o problema do umbigo;"
   ]
  },
  {
   "cell_type": "markdown",
   "metadata": {},
   "source": [
    "As próximas seções apresentam uma série de otimizações:\n",
    "- Não precisamos realmente de n objetos Dirichlet; podemos armazenar os parâmetros no nível superior da hierarquia.\n",
    "- Mesmo conjunto de valores aleatórios para todas as hipóteses.\n",
    "- Fazer as atualizações de uma espécie por vez;\n",
    "- combina as sub-hipóteses no nível superior e usa operações numpy de array para acelerar as coisas."
   ]
  },
  {
   "cell_type": "markdown",
   "metadata": {},
   "source": [
    "## 15.6 - Colapsando a hierarquia"
   ]
  },
  {
   "cell_type": "code",
   "execution_count": 28,
   "metadata": {},
   "outputs": [],
   "source": [
    "class Species2(object):\n",
    "    \n",
    "    def __init__(self, ns):\n",
    "        self.ns = ns\n",
    "        self.probs = numpy.ones(len(ns), dtype=numpy.double)\n",
    "        self.params = numpy.ones(self.high, dtype=numpy.int)\n",
    "    \n",
    "    def Update(self, data):\n",
    "        like = numpy.zeros(len(self.ns), dtype=numpy.double)\n",
    "        for i in range(1000):\n",
    "            like += self.SampleLikelihood(data)\n",
    "\n",
    "        self.probs *= like\n",
    "        self.probs /= self.probs.sum()\n",
    "\n",
    "        m = len(data)\n",
    "        self.params[:m] += data\n",
    "    \n",
    "    def SampleLikelihood(self, data):\n",
    "        gammas = numpy.random.gamma(self.params)\n",
    "\n",
    "        m = len(data)\n",
    "        row = gammas[:m]\n",
    "        col = numpy.cumsum(gammas)\n",
    "\n",
    "        log_likes = []\n",
    "        for n in self.ns:\n",
    "            ps = row / col[n-1]\n",
    "            terms = data * numpy.log(ps)\n",
    "            log_like = terms.sum()\n",
    "            log_likes.append(log_like)\n",
    "\n",
    "        log_likes -= numpy.max(log_likes)\n",
    "        likes = numpy.exp(log_likes)\n",
    "\n",
    "        coefs = [thinkbayes.BinomialCoef(n, m) for n in self.ns]\n",
    "        likes *= coefs\n",
    "\n",
    "        return likes"
   ]
  },
  {
   "cell_type": "markdown",
   "metadata": {},
   "source": [
    "```python\n",
    "__init__()\n",
    "```\n",
    "- `ns` é a lista de valores hipotéticos para n; \n",
    "- `probs` é a lista de probabilidades correspondentes;\n",
    "- `params` é a sequência dos parâmetros de Dirichlet;\n",
    "\n",
    "--------------------------\n",
    "\n",
    "```python\n",
    "Update()\n",
    "```\n",
    "Atualiza os dois níveis da hierarquia: \n",
    "1. A probabilidade de cada valor de n;\n",
    "2. Os parâmetros Dirichlet:\n",
    "\n",
    "-------------------------------\n",
    "\n",
    "```python\n",
    "SampleLikelihood()\n",
    "```\n",
    "- Duas oportunidades de otimização:\n",
    "    - O número hipotético(n) de espécies excede o número observado(m), precisamos apenas dos primeiros m.\n",
    "    - Número de espécies for grande, a probabilidade dos dados pode ser muito pequena, usamos log."
   ]
  },
  {
   "cell_type": "markdown",
   "metadata": {},
   "source": [
    "- A versão otimizada é menos legível e mais suscetível a erros do que a original.\n",
    "- Usar a versão simples para fazer um teste de regressão;"
   ]
  },
  {
   "cell_type": "markdown",
   "metadata": {},
   "source": [
    "## 15.7 - Mais um problema"
   ]
  },
  {
   "cell_type": "markdown",
   "metadata": {},
   "source": [
    "À medida que o número de espécies observadas aumenta, leva mais iterações para convergir para uma boa resposta.\n",
    "\n",
    "As prevalências que escolhemos da distribuição de Dirichlet;\n",
    "\n",
    "A maioria das iterações não fornece nenhuma contribuição útil para a probabilidade total;\n",
    "\n",
    "Solução:\n",
    "- A atualizar da distribuição a priori com todo o conjunto de dados ou dividi-la em uma série de atualizações;\n",
    "\n",
    "Essa versão representa as hipóteses como uma lista de objetos Dirichlet;\n",
    "\n",
    "\n",
    "```python\n",
    "# class Species4\n",
    "\n",
    "    def Likelihood(self, data, hypo):\n",
    "        dirichlet = hypo\n",
    "        like = 0\n",
    "        for i in range(self.iterations):\n",
    "            like += dirichlet.Likelihood(data)\n",
    "\n",
    "        # correct for the number of unseen species the new one\n",
    "        # could have been\n",
    "        m = len(data)\n",
    "        num_unseen = dirichlet.n - m + 1\n",
    "        like *= num_unseen\n",
    "\n",
    "        return like\n",
    "```\n",
    "\n",
    "fator `num_unseen`?\n",
    "    "
   ]
  },
  {
   "cell_type": "markdown",
   "metadata": {},
   "source": [
    "## 15.8 - Ainda não terminamos"
   ]
  },
  {
   "cell_type": "markdown",
   "metadata": {},
   "source": [
    "- A execução das atualizações de uma espécie por vez resolve um problema, mas cria outro.\n",
    "    - Cada atualização leva um tempo proporcional a km.\n",
    "        - k é o número de hipóteses e \n",
    "        - m é o número de espécies observadas\n",
    "    - Tempo total de execução é proporcional ao km².\n",
    "    "
   ]
  },
  {
   "cell_type": "markdown",
   "metadata": {},
   "source": [
    "Solução\n",
    "- livraremos dos objetos Dirichlet e recolheremos os dois níveis da hierarquia em um único objeto."
   ]
  },
  {
   "cell_type": "markdown",
   "metadata": {},
   "source": [
    "- O tempo de execução desta função é proporcional ao número de hipóteses, k. \n",
    "- Como são executados m vezes, o tempo de execução da atualização é proporcional a km."
   ]
  },
  {
   "cell_type": "markdown",
   "metadata": {},
   "source": [
    "## 15.9 - Os dados do umbigo"
   ]
  },
  {
   "cell_type": "markdown",
   "metadata": {},
   "source": [
    "Amostra com 400 leituras -> 61 espécies:\n",
    "- [2, 53, 47, 38, 15, 14, 12, 10, 8, 7, 7, 5, 5, 4, 4, 4, 4, 4, 4, 4, 3, 3, 3, 3, 3, 3, 3, 2, 2, 2, 2, 1, 1, 1, 1, 1, 1, 1, 1, 1, 1, 1, 1, 1, 1, 1, 1, 1, 1, 1, 1, 1, 1, 1, 1, 1, 1, 1, 1, 1, 1]\n",
    "\n",
    "- Espécies com grande fração e outras com uma única leitura -> Provável espécies invisíveis.\n",
    "\n",
    "- Como no exemplo anterior, assumimos que cada bactéria tem a mesma probabilidade de produzir uma leitura;\n",
    "\n",
    "- O processo de coleta pode apresenta um vies;\n",
    "\n",
    "- espécie -> unidade taxonômica operacional\n",
    "\n",
    "```python\n",
    "class Subject(object):\n",
    "\n",
    "    def __init__(self, code):\n",
    "        self.code = code\n",
    "        self.species = []\n",
    "```\n",
    "![](post_15_9.png)\n",
    "\n",
    "Distribuição a posteriori de n;\n",
    "\n",
    "- A probabilidade de existir exatamente 61 espécies;\n",
    "- O valor mais provável é 72, com intervalo credibilidade de 90% (66 a 79).\n",
    "\n",
    "```python\n",
    "# class Suite2\n",
    "    def DistN(self):\n",
    "        items = zip(self.ns, self.probs)\n",
    "        pmf = thinkbayes.MakePmfFromItems(items)\n",
    "        return pmf\n",
    "```\n",
    "\n",
    "![](post_15_9_cada.png)\n",
    "\n",
    "Distribuição posterior da prevalência para cada espécie\n",
    "\n",
    "```python\n",
    "# class Species2\n",
    "\n",
    "    def DistOfPrevalence(self, index):\n",
    "        metapmf = thinkbayes.Pmf()\n",
    "\n",
    "        for n, prob in zip(self.ns, self.probs):\n",
    "            beta = self.MarginalBeta(n, index)\n",
    "            pmf = beta.MakePmf()\n",
    "            metapmf.Set(pmf, prob)\n",
    "\n",
    "        mix = thinkbayes.MakeMixture(metapmf)\n",
    "        return metapmf, mix\n",
    "```\n",
    "\n",
    "- Resultados para as cinco espécies com mais leituras, responsáveis por 23% das 400 leituras.\n",
    "- A estimativa mais provável para sua prevalência é de 20%, com intervalo confiável de 90% entre 17% e 23%."
   ]
  },
  {
   "cell_type": "markdown",
   "metadata": {},
   "source": [
    "## 15.10 - Distribuições preditivas"
   ]
  },
  {
   "cell_type": "markdown",
   "metadata": {},
   "source": [
    "![](post_15_10.png)\n",
    "\n",
    "Mostra 100 curvas de rarefação simuladas para o sujeito B1242\n",
    "\n",
    "1. Se estamos planejando coletar leituras adicionais, podemos prever quantas novas espécies provavelmente descobriremos?\n",
    "2. Quantas leituras adicionais são necessárias para aumentar a fração de espécies observadas para um determinado limite?\n",
    "\n",
    "Usar as distribuições posteriores para simular possíveis eventos futuros e calcular distribuições preditivas para o número de espécies e fração do total.\n",
    "\n",
    "O núcleo dessas simulações se parece com o seguinte:\n",
    "\n",
    "- Escolha n de sua distribuição posterior.\n",
    "- Escolha uma prevalência para cada espécie, incluindo possíveis espécies não vistas, usando a distribuição Dirichlet.\n",
    "- Gere uma sequência aleatória de observações futuras.\n",
    "- Calcule o número de novas espécies, num_new em função do número de leituras adicionais, k.\n",
    "- Repita as etapas anteriores e acumule a distribuição conjunta de num_newe k.\n",
    "\n",
    "```python\n",
    "# class Subject\n",
    "\n",
    "    def RunSimulation(self, num_reads):\n",
    "        m, seen = self.GetSeenSpecies()\n",
    "        n, observations = self.GenerateObservations(num_reads)\n",
    "\n",
    "        curve = []\n",
    "        for k, obs in enumerate(observations):\n",
    "            seen.add(obs)\n",
    "\n",
    "            num_new = len(seen) - m\n",
    "            curve.append((k+1, num_new))\n",
    "\n",
    "        return curve\n",
    "```\n",
    "\n",
    "- **num_reads** é o número de leituras adicionais a serem simuladas.\n",
    "- **m** é o número de espécies vistas.\n",
    "- **seen** é um conjunto de cadeias com um nome único para cada espécie.\n",
    "- **n** é um valor aleatório da distribuição posterior\n",
    "- **observations** é uma sequência aleatória de nomes de espécies.\n",
    "\n",
    "O resultado do RunSimulation é uma curva de rarefação.\n",
    "\n",
    "```python\n",
    "#class Subject\n",
    "\n",
    "    def GetSeenSpecies(self):\n",
    "        names = self.GetNames()\n",
    "        m = len(names)\n",
    "        seen = set(SpeciesGenerator(names, m))\n",
    "        return m, seen\n",
    "    \n",
    "    def SpeciesGenerator(names, num):\n",
    "    i = 0\n",
    "    for name in names:\n",
    "        yield '%s-%d' % (name, i)\n",
    "        i += 1\n",
    "\n",
    "    while i < num:\n",
    "        yield 'unseen-%d' % i\n",
    "        i += 1\n",
    "```\n",
    "- **GetNames** retorna a lista de nomes de espécies que aparecem nos arquivos de dados;\n",
    "- **SpeciesGenerator** para estender cada nome com um número de série\n",
    "\n",
    "```python\n",
    "# class Subject\n",
    "\n",
    "    def GenerateObservations(self, num_reads):\n",
    "        n, prevalences = self.suite.SamplePosterior()\n",
    "\n",
    "        names = self.GetNames()\n",
    "        name_iter = SpeciesGenerator(names, n)\n",
    "\n",
    "        d = dict(zip(name_iter, prevalences))\n",
    "        cdf = thinkbayes.MakeCdfFromDict(d)\n",
    "        observations = cdf.Sample(num_reads)\n",
    "\n",
    "        return n, observations\n",
    "```\n",
    "**num_reads** é o número de leituras adicionais a serem geradas. \n",
    "**n** e **prevalences** são amostras da distribuição posterior.\n",
    "\n",
    "```python\n",
    "def SamplePosterior(self):\n",
    "    pmf = self.DistOfN()\n",
    "    n = pmf.Random()\n",
    "    prevalences = self.SamplePrevalences(n)\n",
    "    return n, prevalences\n",
    "\n",
    "def SamplePrevalences(self, n):\n",
    "    params = self.params[:n]\n",
    "    gammas = numpy.random.gamma(params)\n",
    "    gammas /= gammas.sum()\n",
    "    return gammas\n",
    "```\n",
    "\n",
    "SamplePrevalences, que gera uma amostra de prevalências condicionadas em n\n",
    "\n",
    "- Podemos estimar que, após mais 400 leituras, provavelmente encontraremos 2 a 6 novas espécies."
   ]
  },
  {
   "cell_type": "markdown",
   "metadata": {},
   "source": [
    "## 15.11 - A posteriori Conjunta"
   ]
  },
  {
   "cell_type": "markdown",
   "metadata": {},
   "source": [
    "![](post_15_11_joint.png)\n",
    "\n",
    "Distribuições do número de novas espécies condicionadas ao número de leituras adicionais.\n",
    "\n",
    "```python\n",
    "def MakeJointPredictive(curves):\n",
    "    joint = thinkbayes.Joint()\n",
    "    for curve in curves:\n",
    "        for k, num_new in curve:\n",
    "            joint.Incr((k, num_new))\n",
    "    joint.Normalize()\n",
    "    return joint\n",
    "```\n",
    "\n",
    "- Simulações para estimar a distribuição conjunta de num_new;\n",
    "- Obter a distribuição condicionada em qualquer valor de k;\n",
    "- Dada uma distribuição conjunta, podemos obter uma condicionada em k;\n",
    "\n",
    "```python\n",
    "def MakeConditionals(curves, ks):\n",
    "    joint = MakeJointPredictive(curves)\n",
    "\n",
    "    cdfs = []\n",
    "    for k in ks:\n",
    "        pmf = joint.Conditional(1, 0, k)\n",
    "        pmf.name = 'k=%d' % k\n",
    "        cdf = pmf.MakeCdf()\n",
    "        cdfs.append(cdf)\n",
    "\n",
    "    return cdfs\n",
    "```\n",
    "- Após 100 leituras, o número médio previsto de novas espécies é 2; o intervalo de credibilidade de 90% é de 0 a 5. \n",
    "- Após 800 leituras, esperamos ver de 3 a 12 novas espécies."
   ]
  },
  {
   "cell_type": "markdown",
   "metadata": {},
   "source": [
    "## 15.12 - Cobertura"
   ]
  },
  {
   "cell_type": "markdown",
   "metadata": {},
   "source": [
    "![](cdf_15_12.png)\n",
    "\n",
    "CDF complementar de cobertura para uma série de leituras adicionais.\n",
    "\n",
    "A última pergunta que queremos responder é: \"Quantas leituras adicionais são necessárias para aumentar a fração de espécies observadas para um determinado limite?\"\n",
    "\n",
    "Uma versão do RunSimulation que calcule a fração das espécies observadas em vez do número de novas espécies.\n",
    "\n",
    "```python\n",
    "# class Subject\n",
    "\n",
    "    def RunSimulation(self, num_reads):\n",
    "        m, seen = self.GetSeenSpecies()\n",
    "        n, observations = self.GenerateObservations(num_reads)\n",
    "\n",
    "        curve = []\n",
    "        for k, obs in enumerate(observations):\n",
    "            seen.add(obs)\n",
    "\n",
    "            frac_seen = len(seen) / float(n)\n",
    "            curve.append((k+1, frac_seen))\n",
    "\n",
    "        return curve\n",
    "```\n",
    "\n",
    "Para cada valor de k, fazemos um Cdf de fracs\n",
    "\n",
    "```python\n",
    "def MakeFracCdfs(self, curves):\n",
    "        d = {}\n",
    "        for curve in curves:\n",
    "            for k, frac in curve:\n",
    "                d.setdefault(k, []).append(frac)\n",
    "\n",
    "        cdfs = {}\n",
    "        for k, fracs in d.iteritems():\n",
    "            cdf = thinkbayes.MakeCdfFromList(fracs)\n",
    "            cdfs[k] = cdf\n",
    "\n",
    "        return cdfs\n",
    "```\n",
    "\n",
    "- Cdf representa a distribuição da cobertura após k leituras.\n",
    "\n",
    "- Com isso, respondemos às quatro perguntas que compõem o problema de espécies invisíveis"
   ]
  },
  {
   "cell_type": "code",
   "execution_count": null,
   "metadata": {},
   "outputs": [],
   "source": []
  }
 ],
 "metadata": {
  "kernelspec": {
   "display_name": "Python 3",
   "language": "python",
   "name": "python3"
  },
  "language_info": {
   "codemirror_mode": {
    "name": "ipython",
    "version": 3
   },
   "file_extension": ".py",
   "mimetype": "text/x-python",
   "name": "python",
   "nbconvert_exporter": "python",
   "pygments_lexer": "ipython3",
   "version": "3.6.8"
  }
 },
 "nbformat": 4,
 "nbformat_minor": 4
}
