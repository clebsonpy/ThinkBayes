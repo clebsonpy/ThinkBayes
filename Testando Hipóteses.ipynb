{
 "cells": [
  {
   "cell_type": "markdown",
   "metadata": {},
   "source": [
    "# 11 - Testando Hipóteses"
   ]
  },
  {
   "cell_type": "markdown",
   "metadata": {},
   "source": [
    "### 11.1 - Voltar ao problema do euro"
   ]
  },
  {
   "cell_type": "markdown",
   "metadata": {},
   "source": [
    "- Problema apresentado no capítulo IV. \n",
    "- Uma moeda belga foi lançada 250 vezes, os resultados foram, 140 caras e 110 coroas;\n",
    "    - Mas esses dados evidenciam que a moeda é tendenciosa e não justa?\n",
    "    \n",
    "- Os dados sejam a favor de uma hipótese se o fator de Bayes for maior que 1.\n",
    "\n",
    "- Duas hipóteses a serem consideradas:\n",
    "    - F para a hipótese de que a moeda é justa;\n",
    "    - B para a hipótese de que é tendenciosa."
   ]
  },
  {
   "cell_type": "code",
   "execution_count": 20,
   "metadata": {},
   "outputs": [],
   "source": [
    "import thinkbayes\n",
    "\n",
    "class Euro(thinkbayes.Suite):\n",
    "    def Likelihood(self, data, hypo):\n",
    "        x = hypo / 100.0\n",
    "        heads, tails = data\n",
    "        like = x**heads * (1-x)**tails\n",
    "        return like"
   ]
  },
  {
   "cell_type": "code",
   "execution_count": 21,
   "metadata": {},
   "outputs": [
    {
     "name": "stdout",
     "output_type": "stream",
     "text": [
      "5.527147875260445e-76\n"
     ]
    }
   ],
   "source": [
    "euro = Euro()\n",
    "data = (140, 110)\n",
    "hypo = 50\n",
    "likeF = euro.Likelihood(data, hypo)\n",
    "print(likeF)"
   ]
  },
  {
   "cell_type": "markdown",
   "metadata": {},
   "source": [
    "- Probabilidade muito pequena;\n",
    "- Necessárias duas probabilidade para fazer uma relação;\n",
    "- Não é fácil calcular a verossimilhança de B;\n",
    "- Examinar os dados antes de definirmos a hipótese;\n",
    "    - Definiu como tendêncioso a probabilidade de cara sendo 140/250;"
   ]
  },
  {
   "cell_type": "code",
   "execution_count": 22,
   "metadata": {},
   "outputs": [
    {
     "name": "stdout",
     "output_type": "stream",
     "text": [
      "3.358289985239045e-75\n"
     ]
    }
   ],
   "source": [
    "actual_percent = 100.0 * 140 / 250\n",
    "likeB = euro.Likelihood(data, actual_percent)\n",
    "print(like)"
   ]
  },
  {
   "cell_type": "code",
   "execution_count": 23,
   "metadata": {},
   "outputs": [
    {
     "data": {
      "text/plain": [
       "6.075990838368512"
      ]
     },
     "execution_count": 23,
     "metadata": {},
     "output_type": "execute_result"
    }
   ],
   "source": [
    "likeB/likeF"
   ]
  },
  {
   "cell_type": "markdown",
   "metadata": {},
   "source": [
    "- Usar os dados para definir uma hipótese, torna essa hipótese fictícia;\n",
    "    - Qualquer conjunto de dados seria uma evidência a favor de B;"
   ]
  },
  {
   "cell_type": "markdown",
   "metadata": {},
   "source": [
    "### 11.2 Fazendo uma comparação justa"
   ]
  },
  {
   "cell_type": "markdown",
   "metadata": {},
   "source": [
    "- Definir B sem examinar os dados;\n",
    "- A forma da moeda tem algum efeito em x;\n",
    "- Eu acho que a moeda é tendenciosa, de modo que x seja 0.6 ou 0.4, mas não tenho certeza de qual;"
   ]
  },
  {
   "cell_type": "code",
   "execution_count": 24,
   "metadata": {},
   "outputs": [
    {
     "data": {
      "text/plain": [
       "7.357772729537146e-76"
      ]
     },
     "execution_count": 24,
     "metadata": {},
     "output_type": "execute_result"
    }
   ],
   "source": [
    "like40 = euro.Likelihood(data, 40)\n",
    "like60 = euro.Likelihood(data, 60)\n",
    "likelihood = 0.5 * like40 + 0.5 * like60\n",
    "likelihood"
   ]
  },
  {
   "cell_type": "markdown",
   "metadata": {},
   "source": [
    "Fator de Bayes"
   ]
  },
  {
   "cell_type": "code",
   "execution_count": 25,
   "metadata": {},
   "outputs": [
    {
     "data": {
      "text/plain": [
       "1.3312060570100888"
      ]
     },
     "execution_count": 25,
     "metadata": {},
     "output_type": "execute_result"
    }
   ],
   "source": [
    "fb = likelihood/likeF\n",
    "fb"
   ]
  },
  {
   "cell_type": "markdown",
   "metadata": {},
   "source": [
    "- Não tem idéia do valor de x;\n",
    "- b_uniform, para representar sub-hipóteses de 0 a 100."
   ]
  },
  {
   "cell_type": "code",
   "execution_count": 26,
   "metadata": {},
   "outputs": [
    {
     "data": {
      "text/plain": [
       "0.9900990099009908"
      ]
     },
     "execution_count": 26,
     "metadata": {},
     "output_type": "execute_result"
    }
   ],
   "source": [
    "b_uniform = Euro(range(0, 101))\n",
    "b_uniform.Remove(50)\n",
    "b_uniform.Normalize()"
   ]
  },
  {
   "cell_type": "code",
   "execution_count": 27,
   "metadata": {},
   "outputs": [],
   "source": [
    "def SuiteLikelihood(suite, data):\n",
    "    total = 0\n",
    "    for hypo, prob in suite.Items():\n",
    "        like = suite.Likelihood(data, hypo)\n",
    "        total += prob * like\n",
    "    return total"
   ]
  },
  {
   "cell_type": "code",
   "execution_count": 28,
   "metadata": {},
   "outputs": [],
   "source": [
    "like = SuiteLikelihood(b_uniform, data)"
   ]
  },
  {
   "cell_type": "code",
   "execution_count": 29,
   "metadata": {},
   "outputs": [
    {
     "data": {
      "text/plain": [
       "2.5796490229198124e-76"
      ]
     },
     "execution_count": 29,
     "metadata": {},
     "output_type": "execute_result"
    }
   ],
   "source": [
    "like"
   ]
  },
  {
   "cell_type": "code",
   "execution_count": 30,
   "metadata": {},
   "outputs": [
    {
     "data": {
      "text/plain": [
       "0.4667233591607601"
      ]
     },
     "execution_count": 30,
     "metadata": {},
     "output_type": "execute_result"
    }
   ],
   "source": [
    "# Fator Bayes\n",
    "like/likeF"
   ]
  },
  {
   "cell_type": "markdown",
   "metadata": {},
   "source": [
    "- Os dados são uma evidencia fraca de b_uniform, em comparação com F."
   ]
  },
  {
   "cell_type": "code",
   "execution_count": 31,
   "metadata": {},
   "outputs": [],
   "source": [
    "class Euro(thinkbayes.Suite):\n",
    "    def Likelihood(self, data, hypo):\n",
    "        x = hypo / 100.0\n",
    "        heads, tails = data\n",
    "        like = x**heads * (1-x)**tails\n",
    "        return like\n",
    "    \n",
    "    def Update(self, data):\n",
    "        for hypo in self.Values():\n",
    "            like = self.Likelihood(data, hypo)\n",
    "            self.Mult(hypo, like)\n",
    "        return self.Normalize()\n",
    "    \n",
    "    def Normalize(self):\n",
    "        total = self.Total()\n",
    "        \n",
    "        factor = 1.0 / total\n",
    "        for x in self.d:\n",
    "            self.d[x] *= factor\n",
    "\n",
    "        return total"
   ]
  },
  {
   "cell_type": "code",
   "execution_count": 32,
   "metadata": {},
   "outputs": [
    {
     "data": {
      "text/plain": [
       "2.5796490229198124e-76"
      ]
     },
     "execution_count": 32,
     "metadata": {},
     "output_type": "execute_result"
    }
   ],
   "source": [
    "b_uniform = Euro(range(0, 101))\n",
    "b_uniform.Remove(50)\n",
    "b_uniform.Normalize()\n",
    "likelihood = b_uniform.Update(data)\n",
    "likelihood"
   ]
  },
  {
   "cell_type": "code",
   "execution_count": 34,
   "metadata": {},
   "outputs": [
    {
     "data": {
      "text/plain": [
       "0.4667233591607601"
      ]
     },
     "execution_count": 34,
     "metadata": {},
     "output_type": "execute_result"
    }
   ],
   "source": [
    "#Fator bayes\n",
    "fb = likelihood/likeF\n",
    "fb"
   ]
  },
  {
   "cell_type": "markdown",
   "metadata": {},
   "source": [
    "### 11.3 - A priori triangular"
   ]
  },
  {
   "cell_type": "markdown",
   "metadata": {},
   "source": [
    "- Maior probabilidade a valores de x próximos a 50%;"
   ]
  },
  {
   "cell_type": "code",
   "execution_count": 35,
   "metadata": {},
   "outputs": [],
   "source": [
    "def TrianglePrior():\n",
    "    \"\"\"Makes a Suite with a triangular prior.\"\"\"\n",
    "    suite = Euro()\n",
    "    for x in range(0, 51):\n",
    "        suite.Set(x, x)\n",
    "    for x in range(51, 101):\n",
    "        suite.Set(x, 100-x) \n",
    "    suite.Normalize()\n",
    "    return suite"
   ]
  },
  {
   "cell_type": "code",
   "execution_count": 36,
   "metadata": {},
   "outputs": [
    {
     "data": {
      "text/plain": [
       "4.6354035014189224e-76"
      ]
     },
     "execution_count": 36,
     "metadata": {},
     "output_type": "execute_result"
    }
   ],
   "source": [
    "b_triangle = TrianglePrior()\n",
    "likelihood = b_triangle.Update(data)\n",
    "likelihood"
   ]
  },
  {
   "cell_type": "code",
   "execution_count": 37,
   "metadata": {},
   "outputs": [
    {
     "data": {
      "text/plain": [
       "0.838661024823856"
      ]
     },
     "execution_count": 37,
     "metadata": {},
     "output_type": "execute_result"
    }
   ],
   "source": [
    "#Fator Bayes\n",
    "likelihood/likeF"
   ]
  },
  {
   "cell_type": "markdown",
   "metadata": {},
   "source": [
    "- Os dados são evidência fraca contra B."
   ]
  },
  {
   "cell_type": "markdown",
   "metadata": {},
   "source": [
    "Dependendo da definição escolhida, os dados podem fornecer evidências a favor ou contra a hipótese de que a moeda é tendenciosa, mas em ambos os casos é uma evidência relativamente fraca."
   ]
  },
  {
   "cell_type": "code",
   "execution_count": null,
   "metadata": {},
   "outputs": [],
   "source": []
  }
 ],
 "metadata": {
  "kernelspec": {
   "display_name": "Python 3",
   "language": "python",
   "name": "python3"
  },
  "language_info": {
   "codemirror_mode": {
    "name": "ipython",
    "version": 3
   },
   "file_extension": ".py",
   "mimetype": "text/x-python",
   "name": "python",
   "nbconvert_exporter": "python",
   "pygments_lexer": "ipython3",
   "version": "3.6.9"
  }
 },
 "nbformat": 4,
 "nbformat_minor": 4
}
