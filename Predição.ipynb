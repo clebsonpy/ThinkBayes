{
 "cells": [
  {
   "cell_type": "markdown",
   "metadata": {},
   "source": [
    "## Predição"
   ]
  },
  {
   "cell_type": "markdown",
   "metadata": {},
   "source": [
    "### O problema do Boston Bruins"
   ]
  },
  {
   "cell_type": "markdown",
   "metadata": {},
   "source": [
    "Em uma série de 7 jogos, o Boston perdeu os dois primeiros jogos por 0-1 e 2-3, depois venceu os próximos dois por 8-1 e 4-0. Neste ponto da série, qual é a **probabilidade de o Boston vencer o próximo jogo** e qual a **probabilidade de vencer o campeonato**?"
   ]
  },
  {
   "cell_type": "markdown",
   "metadata": {},
   "source": [
    "Suposições\n",
    "- É razoável acreditar que os **gols no hóquei** seja pelo menos aproximadamente um **processo de Poisson**; \n",
    "- Podemos assumir que, contra um adversário em particular, cada equipe, a longo prazo, tem algumas médias de gols, denotados λ."
   ]
  },
  {
   "cell_type": "markdown",
   "metadata": {},
   "source": [
    "Estratégia para responder a essa pergunta é\n",
    "\n",
    "- Use as **estatísticas dos jogos anteriores** para escolher uma distribuição **priori** para λ.\n",
    "- Use a pontuação dos **quatro primeiros jogos** para estimar λ para cada equipe.\n",
    "- Use as **distribuições posteriores de λ** para calcular a **distribuição de gols** para cada equipe, a **distribuição de diferencia de gols** e a **probabilidade de que cada time ganhe o próximo jogo**.\n",
    "- Calcule a **probabilidade** de cada equipe **vencer** a série."
   ]
  },
  {
   "cell_type": "markdown",
   "metadata": {},
   "source": [
    "A **distribuição priori** é aproximadamente **gaussiana**, com média de 2,8 e desvio padrão de 0,3."
   ]
  },
  {
   "cell_type": "markdown",
   "metadata": {},
   "source": [
    "### Processos de Poisson"
   ]
  },
  {
   "cell_type": "markdown",
   "metadata": {},
   "source": [
    "Os processos de Poisson foi usado para **modelar os gols marcados** em um jogo de hóquei;"
   ]
  },
  {
   "cell_type": "markdown",
   "metadata": {},
   "source": [
    "- É uma versão contínua de um processo de Bernoulli;\n",
    "- Em muitos sistemas reais, a probabilidade de um evento muda com o tempo.\n",
    "    - Os gols são **mais ou menos prováveis** em momentos diferentes **durante um jogo**."
   ]
  },
  {
   "cell_type": "markdown",
   "metadata": {},
   "source": [
    "Podemos calcular a distribuição de gols por jogo de forma eficiente e a distribuição do tempo entre os gols."
   ]
  },
  {
   "cell_type": "markdown",
   "metadata": {},
   "source": [
    "### As posteriores"
   ]
  },
  {
   "cell_type": "code",
   "execution_count": 4,
   "metadata": {},
   "outputs": [],
   "source": [
    "def Likelihood(self, data, hypo):\n",
    "    lam = hypo\n",
    "    k = data\n",
    "    like = thinkbayes.EvalPoissonPmf(k, lam)\n",
    "    return like"
   ]
  },
  {
   "cell_type": "markdown",
   "metadata": {},
   "source": [
    "Cada **hipótese** é um **valor possível de λ**; **data** é o **número observado de gols**, k."
   ]
  },
  {
   "cell_type": "raw",
   "metadata": {},
   "source": [
    "suite1 = Hóquei ('bruins')\n",
    "suite1.UpdateSet ([0, 2, 8, 4])\n",
    "\n",
    "suite2 = Hóquei ('canucks')\n",
    "suite2.UpdateSet ([1, 3, 1, 0]\n",
    "\n",
    "- atualizá-los com os gols dos quatro primeiros jogos."
   ]
  },
  {
   "cell_type": "markdown",
   "metadata": {},
   "source": [
    "### A distribuição de gols"
   ]
  },
  {
   "cell_type": "markdown",
   "metadata": {},
   "source": [
    "Para calcular a **probabilidade** de cada **equipe vencer** o próximo jogo, precisamos calcular a **distribuição de gols(único jogo)** para cada equipe;"
   ]
  },
  {
   "cell_type": "markdown",
   "metadata": {},
   "source": [
    "Não sabemos o valor de lambda, mas temos uma distribuição para os **valores posséveis de lambda (distribuição de gols é Poisson)**;"
   ]
  },
  {
   "cell_type": "code",
   "execution_count": 5,
   "metadata": {},
   "outputs": [],
   "source": [
    "def MakePoissonPmf(lam, high):\n",
    "    pmf = Pmf()\n",
    "    for k in xrange(0, high+1):\n",
    "        p = EvalPoissonPmf(k, lam)\n",
    "        pmf.Set(k, p)\n",
    "    pmf.Normalize()\n",
    "    return pmf"
   ]
  },
  {
   "cell_type": "markdown",
   "metadata": {},
   "source": [
    "A **distribuição geral de gols** é uma **mistura** dessas distribuições de Poisson"
   ]
  },
  {
   "cell_type": "code",
   "execution_count": 6,
   "metadata": {},
   "outputs": [],
   "source": [
    "def MakeGoalPmf(suite):\n",
    "    metapmf = thinkbayes.Pmf()\n",
    "\n",
    "    for lam, prob in suite.Items():\n",
    "        pmf = thinkbayes.MakePoissonPmf(lam, 10)\n",
    "        metapmf.Set(pmf, prob)\n",
    "\n",
    "    mix = thinkbayes.MakeMixture(metapmf)\n",
    "    return mix"
   ]
  },
  {
   "cell_type": "markdown",
   "metadata": {},
   "source": [
    "### A probabilidade de ganhar"
   ]
  },
  {
   "cell_type": "markdown",
   "metadata": {},
   "source": [
    "Para obter a **probabilidade de vitória**, primeiro calculamos a **distribuição do diferencial de gols**:"
   ]
  },
  {
   "cell_type": "code",
   "execution_count": 7,
   "metadata": {},
   "outputs": [],
   "source": [
    "def winnig():\n",
    "    goal_dist1 = MakeGoalPmf(suite1)\n",
    "    goal_dist2 = MakeGoalPmf(suite2)\n",
    "    diff = goal_dist1 - goal_dist2"
   ]
  },
  {
   "cell_type": "markdown",
   "metadata": {},
   "source": [
    "Se o diferencial de gols for **positivo**, os **Bruins** vencem; se **negativo**, os **Canucks** vencem; se 0, é um empate:"
   ]
  },
  {
   "cell_type": "code",
   "execution_count": 8,
   "metadata": {},
   "outputs": [],
   "source": [
    "def prob():\n",
    "    p_win = diff.ProbGreater(0)\n",
    "    p_loss = diff.ProbLess(0)\n",
    "    p_tie = diff.Prob(0)"
   ]
  },
  {
   "cell_type": "markdown",
   "metadata": {},
   "source": [
    "Com as distribuições da seção anterior, **p_win é de 46%**, **p_loss é de 37%** e **p_tie é de 17%.**"
   ]
  },
  {
   "cell_type": "markdown",
   "metadata": {},
   "source": [
    "### Morte súbita"
   ]
  },
  {
   "cell_type": "markdown",
   "metadata": {},
   "source": [
    "A estatística importante não é de **gols** por jogo, mas de **tempo** até o **primeiro gol**"
   ]
  },
  {
   "cell_type": "markdown",
   "metadata": {},
   "source": [
    "**Tempo** entre os gols é distribuído **exponencialmente**;"
   ]
  },
  {
   "cell_type": "markdown",
   "metadata": {},
   "source": [
    "Temos uma distribuição posteriori de valores possíveis\n",
    " - criamos um meta-Pmf e \n",
    " - calculamos uma mistura de Pmfs"
   ]
  },
  {
   "cell_type": "code",
   "execution_count": 9,
   "metadata": {},
   "outputs": [],
   "source": [
    "def MakeGoalTimePmf(suite):\n",
    "    metapmf = thinkbayes.Pmf()\n",
    "\n",
    "    for lam, prob in suite.Items():\n",
    "        pmf = thinkbayes.MakeExponentialPmf(lam, high=2, n=2001)\n",
    "        metapmf.Set(pmf, prob)\n",
    "\n",
    "    mix = thinkbayes.MakeMixture(metapmf)\n",
    "    return mix"
   ]
  },
  {
   "cell_type": "markdown",
   "metadata": {},
   "source": [
    "O **Bruins** têm mais chances de marcar em **tempos mais curtos**;\n",
    "\n",
    "O tempo de **Canucks** marcar é provável que seja **mais longo**;"
   ]
  },
  {
   "cell_type": "code",
   "execution_count": 13,
   "metadata": {},
   "outputs": [],
   "source": [
    "def prob_prorro():\n",
    "    time_dist1 = MakeGoalTimePmf(suite1)\n",
    "    time_dist2 = MakeGoalTimePmf(suite2)\n",
    "    p_overtime = thinkbayes.PmfProbLess(time_dist1, time_dist2)"
   ]
  },
  {
   "cell_type": "markdown",
   "metadata": {},
   "source": [
    "Para os Bruins, a probabilidade de ganhar na prorrogação é de 52%."
   ]
  },
  {
   "cell_type": "markdown",
   "metadata": {},
   "source": [
    "Para os Bruins, a chance geral de ganhar o próximo jogo é de 55%."
   ]
  },
  {
   "cell_type": "code",
   "execution_count": 12,
   "metadata": {},
   "outputs": [],
   "source": [
    "def prob_prox():\n",
    "    p_tie = diff.Prob(0)\n",
    "    p_overtime = thinkbayes.PmfProbLess(time_dist1, time_dist2)\n",
    "    p_win = diff.ProbGreater(0) + p_tie * p_overtime"
   ]
  },
  {
   "cell_type": "markdown",
   "metadata": {},
   "source": [
    "A chance dos Bruins de vencer a série é de 57%"
   ]
  },
  {
   "cell_type": "code",
   "execution_count": 14,
   "metadata": {},
   "outputs": [],
   "source": [
    "def prob_serie():\n",
    "    # win the next two\n",
    "    p_series = p_win**2\n",
    "\n",
    "    # split the next two, win the third\n",
    "    p_series += 2 * p_win * (1-p_win) * p_win"
   ]
  },
  {
   "cell_type": "markdown",
   "metadata": {},
   "source": [
    "### Discussão"
   ]
  },
  {
   "cell_type": "markdown",
   "metadata": {},
   "source": [
    "- Análise neste capítulo é baseada em decisões de modelagem;\n",
    "- Usou apenas os quatro primeiros jogos da série do campeonato, \n",
    "- Se usar mais jogos anteriores, talvez seja melhor dar mais peso aos jogos recentes.\n",
    "- Poderíamos usar os resultados de todos os jogos da temporada regular para estimar a taxa de pontuação de cada equipe;\n",
    "- Os resultados são sensíveis a priori."
   ]
  },
  {
   "cell_type": "code",
   "execution_count": null,
   "metadata": {},
   "outputs": [],
   "source": []
  }
 ],
 "metadata": {
  "kernelspec": {
   "display_name": "Python 3",
   "language": "python",
   "name": "python3"
  },
  "language_info": {
   "codemirror_mode": {
    "name": "ipython",
    "version": 3
   },
   "file_extension": ".py",
   "mimetype": "text/x-python",
   "name": "python",
   "nbconvert_exporter": "python",
   "pygments_lexer": "ipython3",
   "version": "3.6.8"
  }
 },
 "nbformat": 4,
 "nbformat_minor": 4
}
