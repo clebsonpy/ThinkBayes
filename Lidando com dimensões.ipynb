{
 "cells": [
  {
   "cell_type": "markdown",
   "metadata": {},
   "source": [
    "# 15 - Lidando com dimensões"
   ]
  },
  {
   "cell_type": "code",
   "execution_count": 1,
   "metadata": {},
   "outputs": [],
   "source": [
    "import thinkbayes"
   ]
  },
  {
   "cell_type": "markdown",
   "metadata": {},
   "source": [
    "## 15.1 - Bactérias do umbigo"
   ]
  },
  {
   "cell_type": "markdown",
   "metadata": {},
   "source": [
    "- Projeto com objetivo de identificar as especies de bactérias que pode ser encontrado em umbigo humanos;\n",
    "- É de interesse do microbioma humano, o conjunto de migroorganismo que vive na pele humana e partes do corpo;"
   ]
  },
  {
   "cell_type": "markdown",
   "metadata": {},
   "source": [
    "- Os pesquisadores coletaram amostras de 60 volumtários;\n",
    "- Usou o método multiplex pyrosequencing para extrair e sequenciar fragmentos de rDNA 16S;"
   ]
  },
  {
   "cell_type": "markdown",
   "metadata": {},
   "source": [
    "Podemos usar esses dados para responder a várias questões relacionadas:\n",
    "\n",
    "- Com base no número de espécies observadas, podemos estimar o número total de espécies no ambiente?\n",
    "- Podemos estimar a prevalência de cada espécie, ou seja, a fração da população total pertencente a cada espécie?\n",
    "- Se estamos planejando coletar amostras adicionais, podemos prever quantas novas espécies poderemos descobrir?\n",
    "- Quantas leituras adicionais são necessárias para aumentar a fração de espécies observadas até um determinado limite?"
   ]
  },
  {
   "cell_type": "markdown",
   "metadata": {},
   "source": [
    "**Problema das Espécies Invisíveis**"
   ]
  },
  {
   "cell_type": "markdown",
   "metadata": {},
   "source": [
    "## 15.2 - Leões, tigres e ursos"
   ]
  },
  {
   "cell_type": "markdown",
   "metadata": {},
   "source": [
    "Problema simples onde conhecemos 3 espécies;\n",
    "- 3 Leões, 2 Tigres e 1 Urso;\n",
    "\n",
    "Chance igual de observar qualquer animal, o de vermos cada espécie é dada pela distribuição multinomial;\n",
    "A verossimilhança de ver 3 leões, 2 tigres e um urso é proporcional a\n",
    "```python\n",
    "    p_lion**3 * p_tiger**2 * p_bear**1\n",
    "```\n",
    "\n",
    "- **Distribuição Beta**: Uma abordagem atentadora, mas não correta;\n",
    "\n",
    "```python\n",
    "    beta = thinkbayes.Beta()\n",
    "    beta.Update((3, 3))\n",
    "    print beta.MaximumLikelihood()\n",
    "```\n",
    "- `p_lion = 50%`\n",
    "- `p_tiger = 33%`\n",
    "- `p_bear = 17%`"
   ]
  },
  {
   "cell_type": "markdown",
   "metadata": {},
   "source": [
    "Problemas:\n",
    "1. A a priori não é adequada para esse "
   ]
  }
 ],
 "metadata": {
  "kernelspec": {
   "display_name": "Python 3",
   "language": "python",
   "name": "python3"
  },
  "language_info": {
   "codemirror_mode": {
    "name": "ipython",
    "version": 3
   },
   "file_extension": ".py",
   "mimetype": "text/x-python",
   "name": "python",
   "nbconvert_exporter": "python",
   "pygments_lexer": "ipython3",
   "version": "3.6.8"
  }
 },
 "nbformat": 4,
 "nbformat_minor": 4
}
