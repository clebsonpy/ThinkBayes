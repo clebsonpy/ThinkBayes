{
 "cells": [
  {
   "cell_type": "markdown",
   "metadata": {},
   "source": [
    "## 12 - Evidência"
   ]
  },
  {
   "cell_type": "markdown",
   "metadata": {},
   "source": [
    "### 12.1 - Interpretando as pontuações do SAT"
   ]
  },
  {
   "cell_type": "markdown",
   "metadata": {},
   "source": [
    "- SAT: Um teste padronizado destinado a medir a preparação para o trabalho de nível universitário em matemática;\n",
    "\n",
    "Se Alice obteve 780 e Bob obteve um 740 (de um possível 800), convém saber se essa diferença é uma evidência de que Alice está melhor preparada que Bob e qual é a força dessa evidência.\n",
    "\n",
    "- Quão forte é a evidência de que Alice está melhor preparada que Bob?\n",
    "- Finjo, temporariamente, que todas as perguntas do SAT são igualmente difíceis.\n",
    "\n",
    "- `p_correct`: Probabilidade de responder corretamente a qualquer pergunta;"
   ]
  },
  {
   "cell_type": "markdown",
   "metadata": {},
   "source": [
    "### 12.2 A escala"
   ]
  },
  {
   "cell_type": "markdown",
   "metadata": {},
   "source": [
    "- Entender o processo de pontuação e dimensionamento do SAT;\n",
    "- Pontuação bruta com base no número de perguntas corretas e incorretas;\n",
    "- A pontuação é escalada no intervalo de 200 a 800;\n",
    "\n",
    "- A pontuação bruta é o número de perguntas respondidas corretamente, menos uma penalidade de 1/4 de ponto para cada pergunta respondida incorretamente.\n"
   ]
  },
  {
   "cell_type": "markdown",
   "metadata": {},
   "source": [
    "### 12.3 - A priori"
   ]
  },
  {
   "cell_type": "markdown",
   "metadata": {},
   "source": [
    "- Podemos usar a distribuição de pontuações brutas para modelar a distribuição a priori de `p_correct`."
   ]
  },
  {
   "cell_type": "code",
   "execution_count": 2,
   "metadata": {},
   "outputs": [],
   "source": [
    "class Exam(object):\n",
    "\n",
    "    def __init__(self):\n",
    "        self.scale = ReadScale()\n",
    "        scores = ReadRanks()\n",
    "        score_pmf = thinkbayes.MakePmfFromDict(dict(scores))\n",
    "        self.raw = self.ReverseScale(score_pmf)\n",
    "        self.max_score = max(self.raw.Values())\n",
    "        self.prior = DivideValues(self.raw, self.max_score)"
   ]
  },
  {
   "cell_type": "markdown",
   "metadata": {},
   "source": [
    "![](p_corret.png)"
   ]
  },
  {
   "cell_type": "markdown",
   "metadata": {},
   "source": [
    "- Distribuição a priori de `p_correct` para os participantes do teste SAT.\n",
    "- Essa distribuição é aproximadamente gaussiana, mas é comprimida nos extremos\n",
    "- o SAT tem mais poder de diferenciar entre os participantes do teste dentro de dois desvios padrão da média e menos poder fora desse intervalo."
   ]
  },
  {
   "cell_type": "code",
   "execution_count": 4,
   "metadata": {},
   "outputs": [],
   "source": [
    "import thinkbayes\n",
    "class Sat(thinkbayes.Suite):\n",
    "\n",
    "    def __init__(self, exam, score):\n",
    "        thinkbayes.Suite.__init__(self)\n",
    "\n",
    "        self.exam = exam\n",
    "        self.score = score\n",
    "\n",
    "        # start with the prior distribution\n",
    "        for p_correct, prob in exam.prior.Items():\n",
    "            self.Set(p_correct, prob)\n",
    "\n",
    "        # update based on an exam score\n",
    "        self.Update(score)\n",
    "        \n",
    "    def Likelihood(self, data, hypo):\n",
    "        p_correct = hypo\n",
    "        score = data\n",
    "\n",
    "        k = self.exam.Reverse(score)\n",
    "        n = self.exam.max_score\n",
    "        like = thinkbayes.EvalBinomialPmf(k, n, p_correct)\n",
    "        return like"
   ]
  },
  {
   "cell_type": "markdown",
   "metadata": {},
   "source": [
    "- `hypo` é um valor hipotético de `p_correct`\n",
    "- `data` é uma pontuação escalada."
   ]
  },
  {
   "cell_type": "markdown",
   "metadata": {},
   "source": [
    "- Pontuação bruta como o número de respostas corretas, ignorando a penalidade por respostas erradas;\n",
    "- A verossimilhança é dada pela distribuição binomial, que calcula a probabilidade de k respostas corretas de n perguntas."
   ]
  },
  {
   "cell_type": "markdown",
   "metadata": {},
   "source": [
    "### 12.4 - Posteriori"
   ]
  },
  {
   "cell_type": "markdown",
   "metadata": {},
   "source": [
    "![](posteriori_12.png)"
   ]
  },
  {
   "cell_type": "markdown",
   "metadata": {},
   "source": [
    "- Distribuições posteriores de `p_correct` para Alice e Bob."
   ]
  },
  {
   "cell_type": "markdown",
   "metadata": {},
   "source": [
    "- Quão forte é a evidência de que Alice está melhor preparada que Bob?"
   ]
  },
  {
   "cell_type": "markdown",
   "metadata": {},
   "source": [
    "Para formular a pergunta em termos de teste de hipótese bayesiana, defino duas hipóteses:\n",
    "\n",
    "- A: `p_correct` mais alto para Alice do que para Bob.\n",
    "- B: `p_correct` mais alto para Bob do que para Alice."
   ]
  },
  {
   "cell_type": "markdown",
   "metadata": {},
   "source": [
    "Para calcular a verossimilhança de **A** , podemos enumerar todos os pares de valores das distribuições posteriores e somar a probabilidade total dos casos em que `p_correct` é maior para Alice do que para Bob."
   ]
  },
  {
   "cell_type": "code",
   "execution_count": 8,
   "metadata": {},
   "outputs": [],
   "source": [
    "class TopLevel(thinkbayes.Suite):\n",
    "\n",
    "    def Update(self, data):\n",
    "        a_sat, b_sat = data\n",
    "\n",
    "        a_like = thinkbayes.PmfProbGreater(a_sat, b_sat)\n",
    "        b_like = thinkbayes.PmfProbLess(a_sat, b_sat)\n",
    "        c_like = thinkbayes.PmfProbEqual(a_sat, b_sat)\n",
    "\n",
    "        a_like += c_like / 2\n",
    "        b_like += c_like / 2\n",
    "\n",
    "        self.Mult('A', a_like)\n",
    "        self.Mult('B', b_like)\n",
    "\n",
    "        self.Normalize()"
   ]
  },
  {
   "cell_type": "markdown",
   "metadata": {},
   "source": [
    "- **a_like** é a probabilidade total que `p_correct` é maior para Alice; \n",
    "- **b_like** é a probabilidade de que seja maior para Bob;\n",
    "- **c_like** é a probabilidade de serem \"iguais\";"
   ]
  },
  {
   "cell_type": "markdown",
   "metadata": {},
   "source": [
    "Se usarmos mais valores, c_like será menor e, no extremo, se `p_correct` for contínuo, c_like será zero;\n",
    "- c_like, tipo de erro de arredondamento e divido igualmente entre a_like e b_like."
   ]
  },
  {
   "cell_type": "markdown",
   "metadata": {},
   "source": [
    "- A verossimilhança de A é 0,79 e a verossimilhança de B é 0,21. \n",
    "- A razão de verossimilhança (ou fator Bayes) é de 3.8.\n",
    "    - O que significa que a evidência de que Alice é melhor que Bob em responder perguntas do SAT. \n",
    "\n",
    "A probabilidade de A é de 79%, o que significa que ainda há 21% de chance de Bob estar realmente melhor preparado."
   ]
  },
  {
   "cell_type": "markdown",
   "metadata": {},
   "source": [
    "### 12.5 - Um modelo melhor"
   ]
  },
  {
   "cell_type": "code",
   "execution_count": null,
   "metadata": {},
   "outputs": [],
   "source": []
  }
 ],
 "metadata": {
  "kernelspec": {
   "display_name": "Python 3",
   "language": "python",
   "name": "python3"
  },
  "language_info": {
   "codemirror_mode": {
    "name": "ipython",
    "version": 3
   },
   "file_extension": ".py",
   "mimetype": "text/x-python",
   "name": "python",
   "nbconvert_exporter": "python",
   "pygments_lexer": "ipython3",
   "version": "3.6.9"
  }
 },
 "nbformat": 4,
 "nbformat_minor": 4
}
