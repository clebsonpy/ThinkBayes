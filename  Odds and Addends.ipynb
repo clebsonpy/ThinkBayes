{
 "cells": [
  {
   "cell_type": "markdown",
   "metadata": {},
   "source": [
    "## Chances e Acréscimos"
   ]
  },
  {
   "cell_type": "markdown",
   "metadata": {},
   "source": [
    "### Chances"
   ]
  },
  {
   "cell_type": "markdown",
   "metadata": {},
   "source": [
    "As **chances a favor** de um evento são a razão entre a probabilidade de ocorrência e a probabilidade de não ocorrer."
   ]
  },
  {
   "cell_type": "markdown",
   "metadata": {},
   "source": [
    "**Probabilidade** e **Chances** são diferentes representações para a mesma informações;"
   ]
  },
  {
   "cell_type": "code",
   "execution_count": 1,
   "metadata": {},
   "outputs": [],
   "source": [
    "# Probabilidade -> Chances\n",
    "def Odds(p):\n",
    "    return p/(1-p)"
   ]
  },
  {
   "cell_type": "code",
   "execution_count": 3,
   "metadata": {},
   "outputs": [],
   "source": [
    "# Chances -> Probabilidade\n",
    "def Probability(o):\n",
    "    return o/(o+1)\n",
    "\n",
    "# or\n",
    "def Probability2(yes, no):\n",
    "    return yes/(yes+no)"
   ]
  },
  {
   "cell_type": "markdown",
   "metadata": {},
   "source": [
    "### As Chances a partir do teorema de bayes"
   ]
  },
  {
   "cell_type": "markdown",
   "metadata": {},
   "source": [
    "- A constante de normalização desaparece da equação;\n",
    "- Reescrevendo a chance em favor de A;\n",
    "\n",
    "\\begin{equation}\n",
    "    o(A|D) = o(A)\\frac{p(D|A)}{p(D|B)}\n",
    "\\end{equation}\n"
   ]
  },
  {
   "cell_type": "markdown",
   "metadata": {},
   "source": [
    "- A posteriori é igual a priori vezes a razão de verossimilhança;\n",
    "- Muito usual para se calcular bayes de cabeça ou no papel; "
   ]
  },
  {
   "cell_type": "markdown",
   "metadata": {},
   "source": [
    "### Sangue de Oliver"
   ]
  },
  {
   "cell_type": "markdown",
   "metadata": {},
   "source": [
    "- Duas pessoas deixaram vestígios de seu próprio sangue na cena do crime;\n",
    "- Um suspeito, Oliver, é testado e tem sangue tipo 'O';\n",
    "-  Os grupos sanguíneos dos dois traços são do tipo 'O' (um tipo comum na população local, com frequência de 60%) e do tipo 'AB' (um tipo raro, com frequência de 1%). \n",
    "\n",
    "Esses dados, dão evidência a favor da proposição de que Oliver era uma das pessoas?"
   ]
  },
  {
   "cell_type": "markdown",
   "metadata": {},
   "source": [
    "\\begin{equation}\n",
    "    \\frac{o(A|D)}{o(A)} = \\frac{p(D|A)}{p(D|B)}\n",
    "\\end{equation}"
   ]
  },
  {
   "cell_type": "markdown",
   "metadata": {},
   "source": [
    "- 1º termo: Razão entre posteriori e priori;\n",
    "- 2º termo: Razão de verossimilhança (**fator bayes**)\n",
    "\n",
    "Fator Bayes > 1: Os dados é mais provável sob A do que de B;\n",
    "Fotor Bayes < 1: O contrário;\n",
    "\n",
    "Fotor de Bayes = 1: Os dados são igualmente provável;\n",
    "\n"
   ]
  },
  {
   "cell_type": "markdown",
   "metadata": {},
   "source": [
    "### Acréscimo"
   ]
  },
  {
   "cell_type": "markdown",
   "metadata": {},
   "source": [
    "A **operação fundamental** das estatísticas bayesianas é a **Atualização** , que recebe uma distribuição prévia e um conjunto de dados e produz uma distribuição posterior. Mas existe outras operações:\n",
    "- Máxima;\n",
    "- Adição;\n",
    "- Dimensionamento;\n",
    "- Mínima;\n",
    "- Mistura.\n"
   ]
  },
  {
   "cell_type": "markdown",
   "metadata": {},
   "source": [
    "Duas maneiras para calcular:\n",
    "- **Simulação**: Dado um Pmf que representa a distribuição de um único dado, você pode coletar amostras aleatórias, adicioná-las e acumular a distribuição de somas simuladas.\n",
    "- **Enumeração**: Dados dois Pmfs, você pode enumerar todos os pares possíveis de valores e calcular a distribuição das somas."
   ]
  },
  {
   "cell_type": "code",
   "execution_count": 1,
   "metadata": {},
   "outputs": [],
   "source": [
    "from thinkbayes import Pmf, SampleSum\n",
    "class Die(Pmf):\n",
    "    def __init__(self, sides):\n",
    "        super().__init__(self)\n",
    "        for x in range(1, sides+1):\n",
    "            self.Set(x, 1)\n",
    "        self.Normalize()"
   ]
  },
  {
   "cell_type": "code",
   "execution_count": 2,
   "metadata": {},
   "outputs": [],
   "source": [
    "d6 = Die(6)"
   ]
  },
  {
   "cell_type": "code",
   "execution_count": 3,
   "metadata": {},
   "outputs": [
    {
     "name": "stdout",
     "output_type": "stream",
     "text": [
      "3 0.0625\n",
      "4 0.0625\n",
      "5 0.0625\n",
      "6 0.0625\n",
      "7 0.0625\n",
      "8 0.0625\n",
      "9 0.0625\n",
      "10 0.0625\n",
      "11 0.0625\n",
      "12 0.0625\n",
      "13 0.0625\n",
      "14 0.0625\n",
      "15 0.0625\n",
      "16 0.0625\n",
      "17 0.0625\n",
      "18 0.0625\n"
     ]
    }
   ],
   "source": [
    "from thinkplot import Pmf as plt_Pmf, Pmfs as plt_Pmfs, Show\n",
    "dice = [d6]*3\n",
    "three = SampleSum(dice, 1000)\n",
    "three.Print()"
   ]
  },
  {
   "cell_type": "markdown",
   "metadata": {},
   "source": [
    "- A desvantagem da simulação é que o resultado é apenas aproximadamente correto;"
   ]
  },
  {
   "cell_type": "code",
   "execution_count": 6,
   "metadata": {},
   "outputs": [],
   "source": [
    "three_exact = d6+d6+d6"
   ]
  },
  {
   "cell_type": "code",
   "execution_count": 7,
   "metadata": {},
   "outputs": [
    {
     "data": {
      "image/png": "[encoded data removed]",
      "text/plain": [
       "<Figure size 432x288 with 1 Axes>"
      ]
     },
     "metadata": {
      "needs_background": "light"
     },
     "output_type": "display_data"
    }
   ],
   "source": [
    "plt_Pmf(three_exact)"
   ]
  },
  {
   "cell_type": "code",
   "execution_count": 6,
   "metadata": {},
   "outputs": [
    {
     "data": {
      "image/png": "[encoded data removed]",
      "text/plain": [
       "<Figure size 432x288 with 1 Axes>"
      ]
     },
     "metadata": {
      "needs_background": "light"
     },
     "output_type": "display_data"
    }
   ],
   "source": [
    "thinkplot.Pmfs([three, three_exact])"
   ]
  },
  {
   "cell_type": "markdown",
   "metadata": {},
   "source": [
    "### Máxima"
   ]
  },
  {
   "cell_type": "markdown",
   "metadata": {},
   "source": [
    "Existem três maneiras de calcular a distribuição de máximo:\n",
    "- Simulação;\n",
    "- Enumeração;\n",
    "- Exponenciação;"
   ]
  },
  {
   "cell_type": "markdown",
   "metadata": {},
   "source": [
    "### Misturas"
   ]
  },
  {
   "cell_type": "markdown",
   "metadata": {},
   "source": [
    "### Discussão"
   ]
  },
  {
   "cell_type": "markdown",
   "metadata": {},
   "source": [
    "-  Uma distribuição é qualquer estrutura de dados que representa um conjunto de valores (possíveis resultados de um processo aleatório) e suas probabilidades.\n",
    "- A principal diferença entre eles é o desempenho: algumas operações são mais rápidas e fáceis com um Pmf; outros são mais rápidos com um Cdf.\n",
    "- Introduzir operações que atuam sobre distribuições, como Pmf.__add__, Cdf.Max e thinkbayes.MakeMixture ."
   ]
  },
  {
   "cell_type": "code",
   "execution_count": null,
   "metadata": {},
   "outputs": [],
   "source": []
  }
 ],
 "metadata": {
  "kernelspec": {
   "display_name": "Python 3",
   "language": "python",
   "name": "python3"
  },
  "language_info": {
   "codemirror_mode": {
    "name": "ipython",
    "version": 3
   },
   "file_extension": ".py",
   "mimetype": "text/x-python",
   "name": "python",
   "nbconvert_exporter": "python",
   "pygments_lexer": "ipython3",
   "version": "3.6.8"
  }
 },
 "nbformat": 4,
 "nbformat_minor": 4
}
