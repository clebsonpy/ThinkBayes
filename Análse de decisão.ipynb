{
 "cells": [
  {
   "cell_type": "markdown",
   "metadata": {},
   "source": [
    "## Análise de Decisão"
   ]
  },
  {
   "cell_type": "markdown",
   "metadata": {},
   "source": [
    "### O problema do Preço Certo."
   ]
  },
  {
   "cell_type": "markdown",
   "metadata": {},
   "source": [
    "Para um pensador bayesiano, esse cenário sugere várias perguntas:\n",
    "- Antes de ver os prêmios, que crenças priori o competidor deve ter sobre o preço da vitrine?\n",
    "- Depois de ver os prêmios, como o competidor deve atualizar essas crenças?\n",
    "- **Com base na distribuição posteriori, o que o concorrente deve oferecer?**"
   ]
  },
  {
   "cell_type": "markdown",
   "metadata": {},
   "source": [
    "### A Priori"
   ]
  },
  {
   "cell_type": "markdown",
   "metadata": {},
   "source": [
    "Para escolher uma **distribuição priori** dos preços, podemos tirar proveito dos dados dos **episódios anteriores**.\n",
    "\n",
    "O valor mais comum para as duas mostras é de cerca de US$ 28.000;\n",
    "\n",
    "Distribuições baseadas em dados reais, mas suavizadas pela estimativa de densidade de kernel Gaussiana (KDE)."
   ]
  },
  {
   "cell_type": "markdown",
   "metadata": {},
   "source": [
    "### Função de densidade de probabilidade"
   ]
  },
  {
   "cell_type": "markdown",
   "metadata": {},
   "source": [
    "- **PDF** é a versão **contínua** de um **PMF**;\n",
    "\n",
    "- As PDFs geralmente são escritas como funções. Para um determinado valor de x, essa função calcula uma densidade de probabilidade;\n",
    "\n",
    "- Densidade é semelhante a uma massa de probabilidade, mas não é uma probabilidade;\n",
    "\n",
    "- A integral da densidade resulta em uma probabilidade;"
   ]
  },
  {
   "cell_type": "markdown",
   "metadata": {},
   "source": [
    "### Representando PDFs"
   ]
  },
  {
   "cell_type": "markdown",
   "metadata": {},
   "source": [
    "-  `thinkbayes.py` fornece uma **Pdf** do tipo abstrata.\n",
    "    - Density;\n",
    "    - MakePmf;\n",
    "\n",
    "- Implementação de uma distribuição gaussiana;"
   ]
  },
  {
   "cell_type": "markdown",
   "metadata": {},
   "source": [
    "Podemos usar uma amostra para estimar o PDF de toda a população.\n",
    "\n",
    "A **estimativa de densidade de kernel (KDE)** é um **algoritmo** que recebe uma amostra e **encontra uma PDF** que se **ajusta aos dados**. "
   ]
  },
  {
   "cell_type": "code",
   "execution_count": 2,
   "metadata": {},
   "outputs": [],
   "source": [
    "from price import ReadData, Player\n",
    "import scipy\n",
    "import numpy\n",
    "import thinkbayes\n",
    "prices = numpy.array([i[0] for i in ReadData(filename='showcases.2012.csv')])\n",
    "bids = numpy.array([i[2] for i in ReadData(filename='showcases.2012.csv')])\n",
    "diffs = numpy.array([i[4] for i in ReadData(filename='showcases.2012.csv')])\n",
    "player = Player(prices, bids, diffs)"
   ]
  },
  {
   "cell_type": "code",
   "execution_count": 3,
   "metadata": {},
   "outputs": [],
   "source": [
    "pmf = player.PmfPrice()"
   ]
  },
  {
   "cell_type": "markdown",
   "metadata": {},
   "source": [
    "### Modelando os competidores"
   ]
  },
  {
   "cell_type": "markdown",
   "metadata": {},
   "source": [
    "Para atualizar essas priori, precisamos responder estas perguntas:\n",
    "\n",
    "- Quais dados devemos considerar e como quantificá-los?\n",
    "- Podemos calcular uma função de probabilidade; isto é, para cada valor hipotético do preço , podemos calcular a probabilidade condicional dos dados?"
   ]
  },
  {
   "cell_type": "markdown",
   "metadata": {},
   "source": [
    "Modelou o concorrente como um instrumento de estimativa de preço com características de erro conhecidas;\n",
    "- Se o preço real é preço, qual é a verossimilhança de que a estimativa do concorrente seja adivinhada?\n",
    "- Qual é a verossimilhança do competidor ser desligado pelo erro da estimativa?"
   ]
  },
  {
   "cell_type": "markdown",
   "metadata": {},
   "source": [
    "Podemos usar essa distribuição para estimar a confiabilidade das suposições dos competidores.\n",
    "- Faz algumas suposições:\n",
    "    -  Distribuição do erro seja gaussiana com média 0 e a mesma variância que diff."
   ]
  },
  {
   "cell_type": "markdown",
   "metadata": {},
   "source": [
    "### Verossimilhança"
   ]
  },
  {
   "cell_type": "code",
   "execution_count": 1,
   "metadata": {},
   "outputs": [],
   "source": [
    "def Likelihood(self, data, hypo):\n",
    "    price = hypo\n",
    "    guess = data\n",
    "\n",
    "    error = price - guess\n",
    "    like = self.player.ErrorDensity(error)\n",
    "\n",
    "    return like"
   ]
  },
  {
   "cell_type": "markdown",
   "metadata": {},
   "source": [
    "- Escreve a função de verossimilhança;\n",
    "- **hypo** é o preço hipotético da vitrine;\n",
    "- **data** são o melhor palpite do competidor\n",
    "- **erro** diferença;\n",
    "- **like** é a verossimilhança dos dados; "
   ]
  },
  {
   "cell_type": "markdown",
   "metadata": {},
   "source": [
    "### Atualização"
   ]
  },
  {
   "cell_type": "markdown",
   "metadata": {},
   "source": [
    "O **Player** fornece um método que aceita o **palpite do competidor** e calcula a distribuição posteriori;"
   ]
  },
  {
   "cell_type": "code",
   "execution_count": 5,
   "metadata": {},
   "outputs": [],
   "source": [
    "def MakeBeliefs(self, guess):\n",
    "    pmf = self.PmfPrice()\n",
    "    self.prior = Price(pmf, self)\n",
    "    self.posterior = self.prior.Copy()\n",
    "    self.posterior.Update(guess)"
   ]
  },
  {
   "cell_type": "markdown",
   "metadata": {},
   "source": [
    "Combinando duas fontes de informação, dados históricos sobre mostras passadas e suposições sobre os prêmios que vê.\n",
    "\n",
    "Estamos tratando os **dados históricos como priori** e atualizando-os com base em suas suposições, mas poderíamos usar sua **suposição como priori** e atualizá-los com base em dados históricos.\n"
   ]
  },
  {
   "cell_type": "markdown",
   "metadata": {},
   "source": [
    "### Lance ideal"
   ]
  },
  {
   "cell_type": "markdown",
   "metadata": {},
   "source": [
    "Podemos usar a distribuição posteriori para máximizar as chances (**Retorno Esperado**);"
   ]
  },
  {
   "cell_type": "markdown",
   "metadata": {},
   "source": [
    "`def ExpectedGain` percorre os valores na parte posterior e calcula o ganho de cada lance;"
   ]
  },
  {
   "cell_type": "markdown",
   "metadata": {},
   "source": [
    "Dado um palpite e um oponente, o OptimalBid calcula a distribuição posteriori;\n",
    "\n",
    "Calcula os ganhos esperados para uma série de lances e retorna o **lance ideal** e o **ganho esperado**;"
   ]
  },
  {
   "cell_type": "markdown",
   "metadata": {},
   "source": [
    "### Discussão"
   ]
  },
  {
   "cell_type": "markdown",
   "metadata": {},
   "source": [
    "- Uma das características da **estimativa bayesiana** é que o resultado vem na forma de uma **distribuição posteriori**, diferentes da **estimativa clássica** que retorna um **valor único** ou um **intervalo de confiança**;\n"
   ]
  },
  {
   "cell_type": "markdown",
   "metadata": {},
   "source": [
    "- Esses resumos (da distribuição posteriori) podem ser úteis, mas se é tudo o que você precisa, provavelmente não precisará de métodos bayesianos;"
   ]
  },
  {
   "cell_type": "markdown",
   "metadata": {},
   "source": [
    "- Os métodos bayesianos são mais úteis quando você pode **levar** a distribuição posteriori para a **próxima etapa** da análise para executar algum tipo de análise de decisão;"
   ]
  },
  {
   "cell_type": "code",
   "execution_count": null,
   "metadata": {},
   "outputs": [],
   "source": []
  }
 ],
 "metadata": {
  "kernelspec": {
   "display_name": "Python 3",
   "language": "python",
   "name": "python3"
  },
  "language_info": {
   "codemirror_mode": {
    "name": "ipython",
    "version": 3
   },
   "file_extension": ".py",
   "mimetype": "text/x-python",
   "name": "python",
   "nbconvert_exporter": "python",
   "pygments_lexer": "ipython3",
   "version": "3.6.8"
  }
 },
 "nbformat": 4,
 "nbformat_minor": 4
}
