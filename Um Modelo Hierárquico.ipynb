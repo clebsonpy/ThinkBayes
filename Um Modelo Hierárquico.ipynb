{
 "cells": [
  {
   "cell_type": "markdown",
   "metadata": {},
   "source": [
    "# 14 Um Modelo Hierárquico"
   ]
  },
  {
   "cell_type": "markdown",
   "metadata": {},
   "source": [
    "## 14.1 - O problema do contador Geiger"
   ]
  },
  {
   "cell_type": "markdown",
   "metadata": {},
   "source": [
    "![](Geiger.png)\n",
    "\n",
    "- Serve para medir certas radiações ionizantes:\n",
    "    - Partículas alfa, beta ou radiação gama;\n",
    "    - Raios-X."
   ]
  },
  {
   "cell_type": "markdown",
   "metadata": {},
   "source": [
    "> ---\n",
    "> Suponha que uma fonte radioativa emita partículas em direção a um contador Geiger a uma taxa média de r partículas por segundo, mas o contador registra apenas uma fração, f , das partículas que o atingem. Se f é 10% e o contador registra 15 partículas em um intervalo de um segundo, qual é a distribuição posterior de n , o número real de partículas que atingem o contador e r, a taxa média de partículas emitidas?> "
   ]
  },
  {
   "cell_type": "markdown",
   "metadata": {},
   "source": [
    "Cadeia de causalidade que começa com os parâmetros do sistema e termina com os dados observados:\n",
    "1. A fonte emite partículas a uma taxa média, r .\n",
    "2. Durante um determinado segundo, a fonte emite n partículas em direção ao contador.\n",
    "3. Dessas n partículas, algum número, k, é contado."
   ]
  },
  {
   "cell_type": "markdown",
   "metadata": {},
   "source": [
    "- O decaimento radioativo é bem modelado por um processo de Poisson;\n",
    "    - Dado r, a distribuição de n é a distribuição de Poisson com o parâmetro r.\n",
    "- A probabilidade de detecção para cada partícula é independente dos outros;\n",
    "    - A distribuição de k é a distribuição binomial com parâmetros n e f."
   ]
  },
  {
   "cell_type": "markdown",
   "metadata": {},
   "source": [
    "**Problema avançado**: Dados os parâmetros do sistema, queremos a distribuição dos dados;\n",
    "\n",
    "**Problema inverso**: Dados os dados, queremos a distribuição dos parâmetros;\n",
    "    \n",
    "- E se você puder resolver o **problema avançado**, poderá usar métodos bayesianos para resolver o **problema inverso**."
   ]
  },
  {
   "cell_type": "markdown",
   "metadata": {},
   "source": [
    "## 14.2 - Comece simples"
   ]
  },
  {
   "cell_type": "markdown",
   "metadata": {},
   "source": [
    "![](post_14_2.png)\n",
    "\n",
    "Distribuição posteriori de n para vários valores dados de r."
   ]
  },
  {
   "cell_type": "markdown",
   "metadata": {},
   "source": [
    "- Sabemos o valor de r;\n",
    "- Nos é dado o valor de f;\n",
    "- Precisamos fazer é estimar n ."
   ]
  },
  {
   "cell_type": "code",
   "execution_count": 1,
   "metadata": {},
   "outputs": [],
   "source": [
    "import thinkbayes\n",
    "class Detector(thinkbayes.Suite):\n",
    "\n",
    "    def __init__(self, r, f, high=500, step=1):\n",
    "        pmf = thinkbayes.MakePoissonPmf(r, high, step=step)\n",
    "        thinkbayes.Suite.__init__(self, pmf, name=r)\n",
    "        self.r = r\n",
    "        self.f = f\n",
    "    \n",
    "    def Likelihood(self, data, hypo):\n",
    "        k = data\n",
    "        n = hypo\n",
    "        p = self.f\n",
    "\n",
    "        return thinkbayes.EvalBinomialPmf(k, n, p)"
   ]
  },
  {
   "cell_type": "code",
   "execution_count": 2,
   "metadata": {},
   "outputs": [
    {
     "name": "stdout",
     "output_type": "stream",
     "text": [
      "104\n",
      "239\n",
      "375\n"
     ]
    }
   ],
   "source": [
    "f = 0.1\n",
    "k = 15\n",
    "\n",
    "for r in [100, 250, 400]:\n",
    "    suite = Detector(r, f, step=1)\n",
    "    suite.Update(k)\n",
    "    print(suite.MaximumLikelihood())"
   ]
  },
  {
   "cell_type": "markdown",
   "metadata": {},
   "source": [
    "A probabilidade de detectar k partículas é dada pela distribuição binomial."
   ]
  },
  {
   "cell_type": "markdown",
   "metadata": {},
   "source": [
    "## 14.3 - Torne-o hierárquico"
   ]
  },
  {
   "cell_type": "markdown",
   "metadata": {},
   "source": [
    "- Na seção anterior, assumimos que r é conhecido;"
   ]
  },
  {
   "cell_type": "code",
   "execution_count": 9,
   "metadata": {},
   "outputs": [],
   "source": [
    "class Emitter(thinkbayes.Suite):\n",
    "\n",
    "    def __init__(self, rs, f=0.1):\n",
    "        detectors = [Detector(r, f) for r in rs]\n",
    "        thinkbayes.Suite.__init__(self, detectors)\n",
    "        \n",
    "    def Likelihood(self, data, hypo):\n",
    "        return hypo.Update(data)\n",
    "    \n",
    "    def Update(self, data):\n",
    "        thinkbayes.Suite.Update(self, data)\n",
    "        \n",
    "        for detector in self.Values():\n",
    "            detector.Update()"
   ]
  },
  {
   "cell_type": "markdown",
   "metadata": {},
   "source": [
    "Modela o comportamento do emissor e estima r;\n",
    "\n",
    "Emitter é um **meta-Suite**; que é, uma Suite que contém outros valores de Suite."
   ]
  },
  {
   "cell_type": "markdown",
   "metadata": {},
   "source": [
    "Um modelo com vários níveis de Suites, é chamado **hierárquico**;"
   ]
  },
  {
   "cell_type": "markdown",
   "metadata": {},
   "source": [
    "## 14.4 - Um pouco de otimização"
   ]
  },
  {
   "cell_type": "markdown",
   "metadata": {},
   "source": [
    "Otimiza a verossimilhança da clase Emitter;"
   ]
  },
  {
   "cell_type": "markdown",
   "metadata": {},
   "source": [
    "## 14.5 - Extraindo as posteriores"
   ]
  },
  {
   "cell_type": "markdown",
   "metadata": {},
   "source": [
    "![](post_14_5.png)\n",
    "\n",
    "Distribuições posteriores de n e r;"
   ]
  },
  {
   "cell_type": "code",
   "execution_count": 10,
   "metadata": {},
   "outputs": [],
   "source": [
    "class Emitter(thinkbayes.Suite):\n",
    "\n",
    "    def __init__(self, rs, f=0.1):\n",
    "        detectors = [Detector(r, f) for r in rs]\n",
    "        thinkbayes.Suite.__init__(self, detectors)\n",
    "        \n",
    "    def Likelihood(self, data, hypo):\n",
    "        return hypo.Update(data)\n",
    "    \n",
    "    def Update(self, data):\n",
    "        thinkbayes.Suite.Update(self, data)\n",
    "        \n",
    "        for detector in self.Values():\n",
    "            detector.Update()\n",
    "    \n",
    "    def DistOfR(self):\n",
    "        items = [(detector.r, prob) for detector, prob in self.Items()]\n",
    "        return thinkbayes.MakePmfFromItems(items)\n",
    "    \n",
    "    def DistOfN(self):\n",
    "        return thinkbayes.MakeMixture(self)"
   ]
  },
  {
   "cell_type": "markdown",
   "metadata": {},
   "source": [
    "- Podemos obter a distribuição posterior de r percorrendo os detectores e suas probabilidades;\n",
    "- A distribuição posterior de n, é a mistura dos detectores (DistOfN);\n",
    "- As distribuições posteriores de R e n são semelhantes;"
   ]
  },
  {
   "cell_type": "markdown",
   "metadata": {},
   "source": [
    "## 14.6 - Discussão"
   ]
  },
  {
   "cell_type": "markdown",
   "metadata": {},
   "source": [
    "A taxa de emissão r tem um efeito causal no número de partículas, n, que tem um efeito causal na contagem de partículas, k."
   ]
  },
  {
   "cell_type": "markdown",
   "metadata": {},
   "source": [
    "**Modelo hierárquico**: Causas na parte superior e efeitos na parte inferior."
   ]
  },
  {
   "cell_type": "markdown",
   "metadata": {},
   "source": [
    "1. No nível superior, intervalo de valores hipotéticos para r.\n",
    "2. Para cada valor de r, temos um intervalo de valores para n, e a distribuição a priori de n depende de r.\n",
    "3. Quando atualizamos o modelo, vamos de baixo para cima. \n",
    "    - Calculamos uma distribuição posteriori de n para cada valor de r e depois calculamos a distribuição posteriori de r."
   ]
  },
  {
   "cell_type": "code",
   "execution_count": null,
   "metadata": {},
   "outputs": [],
   "source": []
  }
 ],
 "metadata": {
  "kernelspec": {
   "display_name": "Python 3",
   "language": "python",
   "name": "python3"
  },
  "language_info": {
   "codemirror_mode": {
    "name": "ipython",
    "version": 3
   },
   "file_extension": ".py",
   "mimetype": "text/x-python",
   "name": "python",
   "nbconvert_exporter": "python",
   "pygments_lexer": "ipython3",
   "version": "3.6.9"
  }
 },
 "nbformat": 4,
 "nbformat_minor": 4
}
