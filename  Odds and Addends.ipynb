{
 "cells": [
  {
   "cell_type": "markdown",
   "metadata": {},
   "source": [
    "## Chances e Acréscimos"
   ]
  },
  {
   "cell_type": "markdown",
   "metadata": {},
   "source": [
    "### Chances"
   ]
  },
  {
   "cell_type": "markdown",
   "metadata": {},
   "source": [
    "As **chances a favor** de um evento são a **razão** entre a **probabilidade de ocorrência** e a **probabilidade de não ocorrer**."
   ]
  },
  {
   "cell_type": "markdown",
   "metadata": {},
   "source": [
    "**Probabilidade** e **Chances** são **diferentes representações** para a mesma **informações**;"
   ]
  },
  {
   "cell_type": "code",
   "execution_count": 1,
   "metadata": {},
   "outputs": [],
   "source": [
    "# Probabilidade -> Chances\n",
    "def Odds(p):\n",
    "    return p/(1-p)"
   ]
  },
  {
   "cell_type": "code",
   "execution_count": 3,
   "metadata": {},
   "outputs": [],
   "source": [
    "# Chances -> Probabilidade\n",
    "def Probability(o):\n",
    "    return o/(o+1)\n",
    "\n",
    "# or\n",
    "def Probability2(yes, no):\n",
    "    return yes/(yes+no)"
   ]
  },
  {
   "cell_type": "markdown",
   "metadata": {},
   "source": [
    "### As Chances a partir do teorema de bayes"
   ]
  },
  {
   "cell_type": "markdown",
   "metadata": {},
   "source": [
    "- A constante de normalização desaparece da equação;\n",
    "- Reescrevendo a chance em favor de A;\n",
    "\n",
    "\\begin{equation}\n",
    "    o(A|D) = o(A)\\frac{p(D|A)}{p(D|B)}\n",
    "\\end{equation}\n"
   ]
  },
  {
   "cell_type": "markdown",
   "metadata": {},
   "source": [
    "- A posteriori é igual a priori vezes a **razão de verossimilhança**;\n",
    "- Muito usual para se calcular bayes de **cabeça** ou no **papel**; "
   ]
  },
  {
   "cell_type": "markdown",
   "metadata": {},
   "source": [
    "### Sangue de Oliver"
   ]
  },
  {
   "cell_type": "markdown",
   "metadata": {},
   "source": [
    "- Duas pessoas deixaram vestígios de seu próprio sangue na cena do crime;\n",
    "- Um suspeito, Oliver, é testado e tem sangue tipo 'O';\n",
    "-  Os grupos sanguíneos dos dois traços são do tipo 'O' (um tipo comum na população local, com frequência de 60%) e do tipo 'AB' (um tipo raro, com frequência de 1%). \n",
    "\n",
    "Esses dados, dão evidência a favor da proposição de que Oliver era uma das pessoas?"
   ]
  },
  {
   "cell_type": "markdown",
   "metadata": {},
   "source": [
    "\\begin{equation}\n",
    "    \\frac{o(A|D)}{o(A)} = \\frac{p(D|A)}{p(D|B)}\n",
    "\\end{equation}"
   ]
  },
  {
   "cell_type": "markdown",
   "metadata": {},
   "source": [
    "- 1º termo: Razão entre posteriori e priori;\n",
    "- 2º termo: Razão de verossimilhança (**fator bayes**)\n",
    "\n",
    "Fator Bayes > 1: Os dados é mais provável sob A do que de B;\n",
    "Fotor Bayes < 1: O contrário;\n",
    "\n",
    "Fotor de Bayes = 1: Os dados são igualmente provável;\n",
    "\n"
   ]
  },
  {
   "cell_type": "markdown",
   "metadata": {},
   "source": [
    "### Acréscimo"
   ]
  },
  {
   "cell_type": "markdown",
   "metadata": {},
   "source": [
    "A **operação fundamental** das estatísticas bayesianas é a **Atualização** , que recebe uma distribuição prévia e um conjunto de dados e produz uma distribuição posterior. Mas existe outras operações:\n",
    "- Máxima;\n",
    "- Adição;\n",
    "- Dimensionamento;\n",
    "- Mínima;\n",
    "- Mistura.\n"
   ]
  },
  {
   "cell_type": "markdown",
   "metadata": {},
   "source": [
    "Duas maneiras para calcular:\n",
    "- **Simulação**: Dado um Pmf que representa a distribuição de um único dado, você pode coletar amostras aleatórias, adicioná-las e acumular a distribuição de somas simuladas.\n",
    "- **Enumeração**: Dados duas Pmfs, você pode enumerar todos os pares possíveis de valores e calcular a distribuição das somas."
   ]
  },
  {
   "cell_type": "code",
   "execution_count": 11,
   "metadata": {},
   "outputs": [],
   "source": [
    "from thinkbayes import Pmf, SampleSum\n",
    "class Die(Pmf):\n",
    "    def __init__(self, sides):\n",
    "        super().__init__(self)\n",
    "        for x in range(1, sides+1):\n",
    "            self.Set(x, 1)\n",
    "        self.Normalize()\n",
    "    "
   ]
  },
  {
   "cell_type": "code",
   "execution_count": 12,
   "metadata": {},
   "outputs": [],
   "source": [
    "d6 = Die(6)"
   ]
  },
  {
   "cell_type": "code",
   "execution_count": 18,
   "metadata": {},
   "outputs": [
    {
     "name": "stdout",
     "output_type": "stream",
     "text": [
      "3 0.06666666666666668\n",
      "4 0.06666666666666668\n",
      "5 0.06666666666666668\n",
      "6 0.06666666666666668\n",
      "7 0.06666666666666668\n",
      "8 0.06666666666666668\n",
      "9 0.06666666666666668\n",
      "10 0.06666666666666668\n",
      "11 0.06666666666666668\n",
      "12 0.06666666666666668\n",
      "13 0.06666666666666668\n",
      "14 0.06666666666666668\n",
      "15 0.06666666666666668\n",
      "16 0.06666666666666668\n",
      "17 0.06666666666666668\n"
     ]
    }
   ],
   "source": [
    "from thinkplot import Pmf as plt_Pmf, Pmfs as plt_Pmfs, Show\n",
    "dice = [d6]*3\n",
    "three = SampleSum(dice, 1000)\n",
    "three.Print()"
   ]
  },
  {
   "cell_type": "markdown",
   "metadata": {},
   "source": [
    "- A desvantagem da simulação é que o resultado é apenas aproximadamente correto;"
   ]
  },
  {
   "cell_type": "code",
   "execution_count": 14,
   "metadata": {},
   "outputs": [],
   "source": [
    "three_exact = d6+d6+d6"
   ]
  },
  {
   "cell_type": "code",
   "execution_count": 7,
   "metadata": {},
   "outputs": [
    {
     "data": {
      "image/png": "[encoded data removed]",
      "text/plain": [
       "<Figure size 432x288 with 1 Axes>"
      ]
     },
     "metadata": {
      "needs_background": "light"
     },
     "output_type": "display_data"
    }
   ],
   "source": [
    "plt_Pmf(three_exact)"
   ]
  },
  {
   "cell_type": "code",
   "execution_count": 21,
   "metadata": {},
   "outputs": [
    {
     "data": {
      "image/png": "[encoded data removed]",
      "text/plain": [
       "<Figure size 432x288 with 1 Axes>"
      ]
     },
     "metadata": {
      "needs_background": "light"
     },
     "output_type": "display_data"
    }
   ],
   "source": [
    "plt_Pmfs([three, three_exact])"
   ]
  },
  {
   "cell_type": "markdown",
   "metadata": {},
   "source": [
    "### Máxima"
   ]
  },
  {
   "cell_type": "markdown",
   "metadata": {},
   "source": [
    "Existem três maneiras de calcular a distribuição de máximo:\n",
    "- **Simulação**: Dada uma Pmf que representa a distribuição para uma única seleção, você pode gerar amostras aleatórias, encontrar o máximo e acumular a distribuição dos máximos simulados;\n",
    "- **Enumeração**: Dada duas Pmfs, é possível enumerar todos os pares possíveis de valores e calcular a distribuição do máximo;\n",
    "- **Exponenciação**: Se convertermos uma Pmf em uma Cdf, existe um algoritmo simples e eficiente para encontrar o máximo da Cdf.;"
   ]
  },
  {
   "cell_type": "code",
   "execution_count": 6,
   "metadata": {},
   "outputs": [],
   "source": [
    "def PmfMax(pmf1, pmf2):\n",
    "    res = thinkbayes.Pmf()\n",
    "    for v1, p1 in pmf1.Items():\n",
    "        for v2, p2 in pmf2.Items():\n",
    "            res.Incr(max(v1, v2), p1*p2)\n",
    "    return res"
   ]
  },
  {
   "cell_type": "code",
   "execution_count": 20,
   "metadata": {},
   "outputs": [
    {
     "data": {
      "image/png": "[encoded data removed]",
      "text/plain": [
       "<Figure size 432x288 with 1 Axes>"
      ]
     },
     "metadata": {
      "needs_background": "light"
     },
     "output_type": "display_data"
    }
   ],
   "source": [
    "best_attr_cdf = three_exact.Max(6)\n",
    "best_attr_pmf = best_attr_cdf.MakePmf()\n",
    "plt_Pmf(best_attr_pmf)"
   ]
  },
  {
   "cell_type": "markdown",
   "metadata": {},
   "source": [
    "### Misturas"
   ]
  },
  {
   "cell_type": "markdown",
   "metadata": {},
   "source": [
    "Suponha que eu tenha uma caixa de dados com o seguinte inventário:\n",
    "\n",
    "- 5 dados de 4 lados\n",
    "- 4 dados de 6 lados\n",
    "- 3 dados de 8 lados\n",
    "- 2 dados de 12 lados\n",
    "- 1 dado de 20 lados\n",
    "\n",
    "Eu escolho um dado da caixa e rolo. Qual é a distribuição do resultado?"
   ]
  },
  {
   "cell_type": "markdown",
   "metadata": {},
   "source": [
    "- Distribuição uniforme com limites [1, n];\n",
    "- Distribuição resultante é uma mistura de distribuições uniformes com limites diferentes;"
   ]
  },
  {
   "cell_type": "code",
   "execution_count": 24,
   "metadata": {},
   "outputs": [
    {
     "data": {
      "text/plain": [
       "1.9999999999999996"
      ]
     },
     "execution_count": 24,
     "metadata": {},
     "output_type": "execute_result"
    }
   ],
   "source": [
    "d6 = Die(6)\n",
    "d8 = Die(8)\n",
    "mix = Pmf()\n",
    "for die in [d6, d8]:\n",
    "    for outcome, prob in die.Items():\n",
    "        mix.Incr(outcome, prob)\n",
    "mix.Normalize()"
   ]
  },
  {
   "cell_type": "code",
   "execution_count": 25,
   "metadata": {},
   "outputs": [
    {
     "data": {
      "text/plain": [
       "15"
      ]
     },
     "execution_count": 25,
     "metadata": {},
     "output_type": "execute_result"
    }
   ],
   "source": [
    "pmf_dice = Pmf()\n",
    "pmf_dice.Set(Die(4), 5)\n",
    "pmf_dice.Set(Die(6), 4)\n",
    "pmf_dice.Set(Die(8), 3)\n",
    "pmf_dice.Set(Die(12), 2)\n",
    "pmf_dice.Set(Die(20), 1)\n",
    "pmf_dice.Normalize()"
   ]
  },
  {
   "cell_type": "code",
   "execution_count": 27,
   "metadata": {},
   "outputs": [],
   "source": [
    "mix = Pmf()\n",
    "for die, weight in pmf_dice.Items():\n",
    "    for outcome, prob in die.Items():\n",
    "        mix.Incr(outcome, weight*prob)"
   ]
  },
  {
   "cell_type": "code",
   "execution_count": 28,
   "metadata": {},
   "outputs": [
    {
     "data": {
      "image/png": "[encoded data removed]",
      "text/plain": [
       "<Figure size 432x288 with 1 Axes>"
      ]
     },
     "metadata": {
      "needs_background": "light"
     },
     "output_type": "display_data"
    }
   ],
   "source": [
    "#mix = thinkbayes.MakeMixture(pmf_dice)\n",
    "plt_Pmf(mix)"
   ]
  },
  {
   "cell_type": "markdown",
   "metadata": {},
   "source": [
    "### Discussão"
   ]
  },
  {
   "cell_type": "markdown",
   "metadata": {},
   "source": [
    "-  Uma distribuição é qualquer estrutura de dados que representa um conjunto de valores (possíveis resultados de um processo aleatório) e suas probabilidades.\n",
    "- A principal diferença entre eles é o desempenho: algumas operações são mais rápidas e fáceis com um Pmf; outros são mais rápidos com um Cdf.\n",
    "- Introduzir operações que atuam sobre distribuições, como Pmf.__add__, Cdf.Max e thinkbayes.MakeMixture ."
   ]
  },
  {
   "cell_type": "code",
   "execution_count": null,
   "metadata": {},
   "outputs": [],
   "source": []
  }
 ],
 "metadata": {
  "kernelspec": {
   "display_name": "Python 3",
   "language": "python",
   "name": "python3"
  },
  "language_info": {
   "codemirror_mode": {
    "name": "ipython",
    "version": 3
   },
   "file_extension": ".py",
   "mimetype": "text/x-python",
   "name": "python",
   "nbconvert_exporter": "python",
   "pygments_lexer": "ipython3",
   "version": "3.6.8"
  }
 },
 "nbformat": 4,
 "nbformat_minor": 4
}
