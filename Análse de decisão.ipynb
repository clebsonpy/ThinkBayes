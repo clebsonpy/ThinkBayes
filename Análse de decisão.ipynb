{
 "cells": [
  {
   "cell_type": "markdown",
   "metadata": {},
   "source": [
    "## Análise de Decisão"
   ]
  },
  {
   "cell_type": "markdown",
   "metadata": {},
   "source": [
    "### O problema do Preço Certo."
   ]
  },
  {
   "cell_type": "markdown",
   "metadata": {},
   "source": [
    "Para um pensador bayesiano, esse cenário sugere várias perguntas:\n",
    "- Antes de ver os prêmios, que crenças priori o competidor deve ter sobre o preço da vitrine?\n",
    "- Depois de ver os prêmios, como o competidor deve atualizar essas crenças?\n",
    "- **Com base na distribuição posteriori, o que o concorrente deve oferecer?**"
   ]
  },
  {
   "cell_type": "markdown",
   "metadata": {},
   "source": [
    "### A Priori"
   ]
  },
  {
   "cell_type": "markdown",
   "metadata": {},
   "source": [
    "Para escolher uma **distribuição priori** dos preços, podemos tirar proveito dos dados dos **episódios anteriores**.\n",
    "\n",
    "O valor mais comum para as duas mostras é de cerca de US$ 28.000;\n",
    "\n",
    "Distribuições baseadas em dados reais, mas suavizadas pela estimativa de densidade de kernel Gaussiana (KDE)."
   ]
  },
  {
   "cell_type": "markdown",
   "metadata": {},
   "source": [
    "### Função de densidade de probabilidade"
   ]
  },
  {
   "cell_type": "markdown",
   "metadata": {},
   "source": [
    "- **PDF** é a versão **contínua** de um **PMF**;\n",
    "\n",
    "- As PDFs geralmente são escritas como funções. Para um determinado valor de x, essa função calcula uma densidade de probabilidade;\n",
    "\n",
    "- Densidade é semelhante a uma massa de probabilidade, mas não é uma probabilidade;\n",
    "\n",
    "- A integral da densidade resulta em uma probabilidade;"
   ]
  },
  {
   "cell_type": "markdown",
   "metadata": {},
   "source": [
    "### Representando PDFs"
   ]
  },
  {
   "cell_type": "code",
   "execution_count": null,
   "metadata": {},
   "outputs": [],
   "source": []
  }
 ],
 "metadata": {
  "kernelspec": {
   "display_name": "Python 3",
   "language": "python",
   "name": "python3"
  },
  "language_info": {
   "codemirror_mode": {
    "name": "ipython",
    "version": 3
   },
   "file_extension": ".py",
   "mimetype": "text/x-python",
   "name": "python",
   "nbconvert_exporter": "python",
   "pygments_lexer": "ipython3",
   "version": "3.6.8"
  }
 },
 "nbformat": 4,
 "nbformat_minor": 4
}
