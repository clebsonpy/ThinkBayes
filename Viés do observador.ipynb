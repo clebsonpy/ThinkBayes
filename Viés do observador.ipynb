{
 "cells": [
  {
   "cell_type": "markdown",
   "metadata": {},
   "source": [
    "## Viés do Observador"
   ]
  },
  {
   "cell_type": "markdown",
   "metadata": {},
   "source": [
    "### O problema da linha vermelha"
   ]
  },
  {
   "cell_type": "markdown",
   "metadata": {},
   "source": [
    "- **Linha Vermelha**: é um metrô que conecta Cambridge e Boston;\n",
    "- Na hora do rush, os trens da Linha Vermelha circulam a **cada 7 a 8 minutos**, em média.\n",
    "- Estimar o tempo com base na quantidade de passageiros na estação;\n",
    "    - Poucas pessoas: aproximadamente 7 min;\n",
    "    - Mais pessoas: mais cedo;\n",
    "    - Grande número de passageiros: Linha com problema;"
   ]
  },
  {
   "cell_type": "markdown",
   "metadata": {},
   "source": [
    "### O Modelo"
   ]
  },
  {
   "cell_type": "markdown",
   "metadata": {},
   "source": [
    "![](intervalos_entre_trens.png)\n",
    "\n",
    "- z - é a distribuição real;\n",
    "- zb - é a distribuição tendenciosa vista pelos passageiros."
   ]
  },
  {
   "cell_type": "markdown",
   "metadata": {},
   "source": [
    "Considerações:\n",
    "\n",
    "- Chegadas de passageiros como um processo de Poisson;\n",
    "    - Mesma probabilidade de chegar a qualquer momento;\n",
    "    - Cheguem a uma taxa desconhecida, λ, medida em passageiros por minuto(constante);\n",
    "\n",
    "- O processo de chegada de trens não é Poisson;"
   ]
  },
  {
   "cell_type": "markdown",
   "metadata": {},
   "source": [
    "Tempo médio entre os trens, visto por um passageiro aleatório:\n",
    "- Um passageiro é mais provável de chegar durante um intervalo maior;\n",
    "    - O tempo médio entre os trens é de **7,5 minutos**.\n",
    "    - O tempo médio entre os trens é de **8,33 minutos**.\n",
    "    \n",
    "Viés de observador: \n",
    " - Os alunos pensam que as turmas são maiores;\n",
    " - Os passageiros das companhias aéreas acham que os aviões estão mais cheios;\n",
    " "
   ]
  },
  {
   "cell_type": "code",
   "execution_count": 3,
   "metadata": {},
   "outputs": [],
   "source": [
    "def BiasPmf(pmf):\n",
    "    new_pmf = pmf.Copy()\n",
    "\n",
    "    for x, p in pmf.Items():\n",
    "        new_pmf.Mult(x, x)\n",
    "        \n",
    "    new_pmf.Normalize()\n",
    "    return new_pmf"
   ]
  },
  {
   "cell_type": "markdown",
   "metadata": {},
   "source": [
    "- `pmf` é a distribuição real; \n",
    "- `new_pmf` é a distribuição tendenciosa;"
   ]
  },
  {
   "cell_type": "markdown",
   "metadata": {},
   "source": [
    "### Tempos de espera"
   ]
  },
  {
   "cell_type": "markdown",
   "metadata": {},
   "source": [
    "![](tempo_de_espera.png)"
   ]
  },
  {
   "cell_type": "markdown",
   "metadata": {},
   "source": [
    "- **Tempo de espera (y)**: tempo entre a chegada de um passageiro e a próxima chegada de um trem;\n",
    "- **Tempo de decorrido (x)**: tempo entre a chegada do trem anterior e a chegada de um passageiro;\n",
    "\n",
    "\\begin{equation}\n",
    "zb = x+ y\n",
    "\\end{equation}"
   ]
  },
  {
   "cell_type": "markdown",
   "metadata": {},
   "source": [
    "- y É uma mistura de distribuições uniformes ponderadas de acordo com a probabilidade de cada intervalo;"
   ]
  },
  {
   "cell_type": "code",
   "execution_count": 6,
   "metadata": {},
   "outputs": [],
   "source": [
    "def MakeUniformPmf(low, high):\n",
    "    pmf = thinkbayes.Pmf()\n",
    "    for x in MakeRange(low=low, high=high):\n",
    "        pmf.Set(x, 1)\n",
    "    pmf.Normalize()\n",
    "    return pmf"
   ]
  },
  {
   "cell_type": "code",
   "execution_count": 9,
   "metadata": {},
   "outputs": [],
   "source": [
    "class WaitTimeCalculator(object):\n",
    "\n",
    "    def __init__(self, pmf_z):\n",
    "        self.pmf_z = pmf_z\n",
    "        self.pmf_zb = BiasPmf(pmf)\n",
    "\n",
    "        self.pmf_y = self.PmfOfWaitTime(self.pmf_zb)\n",
    "        self.pmf_x = self.pmf_y\n",
    "        \n",
    "    def PmfOfWaitTime(pmf_zb):\n",
    "        metapmf = thinkbayes.Pmf()\n",
    "        for gap, prob in pmf_zb.Items():\n",
    "            uniform = MakeUniformPmf(0, gap)\n",
    "            metapmf.Set(uniform, prob)\n",
    "\n",
    "        pmf_y = thinkbayes.MakeMixture(metapmf)\n",
    "        return pmf_y"
   ]
  },
  {
   "cell_type": "markdown",
   "metadata": {},
   "source": [
    "- A média de z é 7,8 minutos. \n",
    "- A média de zb é 8,8 minutos, cerca de 13% maior. \n",
    "- A média de y é 4,4, metade da média de zb."
   ]
  },
  {
   "cell_type": "markdown",
   "metadata": {},
   "source": [
    "### Prevendo tempos de espera"
   ]
  },
  {
   "cell_type": "markdown",
   "metadata": {},
   "source": [
    "Suponha que, quando eu chego à plataforma, vejo 10 pessoas esperando. Quanto tempo devo esperar até o próximo trem chegar?"
   ]
  },
  {
   "cell_type": "markdown",
   "metadata": {},
   "source": [
    "- Distribuição real de z;\n",
    "- A taxa de chegada de passageiros, λ, é de 2 passageiros por minuto."
   ]
  },
  {
   "cell_type": "markdown",
   "metadata": {},
   "source": [
    "Etapas:\n",
    "- Use a distribuição de z para calcular a **distribuição priori de zp**, o tempo entre os trens, visto pelo passageiro;\n",
    "- Então, podemos usar o número de passageiros para estimar a distribuição de x, o tempo decorrido desde o último trem.\n",
    "- Finalmente, usamos a relação y = zp - x para obter a distribuição de y."
   ]
  },
  {
   "cell_type": "code",
   "execution_count": 11,
   "metadata": {},
   "outputs": [],
   "source": [
    "class ElapsedTimeEstimator(object):\n",
    "\n",
    "    def __init__(self, wtc, lam, num_passengers):\n",
    "        self.prior_x = Elapsed(wtc.pmf_x)\n",
    "\n",
    "        self.post_x = self.prior_x.Copy()\n",
    "        self.post_x.Update((lam, num_passengers))\n",
    "\n",
    "        self.pmf_y = PredictWaitTime(wtc.pmf_zb, self.post_x)"
   ]
  },
  {
   "cell_type": "code",
   "execution_count": 15,
   "metadata": {},
   "outputs": [],
   "source": [
    "import thinkbayes\n",
    "class Elapsed(thinkbayes.Suite):\n",
    "\n",
    "    def Likelihood(self, data, hypo):\n",
    "        x = hypo\n",
    "        lam, k = data\n",
    "        like = thinkbayes.EvalPoissonPmf(k, lam * x)\n",
    "        return like"
   ]
  },
  {
   "cell_type": "markdown",
   "metadata": {},
   "source": [
    "A verossimilhança dos dados é a probabilidade de obter k chegadas em x tempo, considerando a taxa de chegada λ."
   ]
  },
  {
   "cell_type": "code",
   "execution_count": 17,
   "metadata": {},
   "outputs": [],
   "source": [
    "def PredictWaitTime(pmf_zb, pmf_x):\n",
    "    pmf_y = pmf_zb - pmf_x\n",
    "    RemoveNegatives(pmf_y)\n",
    "    return pmf_y"
   ]
  },
  {
   "cell_type": "markdown",
   "metadata": {},
   "source": [
    "- O tempo desde o último trem é provavelmente de 5 a 10 minutos.\n",
    "- O tempo de espera para o próximo trem é de menos de 5 minutos, com cerca de 80% de confiança."
   ]
  },
  {
   "cell_type": "markdown",
   "metadata": {},
   "source": [
    "![](prevendo_tempo_de_espera.png)"
   ]
  },
  {
   "cell_type": "markdown",
   "metadata": {},
   "source": [
    "### Estimando a taxa de chegada"
   ]
  },
  {
   "cell_type": "markdown",
   "metadata": {},
   "source": [
    "![](lam_pri_pos.png)"
   ]
  },
  {
   "cell_type": "markdown",
   "metadata": {},
   "source": [
    "Suponha que você acabou de se mudar para Boston, não sabe muito sobre a taxa de chegada de passageiros na Linha Vermelha;"
   ]
  },
  {
   "cell_type": "markdown",
   "metadata": {},
   "source": [
    "- **k1** é o número de passageiros aguardando quando você chega;\n",
    "- **y** é o tempo de espera em minutos;\n",
    "- **k2** é o número de passageiros que chegam enquanto você espera.\n",
    "\n",
    "k1 | y | k2\n",
    "---|---|---\n",
    "17 | 4,6 | 9\n",
    "22 | 1,0 | 0\n",
    "23 | 1,4 | 4\n",
    "18 | 5,4 | 12\n",
    "4  | 5,8 | 11"
   ]
  },
  {
   "cell_type": "markdown",
   "metadata": {},
   "source": [
    "- Esperou 18 minutos e viu 36 passageiros chegarem;\n",
    "    - A taxa de chegada é de 2 passageiros por minuto."
   ]
  },
  {
   "cell_type": "code",
   "execution_count": 19,
   "metadata": {},
   "outputs": [],
   "source": [
    "class ArrivalRate(thinkbayes.Suite):\n",
    "\n",
    "    def Likelihood(self, data, hypo):\n",
    "        lam = hypo\n",
    "        y, k = data\n",
    "        like = thinkbayes.EvalPoissonPmf(k, lam * y)\n",
    "        return like"
   ]
  },
  {
   "cell_type": "code",
   "execution_count": 20,
   "metadata": {},
   "outputs": [],
   "source": [
    "class ArrivalRateEstimator(object):\n",
    "\n",
    "    def __init__(self, passenger_data):\n",
    "        low, high = 0, 5\n",
    "        n = 51\n",
    "        hypos = numpy.linspace(low, high, n) / 60\n",
    "\n",
    "        self.prior_lam = ArrivalRate(hypos)\n",
    "\n",
    "        self.post_lam = self.prior_lam.Copy()\n",
    "        for k1, y, k2 in passenger_data:\n",
    "            self.post_lam.Update((y, k2))"
   ]
  },
  {
   "cell_type": "markdown",
   "metadata": {},
   "source": [
    "- A média e a mediana da posterior estão próximas da taxa observada, 2 passageiros por minuto;\n",
    "- Mas a propagação da distribuição posterior captura nossa incerteza sobre λ com base em uma pequena amostra."
   ]
  },
  {
   "cell_type": "markdown",
   "metadata": {},
   "source": [
    "### Incorporando incerteza"
   ]
  },
  {
   "cell_type": "markdown",
   "metadata": {},
   "source": [
    "![](prevendo_tempo.png)"
   ]
  },
  {
   "cell_type": "markdown",
   "metadata": {},
   "source": [
    "Sempre que houver incerteza, podemos levar isso em consideração.\n",
    "\n",
    "- Implemente a análise com base em um valor determinístico do parâmetro incerto (neste caso, λ).\n",
    "- Calcule a distribuição do parâmetro incerto.\n",
    "- Execute a análise para cada valor do parâmetro e gere um conjunto de distribuições preditivas.\n",
    "- Calcule uma mistura das distribuições preditivas, usando os pesos da distribuição do parâmetro."
   ]
  },
  {
   "cell_type": "code",
   "execution_count": 23,
   "metadata": {},
   "outputs": [],
   "source": [
    "class WaitMixtureEstimator(object):\n",
    "\n",
    "    def __init__(self, wtc, are, num_passengers=15):\n",
    "        self.metapmf = thinkbayes.Pmf()\n",
    "\n",
    "        for lam, prob in sorted(are.post_lam.Items()):\n",
    "            ete = ElapsedTimeEstimator(wtc, lam, num_passengers)\n",
    "            self.metapmf.Set(ete.pmf_y, prob)\n",
    "\n",
    "        self.mixture = thinkbayes.MakeMixture(self.metapmf)"
   ]
  },
  {
   "cell_type": "markdown",
   "metadata": {},
   "source": [
    "- Distribuições de y para cada valor de lam;\n",
    "- A linha escura é a mistura dessas distribuições;"
   ]
  },
  {
   "cell_type": "markdown",
   "metadata": {},
   "source": [
    "### Análise de decisão"
   ]
  },
  {
   "cell_type": "markdown",
   "metadata": {},
   "source": [
    "- Usar o número de passageiros na plataforma para prever a distribuição dos tempos de espera.\n",
    "- Agora vamos à segunda parte da pergunta: quando devo parar de esperar o trem e pegar um táxi?"
   ]
  },
  {
   "cell_type": "markdown",
   "metadata": {},
   "source": [
    "- A análise é sensível à frequência de longos atrasos (atrasos longos são raros)\n",
    "- Usar observações anteriores para fazer uma estimativa aproximada.\n",
    "- Observações são tendenciosas;\n",
    "    - Devemos tratar as observações como uma amostra de zb em vez de z;\n",
    "\n",
    "Passos:\n",
    "- Cria uma amostra de 220 gaps e calculo seu Pmf;"
   ]
  },
  {
   "cell_type": "code",
   "execution_count": 1,
   "metadata": {},
   "outputs": [],
   "source": [
    "def passs():\n",
    "    n = 220\n",
    "    cdf_z = thinkbayes.MakeCdfFromList(gap_times)\n",
    "    sample_z = cdf_z.Sample(n)\n",
    "    pmf_z = thinkbayes.MakePmfFromList(sample_z)"
   ]
  },
  {
   "cell_type": "markdown",
   "metadata": {},
   "source": [
    "- Faz o viés de pmf_z para obter a distribuição de zb;"
   ]
  },
  {
   "cell_type": "code",
   "execution_count": 2,
   "metadata": {},
   "outputs": [],
   "source": [
    "def passs():\n",
    "    cdf_zp = BiasPmf(pmf_z).MakeCdf()\n",
    "    sample_zb = cdf_zp.Sample(n) + [1800, 2400, 3000]"
   ]
  },
  {
   "cell_type": "markdown",
   "metadata": {},
   "source": [
    "- Usa a amostra de zb para estimar uma PDF usando o KDE;\n",
    "- Converto a PDF em uma Pmf;"
   ]
  },
  {
   "cell_type": "code",
   "execution_count": 4,
   "metadata": {},
   "outputs": [],
   "source": [
    "def passs():\n",
    "    pdf_zb = thinkbayes.EstimatedPdf (sample_zb)\n",
    "    xs = MakeRange (baixo = 60)\n",
    "    pmf_zb = pdf_zb.MakePmf (xs)"
   ]
  },
  {
   "cell_type": "markdown",
   "metadata": {},
   "source": [
    "- Desassocio a distribuição de zb para obter a distribuição de z;"
   ]
  },
  {
   "cell_type": "code",
   "execution_count": 3,
   "metadata": {},
   "outputs": [],
   "source": [
    "def passs():\n",
    "    pmf_z = UnbiasPmf(pmf_zb)\n",
    "    wtc = WaitTimeCalculator(pmf_z)"
   ]
  },
  {
   "cell_type": "markdown",
   "metadata": {},
   "source": [
    "- Calcular a probabilidade de uma longa espera."
   ]
  },
  {
   "cell_type": "code",
   "execution_count": 5,
   "metadata": {},
   "outputs": [],
   "source": [
    "def ProbLongWait(num_passengers, minutes):\n",
    "    ete = ElapsedTimeEstimator(wtc, lam, num_passengers)\n",
    "    cdf_y = ete.pmf_y.MakeCdf()\n",
    "    prob = 1 - cdf_y.Prob(minutes * 60)"
   ]
  },
  {
   "cell_type": "markdown",
   "metadata": {},
   "source": [
    "![](analise_de_decisão.png)"
   ]
  },
  {
   "cell_type": "markdown",
   "metadata": {},
   "source": [
    "- Menor que 20: O sistema está operando normalmente;\n",
    "- Se houver 30 passageiros: algo está errado e esperamos atrasos maiores;"
   ]
  },
  {
   "cell_type": "markdown",
   "metadata": {},
   "source": [
    "### Discussão"
   ]
  },
  {
   "cell_type": "markdown",
   "metadata": {},
   "source": [
    "- Taxa de chegada de passageiros é a mesma todos os dias;\n",
    "- Incluir os eventos especiais no modelo, estendendo a distribuição do lam;\n",
    "- Suposição de que sabemos a distribuição de z;\n",
    "- Fazer algumas inferências sobre zb:\n",
    "    - Estimar o tempo decorrido desde o último trem, x;\n",
    "    - Observamos y;\n",
    "    - Adicionarmos a distribuição posterior de x ao y observado;\n",
    "    - Distribuição posterior sobre o valor observado de zb;\n",
    "- Atualizar nossas crenças sobre a distribuição do zb;\n",
    "- Podemos calcular o inverso da distribuição zb e encontrar z;"
   ]
  },
  {
   "cell_type": "code",
   "execution_count": null,
   "metadata": {},
   "outputs": [],
   "source": [
    "- "
   ]
  }
 ],
 "metadata": {
  "kernelspec": {
   "display_name": "Python 3",
   "language": "python",
   "name": "python3"
  },
  "language_info": {
   "codemirror_mode": {
    "name": "ipython",
    "version": 3
   },
   "file_extension": ".py",
   "mimetype": "text/x-python",
   "name": "python",
   "nbconvert_exporter": "python",
   "pygments_lexer": "ipython3",
   "version": "3.6.8"
  }
 },
 "nbformat": 4,
 "nbformat_minor": 4
}
