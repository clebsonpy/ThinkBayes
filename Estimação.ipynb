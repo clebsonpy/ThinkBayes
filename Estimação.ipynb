{
 "cells": [
  {
   "cell_type": "markdown",
   "metadata": {},
   "source": [
    "## 3 - Estimação"
   ]
  },
  {
   "cell_type": "code",
   "execution_count": 1,
   "metadata": {},
   "outputs": [],
   "source": [
    "from thinkbayes2 import Suite"
   ]
  },
  {
   "cell_type": "markdown",
   "metadata": {},
   "source": [
    "### 3.1 - O problema dos dados\n",
    "\n",
    "- Uma caixa que contém dados de 4, 6, 8, 12 e 20 lados;\n",
    "\n",
    "- Suponha que eu selecione um dado da caixa aleatoriamente, role-o e receba um 6. Qual é a probabilidade de rolar cada dado?\n",
    "\n",
    "- Estratégia de três etapas para abordar um problema como este.\n",
    "\n",
    "    - Escolha uma representação para as hipóteses.\n",
    "    - Escolha uma representação para os dados.\n",
    "    - Escreva a função de probabilidade."
   ]
  },
  {
   "cell_type": "code",
   "execution_count": 4,
   "metadata": {},
   "outputs": [],
   "source": [
    "class Dice(Suite):\n",
    "    \n",
    "    def Likelihood(self, data, hypo):\n",
    "        if hypo < data:\n",
    "            return 0\n",
    "        else:\n",
    "            return 1/hypo"
   ]
  },
  {
   "cell_type": "code",
   "execution_count": 8,
   "metadata": {},
   "outputs": [
    {
     "name": "stdout",
     "output_type": "stream",
     "text": [
      "4 0.0\n",
      "6 0.3921568627450981\n",
      "8 0.29411764705882354\n",
      "12 0.19607843137254904\n",
      "20 0.11764705882352944\n"
     ]
    }
   ],
   "source": [
    "suite = Dice([4, 6, 8, 12, 20])\n",
    "suite.Update(6)\n",
    "suite.Print()"
   ]
  },
  {
   "cell_type": "markdown",
   "metadata": {},
   "source": [
    "- A probabilidade para o dado de 4 lados é 0, pois o dado de 4 lados não possui o valor 6."
   ]
  },
  {
   "cell_type": "code",
   "execution_count": 9,
   "metadata": {},
   "outputs": [
    {
     "name": "stdout",
     "output_type": "stream",
     "text": [
      "4 0.0\n",
      "6 0.5256241787122208\n",
      "8 0.2956636005256242\n",
      "12 0.1314060446780552\n",
      "20 0.047306176084099885\n",
      "4 0.0\n",
      "6 0.0\n",
      "8 0.7351339577434111\n",
      "12 0.2178174689610107\n",
      "20 0.04704857329557832\n",
      "4 0.0\n",
      "6 0.0\n",
      "8 0.817574005587765\n",
      "12 0.16149609986918817\n",
      "20 0.020929894543046793\n",
      "4 0.0\n",
      "6 0.0\n",
      "8 0.8757125344951456\n",
      "12 0.11532016915162413\n",
      "20 0.008967296353230295\n",
      "4 0.0\n",
      "6 0.0\n",
      "8 0.9158452719690099\n",
      "12 0.08040342579700499\n",
      "20 0.0037513022339850668\n",
      "4 0.0\n",
      "6 0.0\n",
      "8 0.9432484536722124\n",
      "12 0.0552061280612909\n",
      "20 0.001545418266496554\n"
     ]
    }
   ],
   "source": [
    "for roll in [6, 8, 7, 7, 5, 4]:\n",
    "    suite.Update(roll)\n",
    "    suite.Print()"
   ]
  },
  {
   "cell_type": "markdown",
   "metadata": {},
   "source": [
    "- Com alguns lançamentos de dados a mais, o dado de 6 lados é eliminado e o dado maus provável é o de 8 lados;"
   ]
  },
  {
   "cell_type": "markdown",
   "metadata": {},
   "source": [
    "### 3.2 - O problema da locomotiva\n",
    "\n",
    "Uma ferrovia enumera suas locomotivas na ordem 1..N. Um dia você vê uma locomotiva com o número 60. Estime quantas locomotivas a ferrovia possui?\n",
    "\n",
    "Para aplicar o raciocínio bayesiano, podemos dividir esse problema em duas etapas:\n",
    "\n",
    "- O que sabíamos sobre N antes de vermos os dados? (**Priori**)\n",
    "- Para qualquer valor dado de N , qual é a probabilidade de visualizar os dados (uma locomotiva com o número 60)?(**Verossimilhança**)\n",
    "\n",
    "- Não possui muita informação para escolher uma priori;\n",
    "- Suponha que N é igualmente provável para qualquer valor entre 1 e 1000;"
   ]
  },
  {
   "cell_type": "code",
   "execution_count": 3,
   "metadata": {},
   "outputs": [],
   "source": [
    "hypos = range(1, 1001)"
   ]
  },
  {
   "cell_type": "markdown",
   "metadata": {},
   "source": [
    "- Se assumirmos que existe apenas uma empresa operacional de trem;\n",
    "- São igualmente provável de ver qualquer de suas locomotivas;"
   ]
  },
  {
   "cell_type": "code",
   "execution_count": 2,
   "metadata": {},
   "outputs": [],
   "source": [
    "class Train(Suite):\n",
    "    def Likelihood(self, data, hypo):\n",
    "        if hypo < data:\n",
    "            return 0\n",
    "        else:\n",
    "            return 1/hypo"
   ]
  },
  {
   "cell_type": "markdown",
   "metadata": {},
   "source": [
    "- A função de verossimilhança da locomotiva é igual para os dados;"
   ]
  },
  {
   "cell_type": "code",
   "execution_count": 4,
   "metadata": {},
   "outputs": [
    {
     "data": {
      "image/png": "[encoded data removed]",
      "text/plain": [
       "<Figure size 432x288 with 1 Axes>"
      ]
     },
     "metadata": {
      "needs_background": "light"
     },
     "output_type": "display_data"
    }
   ],
   "source": [
    "suite = Train(hypos)\n",
    "suite.Update(60)\n",
    "suite.plot()"
   ]
  },
  {
   "cell_type": "markdown",
   "metadata": {},
   "source": [
    "- O valor mais provável para o problema da locomotiva é 60;\n",
    "- Calcular a média da distribuição posteriori;"
   ]
  },
  {
   "cell_type": "code",
   "execution_count": 5,
   "metadata": {},
   "outputs": [
    {
     "data": {
      "text/plain": [
       "333.41989326371095"
      ]
     },
     "execution_count": 5,
     "metadata": {},
     "output_type": "execute_result"
    }
   ],
   "source": [
    "suite.mean()"
   ]
  },
  {
   "cell_type": "markdown",
   "metadata": {},
   "source": [
    "- A média é um bom palpite para minimizar o erro quadrático médio a longo prazo."
   ]
  },
  {
   "cell_type": "markdown",
   "metadata": {},
   "source": [
    "### 3.3 - E quanto a priori"
   ]
  },
  {
   "cell_type": "markdown",
   "metadata": {},
   "source": [
    "- Foram feitas algumas suposições para resolver o problema da locomotiva;\n",
    "\n",
    "- Portanto, podemos nos perguntar se a distribuição posterior é sensível a essas suposições. Com tão poucos dados - apenas uma observação - provavelmente é;\n"
   ]
  },
  {
   "cell_type": "code",
   "execution_count": 6,
   "metadata": {},
   "outputs": [
    {
     "data": {
      "image/png": "[encoded data removed]",
      "text/plain": [
       "<Figure size 432x288 with 1 Axes>"
      ]
     },
     "metadata": {
      "needs_background": "light"
     },
     "output_type": "display_data"
    },
    {
     "data": {
      "text/plain": [
       "552.179017164631"
      ]
     },
     "execution_count": 6,
     "metadata": {},
     "output_type": "execute_result"
    }
   ],
   "source": [
    "hypos = range(1, 2001)\n",
    "suite = Train(hypos)\n",
    "suite.Update(60)\n",
    "suite.plot()\n",
    "suite.mean()"
   ]
  },
  {
   "cell_type": "code",
   "execution_count": 7,
   "metadata": {},
   "outputs": [
    {
     "data": {
      "image/png": "[encoded data removed]",
      "text/plain": [
       "<Figure size 432x288 with 1 Axes>"
      ]
     },
     "metadata": {
      "needs_background": "light"
     },
     "output_type": "display_data"
    },
    {
     "data": {
      "text/plain": [
       "207.079227983409"
      ]
     },
     "execution_count": 7,
     "metadata": {},
     "output_type": "execute_result"
    }
   ],
   "source": [
    "hypos = range(1, 501)\n",
    "suite = Train(hypos)\n",
    "suite.Update(60)\n",
    "suite.plot()\n",
    "suite.mean()"
   ]
  },
  {
   "cell_type": "markdown",
   "metadata": {},
   "source": [
    "Duas maneiras para proceder:\n",
    "- Obter mais dados;\n",
    "- Obter mais informações anterior(básicas)\n",
    "\n",
    "Com mais dados, a distribuição posteriori baseada em diferentes priori tendem a convergir;\n"
   ]
  },
  {
   "cell_type": "code",
   "execution_count": 6,
   "metadata": {},
   "outputs": [
    {
     "name": "stdout",
     "output_type": "stream",
     "text": [
      "333.41989326371095\n",
      "178.5473531797158\n",
      "164.3055864227336\n"
     ]
    }
   ],
   "source": [
    "hypos = range(1, 1001)\n",
    "suite = Train(hypos)\n",
    "for data in [60, 30, 90]:\n",
    "    suite.Update(data)\n",
    "    print(suite.mean())"
   ]
  },
  {
   "cell_type": "code",
   "execution_count": 7,
   "metadata": {},
   "outputs": [
    {
     "name": "stdout",
     "output_type": "stream",
     "text": [
      "207.079227983409\n",
      "143.812319820979\n",
      "151.84958795903822\n"
     ]
    }
   ],
   "source": [
    "hypos = range(1, 501)\n",
    "suite = Train(hypos)\n",
    "for data in [60, 30, 90]:\n",
    "    suite.Update(data)\n",
    "    print(suite.mean())"
   ]
  },
  {
   "cell_type": "code",
   "execution_count": 8,
   "metadata": {},
   "outputs": [
    {
     "name": "stdout",
     "output_type": "stream",
     "text": [
      "552.179017164631\n",
      "215.56892550615473\n",
      "171.3381810915094\n"
     ]
    }
   ],
   "source": [
    "hypos = range(1, 2001)\n",
    "suite = Train(hypos)\n",
    "for data in [60, 30, 90]:\n",
    "    suite.Update(data)\n",
    "    print(suite.mean())"
   ]
  },
  {
   "cell_type": "markdown",
   "metadata": {},
   "source": [
    "### 3.4 - Uma priori alternativa"
   ]
  },
  {
   "cell_type": "markdown",
   "metadata": {},
   "source": [
    "- Se mais dados não estiverem disponíveis, outra opção é melhorar os anteriores, reunindo mais informações básicas.\n",
    "\n",
    "    - Poderíamos encontrar uma lista de empresas que operam locomotivas na área de observação;\n",
    "    - Podemos entrevistar um **especialista** em transporte ferroviário para coletar informações sobre o tamanho típico das empresas."
   ]
  },
  {
   "cell_type": "markdown",
   "metadata": {},
   "source": [
    "Na maioria dos campos, existem muitas empresas pequenas, menos empresas de médio porte e apenas uma ou duas empresas muito grandes.\n",
    "\n",
    "\\begin{equation}\n",
    "PMF \\propto \\left (\\frac{1}{x}\\right )^{\\alpha}\n",
    "\\end{equation}"
   ]
  },
  {
   "cell_type": "markdown",
   "metadata": {},
   "source": [
    "- Lei do poder(energia);"
   ]
  },
  {
   "cell_type": "code",
   "execution_count": 12,
   "metadata": {},
   "outputs": [],
   "source": [
    "from thinkbayes import Pmf\n",
    "import matplotlib.pyplot as plt\n",
    "\n",
    "class Train(Pmf):\n",
    "    \n",
    "    def __init__(self, hypos, alpha=1):\n",
    "        super().__init__(self)\n",
    "        for hypo in hypos:\n",
    "            self.Set(hypo, hypo**(-alpha))\n",
    "        self.Normalize()\n",
    "    \n",
    "    def Likelihood(self, data, hypo):\n",
    "        if hypo < data:\n",
    "            return 0\n",
    "        else:\n",
    "            return 1/hypo\n",
    "        \n",
    "    def Update(self, data):\n",
    "        for hypo in self.Values():\n",
    "            like = self.Likelihood(data, hypo)\n",
    "            self.Mult(hypo, like)\n",
    "        self.Normalize()\n",
    "        \n",
    "    def Print(self):\n",
    "        for hypo, prob in self.Items():\n",
    "            print(hypo, prob)\n",
    "    \n",
    "    def plot(self):\n",
    "        x = []\n",
    "        y = []\n",
    "        for hypo, prob in self.Items():\n",
    "            x.append(hypo)\n",
    "            y.append(prob)\n",
    "        plt.plot(x, y)\n",
    "        plt.show()\n",
    "    \n",
    "    def mean(self):\n",
    "        total = 0\n",
    "        for hypo, prob in self.Items():\n",
    "            total += hypo * prob\n",
    "        \n",
    "        return total\n",
    "    \n",
    "    def Percentile(self, percentage):\n",
    "        p = percentage/100\n",
    "        total = 0\n",
    "        for val, prob in self.Items():\n",
    "            total += prob\n",
    "            if total >= p:\n",
    "                return val"
   ]
  },
  {
   "cell_type": "code",
   "execution_count": 13,
   "metadata": {},
   "outputs": [
    {
     "data": {
      "image/png": "[encoded data removed]",
      "text/plain": [
       "<Figure size 432x288 with 1 Axes>"
      ]
     },
     "metadata": {
      "needs_background": "light"
     },
     "output_type": "display_data"
    },
    {
     "data": {
      "text/plain": [
       "178.54735317971574"
      ]
     },
     "execution_count": 13,
     "metadata": {},
     "output_type": "execute_result"
    }
   ],
   "source": [
    "hypos = range(1, 1001)\n",
    "suite = Train(hypos)\n",
    "suite.Update(60)\n",
    "suite.plot()\n",
    "suite.mean()"
   ]
  },
  {
   "cell_type": "code",
   "execution_count": 14,
   "metadata": {},
   "outputs": [
    {
     "name": "stdout",
     "output_type": "stream",
     "text": [
      "143.81231982097896\n",
      "106.36102951451466\n",
      "130.70846986256004\n"
     ]
    }
   ],
   "source": [
    "hypos = range(1, 501)\n",
    "suite = Train(hypos)\n",
    "for data in [60, 30, 90]:\n",
    "    suite.Update(data)\n",
    "    print(suite.mean())"
   ]
  },
  {
   "cell_type": "code",
   "execution_count": 15,
   "metadata": {},
   "outputs": [
    {
     "name": "stdout",
     "output_type": "stream",
     "text": [
      "178.54735317971574\n",
      "112.32543159449712\n",
      "133.2752313750312\n"
     ]
    }
   ],
   "source": [
    "hypos = range(1, 1001)\n",
    "suite = Train(hypos)\n",
    "for data in [60, 30, 90]:\n",
    "    suite.Update(data)\n",
    "    print(suite.mean())"
   ]
  },
  {
   "cell_type": "code",
   "execution_count": 16,
   "metadata": {},
   "outputs": [
    {
     "name": "stdout",
     "output_type": "stream",
     "text": [
      "215.56892550615513\n",
      "115.5682277235634\n",
      "133.99746308073065\n"
     ]
    }
   ],
   "source": [
    "hypos = range(1, 2001)\n",
    "suite = Train(hypos)\n",
    "for data in [60, 30, 90]:\n",
    "    suite.Update(data)\n",
    "    print(suite.mean())"
   ]
  },
  {
   "cell_type": "markdown",
   "metadata": {},
   "source": [
    "### 3.5 - Intervalos de credibilidade"
   ]
  },
  {
   "cell_type": "markdown",
   "metadata": {},
   "source": [
    "É útil resumir os resultados com uma estimativa de ponto único ou um intervalo.\n",
    "\n",
    "Para ponto único:\n",
    "- Média;\n",
    "- Mediana;\n",
    "- Máxima verossimilhança;\n",
    "\n",
    "Para intervalo(**intervalo de credibilidade**):\n",
    "- Dois valores calculados para que haja 90% de chance de o valor desconhecido cair entre eles;\n"
   ]
  },
  {
   "cell_type": "code",
   "execution_count": 17,
   "metadata": {},
   "outputs": [
    {
     "name": "stdout",
     "output_type": "stream",
     "text": [
      "(91, 243)\n"
     ]
    }
   ],
   "source": [
    "interval = suite.Percentile(5), suite.Percentile(95)\n",
    "print(interval)"
   ]
  },
  {
   "cell_type": "markdown",
   "metadata": {},
   "source": [
    "### 3.6 - Funções de distribuição cumulativa (CDF)"
   ]
  },
  {
   "cell_type": "markdown",
   "metadata": {},
   "source": [
    "Para calcular os valores de percentis é mais eficiente usar uma função de distribuição cumulativa, ou Cdf;"
   ]
  },
  {
   "cell_type": "code",
   "execution_count": 18,
   "metadata": {},
   "outputs": [],
   "source": [
    "cdf = suite.MakeCdf()"
   ]
  },
  {
   "cell_type": "code",
   "execution_count": 19,
   "metadata": {},
   "outputs": [
    {
     "name": "stdout",
     "output_type": "stream",
     "text": [
      "(91, 243)\n"
     ]
    }
   ],
   "source": [
    "interval = cdf.Percentile(5), cdf.Percentile(95)\n",
    "print(interval)"
   ]
  },
  {
   "cell_type": "markdown",
   "metadata": {},
   "source": [
    "### 3.7 - O problema do tanque alemão"
   ]
  },
  {
   "cell_type": "markdown",
   "metadata": {},
   "source": [
    "- Análise estatística para estimar a produção alemã de tanques e outros equipamentos;\n"
   ]
  },
  {
   "cell_type": "markdown",
   "metadata": {},
   "source": [
    "### 3.8 - Discussão"
   ]
  },
  {
   "cell_type": "markdown",
   "metadata": {},
   "source": [
    "- **Priori informativa**: \n",
    "    - Represente informações básicas sobre o problema;\n",
    "    - As priores informativos geralmente parecem subjetivos;\n",
    "\n",
    "\n",
    "- **Priori não informativa**:\n",
    "    - Permitir que os dados falem por si mesmos;\n",
    "    - São mais objetivas;\n",
    "\n",
    "\n",
    "Análise bayesiana é sempre baseada em decisões de modelagem -> toda a análise ainda é subjetiva.\n",
    "\n",
    "- Possui muitos dados ou pouco.\n",
    "    - Muito dados: a escolha do prior não importa muito; \n",
    "    - Pouco dados: Priori informativa faz grande diferença;\n"
   ]
  },
  {
   "cell_type": "code",
   "execution_count": null,
   "metadata": {},
   "outputs": [],
   "source": []
  }
 ],
 "metadata": {
  "kernelspec": {
   "display_name": "Python 3",
   "language": "python",
   "name": "python3"
  },
  "language_info": {
   "codemirror_mode": {
    "name": "ipython",
    "version": 3
   },
   "file_extension": ".py",
   "mimetype": "text/x-python",
   "name": "python",
   "nbconvert_exporter": "python",
   "pygments_lexer": "ipython3",
   "version": "3.6.8"
  }
 },
 "nbformat": 4,
 "nbformat_minor": 4
}
