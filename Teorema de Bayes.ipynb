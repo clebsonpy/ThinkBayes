{
 "cells": [
  {
   "cell_type": "markdown",
   "metadata": {},
   "source": [
    "# Think Bayes\n",
    "## 1 - Teorema de Bayes"
   ]
  },
  {
   "cell_type": "markdown",
   "metadata": {},
   "source": [
    "Com a compreensão de probabilidade conjunta, podemos derivar o teorema de bayes;"
   ]
  },
  {
   "cell_type": "markdown",
   "metadata": {},
   "source": [
    "### 1.1 - Probabilidade Condicional"
   ]
  },
  {
   "cell_type": "markdown",
   "metadata": {},
   "source": [
    "- Probabilidade é um valor entre 0 (Falso) e 1 (Verdadeiro), onde os valores intermediários representa o grau do fato ser verdadeiro.\n",
    "- é baseada em infromações anteriores(básicas), onde as informações são condicionais;\n",
    "\n",
    "$P(A|B)$\n"
   ]
  },
  {
   "cell_type": "markdown",
   "metadata": {},
   "source": [
    "### 1.2 - Probabilidade Conjunta"
   ]
  },
  {
   "cell_type": "markdown",
   "metadata": {},
   "source": [
    "- É a probabilidade de dois eventos serem verdadeiros;\n",
    "\n",
    "$p(A \\ e \\ B) = p(A)p(B)$ - Eventos independentes\n",
    "\n",
    "$p(A \\ e \\ B) = p(A)p(B|A)$ - Eventos dependentes"
   ]
  },
  {
   "cell_type": "markdown",
   "metadata": {},
   "source": [
    "### 1.3 - O problema do biscoito"
   ]
  },
  {
   "cell_type": "markdown",
   "metadata": {},
   "source": [
    "Suppose there are two full bowls of cookies. Bowl #1 has 10 chocolate chip and 30 plain cookies, while bowl #2 has 20 of each. Our friend Fred picks a bowl at random, and then picks a cookie at random. We may assume there is no reason to believe Fred treats one bowl differently from another, likewise for the cookies. The cookie turns out to be a plain one. How probable is it that Fred picked it out of Bowl #1?"
   ]
  },
  {
   "cell_type": "markdown",
   "metadata": {},
   "source": [
    "- $p(B1|V)$: Este é um problema condicional difícil de calcular;\n",
    "- $p(V|B1)$: Este é fácil;\n",
    "- Mas com o teorema de bayes podemos calcular o problema 1;"
   ]
  },
  {
   "cell_type": "markdown",
   "metadata": {},
   "source": [
    "### 1.4 - Teorema de Bayes"
   ]
  },
  {
   "cell_type": "markdown",
   "metadata": {},
   "source": [
    "- A conjunção é comutativa;\n",
    "\n",
    "$p(A \\ e \\ B) = p(B \\ e \\ A)$\n",
    "\n",
    "$p(A \\ e \\ B) = p(A)p(B|A)$\n",
    "\n",
    "$p(B \\ e \\ A) = p(B)p(A|B)$\n",
    "\n",
    "$p(A|B) = \\frac{p(A)p(B|A)}{p(B)}$\n",
    "\n",
    "- O teoema é simples de ser observado, mais muito poderoso;\n",
    "\n",
    "Conectando com o problema do biscoito, temos:\n",
    "\n",
    "- p(B1|V): é o probabilidade do biscoito ser do pote 1, dado que ele é de baunilha;\n",
    "- p(B1): probabilidade do pote 1 ser selecionado;\n",
    "- p(V|B1): Probabilidade do biscoito de baunilha ser selecionado no pote 1;\n",
    "- p(V): Probabilidade de biscoito de baunilha ser selecionado;\n",
    "\n",
    "$p(B1|V) = \\frac{\\frac{1}{2} · \\frac{3}{4}}{\\frac{5}{8}} = \\frac{3}{5}$"
   ]
  },
  {
   "cell_type": "markdown",
   "metadata": {},
   "source": [
    "### 1.5 - Interpretação diacrônica"
   ]
  },
  {
   "cell_type": "markdown",
   "metadata": {},
   "source": [
    "- Outra maneira de pensar o teorema de bayes, a probabilidade de uma hipótese é atualizar de acordo com que conhecemos os dados;\n",
    "\n",
    "$p(H|D) = \\frac{p(H)p(D|H)}{p(D)}$\n",
    "\n",
    "- p(H|D): a probabilidade da hipótese depois de vermos os dados, chamados de posterior.\n",
    "- p(D|H): é a probabilidade dos dados sob a hipótese, denominada probabilidade;\n",
    "- p(H): é a probabilidade da hipótese antes de vermos os dados, chamados de probabilidade a priori.\n",
    "- p(D): é a probabilidade dos dados sob qualquer hipótese, denominada constante de normalização.\n",
    "\n",
    "- A probabilidade a priori é subjetiva, onde os dados podem ser interpretados de maneira diferente;\n",
    "- Na maioria das vezes, simplificamos as coisas especificando um conjunto de hipóteses que são\n",
    " - Mutualmente exclusivo: No máximo, uma hipótese no conjunto pode ser verdadeira e\n",
    " - Coletivamente exaustivo: Não há outras possibilidades; pelo menos uma das hipóteses deve ser verdadeira."
   ]
  },
  {
   "cell_type": "markdown",
   "metadata": {},
   "source": [
    "### 1.6 - O problema de M&M"
   ]
  },
  {
   "cell_type": "markdown",
   "metadata": {},
   "source": [
    "- demostra o método da tabela;"
   ]
  },
  {
   "cell_type": "markdown",
   "metadata": {},
   "source": [
    "### 1.7 - O problema de Monty Hall"
   ]
  },
  {
   "cell_type": "code",
   "execution_count": null,
   "metadata": {},
   "outputs": [],
   "source": []
  },
  {
   "cell_type": "markdown",
   "metadata": {},
   "source": [
    "### 1.8 - Discussão"
   ]
  },
  {
   "cell_type": "markdown",
   "metadata": {},
   "source": [
    "Para muitos problemas que envolvem probabilidade condicional, o teorema de Bayes fornece uma estratégia de dividir e conquistar. Se p (A|B) é difícil de calcular, ou difícil de medir experimentalmente, verifique se pode ser mais fácil calcular os outros termos no teorema de Bayes, p (B|A), p (A) e p (B)."
   ]
  },
  {
   "cell_type": "code",
   "execution_count": null,
   "metadata": {},
   "outputs": [],
   "source": []
  }
 ],
 "metadata": {
  "kernelspec": {
   "display_name": "Python 3",
   "language": "python",
   "name": "python3"
  },
  "language_info": {
   "codemirror_mode": {
    "name": "ipython",
    "version": 3
   },
   "file_extension": ".py",
   "mimetype": "text/x-python",
   "name": "python",
   "nbconvert_exporter": "python",
   "pygments_lexer": "ipython3",
   "version": "3.6.8"
  }
 },
 "nbformat": 4,
 "nbformat_minor": 4
}
