{
 "cells": [
  {
   "cell_type": "markdown",
   "metadata": {},
   "source": [
    "## Mais sobre estimação"
   ]
  },
  {
   "cell_type": "code",
   "execution_count": 1,
   "metadata": {},
   "outputs": [],
   "source": [
    "from thinkbayes2 import Suite"
   ]
  },
  {
   "cell_type": "markdown",
   "metadata": {},
   "source": [
    "### Problema do euro\n",
    "\n",
    "- Girou 250 vezes uma moeda;\n",
    "    - Cara 140;\n",
    "    - Coroa 110;\n",
    "\n",
    "\n",
    "- Chance de um resultado como esse é de 7%;\n",
    "\n",
    "- Mas esses dados evidenciam que a moeda é tendenciosa em vez de justa?"
   ]
  },
  {
   "cell_type": "markdown",
   "metadata": {},
   "source": [
    "Dois passos\n",
    "- O primeiro é estimar a probabilidade de a moeda cair para cima.\n",
    "- O segundo é avaliar se os dados suportam a hipótese de que a moeda é tendenciosa."
   ]
  },
  {
   "cell_type": "markdown",
   "metadata": {},
   "source": [
    "A probabilidade de uma dada moeda depende de algumas características;\n",
    "- Distribuição do peso;\n",
    "\n",
    "Para x ser igual a 50%, a moeda tem que ser perfeitamente equilibrada;"
   ]
  },
  {
   "cell_type": "code",
   "execution_count": 4,
   "metadata": {},
   "outputs": [],
   "source": [
    "class Euro(Suite):\n",
    "    \n",
    "    def Likelihood(self, data, hypo):\n",
    "        x = hypo\n",
    "        if data == 'H':\n",
    "            return x/100\n",
    "        else:\n",
    "            return 1-x/100"
   ]
  },
  {
   "cell_type": "code",
   "execution_count": 5,
   "metadata": {},
   "outputs": [
    {
     "data": {
      "image/png": "[encoded data removed]",
      "text/plain": [
       "<Figure size 432x288 with 1 Axes>"
      ]
     },
     "metadata": {
      "needs_background": "light"
     },
     "output_type": "display_data"
    }
   ],
   "source": [
    "suite = Euro(range(0, 101))\n",
    "dataset = 'H'*140 + 'T'*110\n",
    "for data in dataset:\n",
    "    suite.Update(data)\n",
    "\n",
    "suite.plot()"
   ]
  },
  {
   "cell_type": "markdown",
   "metadata": {},
   "source": [
    "### Resumindo a posteriori"
   ]
  },
  {
   "cell_type": "markdown",
   "metadata": {},
   "source": [
    "Existem várias maneiras de resumir a distribuição posterior"
   ]
  },
  {
   "cell_type": "code",
   "execution_count": 7,
   "metadata": {},
   "outputs": [
    {
     "name": "stdout",
     "output_type": "stream",
     "text": [
      "Máxima Verossimilhança: 56 \n",
      "Média: 55.952380952380956\n",
      "Mediana: 56\n",
      "CI: (51, 61)\n"
     ]
    }
   ],
   "source": [
    "print(suite.summarize(90))"
   ]
  },
  {
   "cell_type": "markdown",
   "metadata": {},
   "source": [
    "- That the **observed percentage** is the **maximum likelihood estimator** for the population;\n",
    "- We would like to know whether the coin is fair"
   ]
  },
  {
   "cell_type": "markdown",
   "metadata": {},
   "source": [
    "- No intervalo de credibilidade não inclui 50%, isso sugere que a moeda não é justa;"
   ]
  },
  {
   "cell_type": "code",
   "execution_count": 8,
   "metadata": {},
   "outputs": [
    {
     "name": "stdout",
     "output_type": "stream",
     "text": [
      "0.02097652612954468\n"
     ]
    }
   ],
   "source": [
    "print(suite.Prob(50))"
   ]
  },
  {
   "cell_type": "markdown",
   "metadata": {},
   "source": [
    "### Swamping the priors"
   ]
  },
  {
   "cell_type": "markdown",
   "metadata": {},
   "source": [
    "- Priori uniforme não parece ser uma boa escolha;\n",
    "- Priori triangular, maior probabilidade a valores de x próximos a 50% e menor probabilidade a valores extremos.\n",
    "- Diferentes priori tendem a convergir para a mesma posterior."
   ]
  },
  {
   "cell_type": "markdown",
   "metadata": {},
   "source": [
    "### Otimização"
   ]
  },
  {
   "cell_type": "markdown",
   "metadata": {},
   "source": [
    "- Mudar o Update para normalizar o conjunto de dados;\n",
    "- Mudar o likelihood para processar o conjunto de dados;\n",
    "- As alterações melhoram o tempo de execução;"
   ]
  },
  {
   "cell_type": "markdown",
   "metadata": {},
   "source": [
    "### Distribuição Beta"
   ]
  },
  {
   "cell_type": "markdown",
   "metadata": {},
   "source": [
    "- Usar uma distribuição contínua para otimizar o processamento;\n",
    "- Distribuição Beta;\n",
    "    - Intervalo de 0 a 1;\n",
    "    - A priori for Beta, a posteriori também sera Beta;\n",
    "\n",
    "- A distribuição beta depende de dois parâmetros $(\\alpha \\ e \\ \\beta)$;\n"
   ]
  },
  {
   "cell_type": "markdown",
   "metadata": {},
   "source": [
    "$priori(\\alpha, \\beta)$ -> $posteriori(\\alpha+h, \\beta+t)$"
   ]
  },
  {
   "cell_type": "markdown",
   "metadata": {},
   "source": [
    "- Só funciona se a distribuição beta for uma boa escolha da priori."
   ]
  },
  {
   "cell_type": "code",
   "execution_count": 12,
   "metadata": {},
   "outputs": [],
   "source": [
    "class Beta(object):\n",
    "    \n",
    "    def __init__(self, alpha=0, beta=1):\n",
    "        self.alpha = alpha\n",
    "        self.beta = beta\n",
    "    \n",
    "    def update(self, data):\n",
    "        heads, tails = data\n",
    "        self.alpha += heads\n",
    "        self.beta += tails\n",
    "    \n",
    "    def mean(self):\n",
    "        return float(self.alpha) / (self.alpha + self.beta)\n",
    "    \n",
    "    def EvalPdf(self, x):\n",
    "        return x ** (self.alpha - 1) * (1 - x) ** (self.beta - 1)\n",
    "    \n",
    "    def MakePmf(self, steps=101, name=''):\n",
    "        if self.alpha < 1 or self.beta < 1:\n",
    "            cdf = self.MakeCdf()\n",
    "            pmf = cdf.MakePmf()\n",
    "            return pmf\n",
    "\n",
    "        xs = [i / (steps - 1.0) for i in xrange(steps)]\n",
    "        probs = [self.EvalPdf(x) for x in xs]\n",
    "        pmf = MakePmfFromDict(dict(zip(xs, probs)), name)\n",
    "        return pmf\n",
    "\n",
    "    def MakeCdf(self, steps=101):\n",
    "        xs = [i / (steps - 1.0) for i in xrange(steps)]\n",
    "        ps = [scipy.special.betainc(self.alpha, self.beta, x) for x in xs]\n",
    "        cdf = Cdf(xs, ps)\n",
    "        return cdf"
   ]
  },
  {
   "cell_type": "code",
   "execution_count": 13,
   "metadata": {},
   "outputs": [
    {
     "name": "stdout",
     "output_type": "stream",
     "text": [
      "0.5577689243027888\n"
     ]
    }
   ],
   "source": [
    "beta = Beta()\n",
    "beta.update((140, 110))\n",
    "print(beta.mean())"
   ]
  },
  {
   "cell_type": "markdown",
   "metadata": {},
   "source": [
    "### Discussões"
   ]
  },
  {
   "cell_type": "markdown",
   "metadata": {},
   "source": [
    "- Se duas pessoas começam com **priori diferentes**, à medida que **veem mais dados**, suas distribuições **posteriores convergem**;\n",
    "- E para muitos problemas do mundo real, **mesmas crenças** prévias podem eventualmente ser reconciliadas por dados;\n",
    "- As crenças posteriores podem não convergir;\n",
    "- **Regra de Cromwell**, que é a recomendação de que você deve evitar dar uma probabilidade prévia de 0 a qualquer hipótese que seja remotamente possível"
   ]
  },
  {
   "cell_type": "code",
   "execution_count": null,
   "metadata": {},
   "outputs": [],
   "source": []
  }
 ],
 "metadata": {
  "kernelspec": {
   "display_name": "Python 3",
   "language": "python",
   "name": "python3"
  },
  "language_info": {
   "codemirror_mode": {
    "name": "ipython",
    "version": 3
   },
   "file_extension": ".py",
   "mimetype": "text/x-python",
   "name": "python",
   "nbconvert_exporter": "python",
   "pygments_lexer": "ipython3",
   "version": "3.6.8"
  }
 },
 "nbformat": 4,
 "nbformat_minor": 4
}
