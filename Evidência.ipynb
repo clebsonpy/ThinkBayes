{
 "cells": [
  {
   "cell_type": "markdown",
   "metadata": {},
   "source": [
    "## 12 - Evidência"
   ]
  },
  {
   "cell_type": "markdown",
   "metadata": {},
   "source": [
    "### 12.1 - Interpretando as pontuações do SAT"
   ]
  },
  {
   "cell_type": "markdown",
   "metadata": {},
   "source": [
    "- SAT: Um teste padronizado destinado a medir a preparação para o trabalho de nível universitário em matemática;\n",
    "\n",
    "Se Alice obteve 780 e Bob obteve um 740 (de um possível 800), convém saber se essa diferença é uma evidência de que Alice está melhor preparada que Bob e qual é a força dessa evidência.\n",
    "\n",
    "- Quão forte é a evidência de que Alice está melhor preparada que Bob?\n",
    "- Finjo, temporariamente, que todas as perguntas do SAT são igualmente difíceis.\n",
    "\n",
    "- `p_correct`: Probabilidade de responder corretamente a qualquer pergunta;"
   ]
  },
  {
   "cell_type": "markdown",
   "metadata": {},
   "source": [
    "### 12.2 A escala"
   ]
  },
  {
   "cell_type": "markdown",
   "metadata": {},
   "source": [
    "- Entender o processo de pontuação e dimensionamento do SAT;\n",
    "    - Pontuação bruta com base no número de perguntas corretas e incorretas;\n",
    "    - A pontuação é escalada no intervalo de 200 a 800;\n",
    "\n",
    "    - A pontuação bruta é o número de perguntas respondidas corretamente, menos uma penalidade de 1/4 de ponto para cada pergunta respondida incorretamente.\n"
   ]
  },
  {
   "cell_type": "markdown",
   "metadata": {},
   "source": [
    "### 12.3 - A priori"
   ]
  },
  {
   "cell_type": "markdown",
   "metadata": {},
   "source": [
    "- Podemos usar a distribuição de pontuações brutas para modelar a distribuição a priori de `p_correct`."
   ]
  },
  {
   "cell_type": "code",
   "execution_count": 2,
   "metadata": {},
   "outputs": [],
   "source": [
    "class Exam(object):\n",
    "\n",
    "    def __init__(self):\n",
    "        self.scale = ReadScale()\n",
    "        scores = ReadRanks()\n",
    "        score_pmf = thinkbayes.MakePmfFromDict(dict(scores))\n",
    "        self.raw = self.ReverseScale(score_pmf)\n",
    "        self.max_score = max(self.raw.Values())\n",
    "        self.prior = DivideValues(self.raw, self.max_score)"
   ]
  },
  {
   "cell_type": "markdown",
   "metadata": {},
   "source": [
    "![](p_corret.png)"
   ]
  },
  {
   "cell_type": "markdown",
   "metadata": {},
   "source": [
    "- Distribuição a priori de `p_correct` para os participantes do teste SAT.\n",
    "- Essa distribuição é aproximadamente gaussiana, mas é comprimida nos extremos\n",
    "- o SAT tem **mais poder de diferenciar** entre os participantes do teste **dentro de dois desvios padrão da média** e menos poder fora desse intervalo."
   ]
  },
  {
   "cell_type": "code",
   "execution_count": 7,
   "metadata": {},
   "outputs": [],
   "source": [
    "import thinkbayes\n",
    "class Sat(thinkbayes.Suite):\n",
    "\n",
    "    def __init__(self, exam, score):\n",
    "        thinkbayes.Suite.__init__(self)\n",
    "\n",
    "        self.exam = exam\n",
    "        self.score = score\n",
    "\n",
    "        # start with the prior distribution\n",
    "        for p_correct, prob in exam.prior.Items():\n",
    "            self.Set(p_correct, prob)\n",
    "\n",
    "        # update based on an exam score\n",
    "        self.Update(score)\n",
    "        \n",
    "    def Likelihood(self, data, hypo):\n",
    "        p_correct = hypo\n",
    "        score = data\n",
    "\n",
    "        k = self.exam.Reverse(score)\n",
    "        n = self.exam.max_score\n",
    "        like = thinkbayes.EvalBinomialPmf(k, n, p_correct)\n",
    "        return like"
   ]
  },
  {
   "cell_type": "markdown",
   "metadata": {},
   "source": [
    "- `hypo` é um valor hipotético de `p_correct`\n",
    "- `data` é uma pontuação escalada."
   ]
  },
  {
   "cell_type": "markdown",
   "metadata": {},
   "source": [
    "- Pontuação bruta como o número de respostas corretas, ignorando a penalidade por respostas erradas;\n",
    "- A verossimilhança é dada pela distribuição binomial, que calcula a probabilidade de k respostas corretas de n perguntas."
   ]
  },
  {
   "cell_type": "markdown",
   "metadata": {},
   "source": [
    "### 12.4 - Posteriori"
   ]
  },
  {
   "cell_type": "markdown",
   "metadata": {},
   "source": [
    "![](posteriori_12.png)"
   ]
  },
  {
   "cell_type": "markdown",
   "metadata": {},
   "source": [
    "- Distribuições posteriores de `p_correct` para Alice e Bob."
   ]
  },
  {
   "cell_type": "markdown",
   "metadata": {},
   "source": [
    "- Quão forte é a evidência de que Alice está melhor preparada que Bob?"
   ]
  },
  {
   "cell_type": "markdown",
   "metadata": {},
   "source": [
    "Para formular a pergunta em termos de teste de hipótese bayesiana, defino duas hipóteses:\n",
    "\n",
    "- A: `p_correct` mais alto para Alice do que para Bob.\n",
    "- B: `p_correct` mais alto para Bob do que para Alice."
   ]
  },
  {
   "cell_type": "markdown",
   "metadata": {},
   "source": [
    "Para calcular a verossimilhança de **A** , podemos enumerar todos os pares de valores das distribuições posteriores e somar a probabilidade total dos casos em que `p_correct` é maior para Alice do que para Bob."
   ]
  },
  {
   "cell_type": "code",
   "execution_count": 8,
   "metadata": {},
   "outputs": [],
   "source": [
    "class TopLevel(thinkbayes.Suite):\n",
    "\n",
    "    def Update(self, data):\n",
    "        a_sat, b_sat = data\n",
    "\n",
    "        a_like = thinkbayes.PmfProbGreater(a_sat, b_sat)\n",
    "        b_like = thinkbayes.PmfProbLess(a_sat, b_sat)\n",
    "        c_like = thinkbayes.PmfProbEqual(a_sat, b_sat)\n",
    "\n",
    "        a_like += c_like / 2\n",
    "        b_like += c_like / 2\n",
    "\n",
    "        self.Mult('A', a_like)\n",
    "        self.Mult('B', b_like)\n",
    "\n",
    "        self.Normalize()"
   ]
  },
  {
   "cell_type": "markdown",
   "metadata": {},
   "source": [
    "- **a_like** é a probabilidade total que `p_correct` é maior para Alice; \n",
    "- **b_like** é a probabilidade de que seja maior para Bob;\n",
    "- **c_like** é a probabilidade de serem \"iguais\";"
   ]
  },
  {
   "cell_type": "markdown",
   "metadata": {},
   "source": [
    "Se usarmos mais valores, c_like será menor e, no extremo, se `p_correct` for contínuo, c_like será zero;\n",
    "- c_like, tipo de erro de arredondamento e divido igualmente entre a_like e b_like."
   ]
  },
  {
   "cell_type": "markdown",
   "metadata": {},
   "source": [
    "- A verossimilhança de A é 0,79 e a verossimilhança de B é 0,21. \n",
    "- A razão de verossimilhança (ou fator Bayes) é de 3.8.\n",
    "    - O que significa que a evidência de que Alice é melhor que Bob em responder perguntas do SAT. \n",
    "\n",
    "A probabilidade de A é de 79%, o que significa que ainda há 21% de chance de Bob estar realmente melhor preparado."
   ]
  },
  {
   "cell_type": "markdown",
   "metadata": {},
   "source": [
    "### 12.5 - Um modelo melhor"
   ]
  },
  {
   "cell_type": "markdown",
   "metadata": {},
   "source": [
    "- Qual é o tamanho do erro de modelagem?\n",
    "    - Se for Pequeno, concluímos que o primeiro modelo (todas as perguntas são igualmente difícei) é bom o suficiente.\n",
    "    - Se for grande, precisamos de um modelo melhor.\n",
    "   "
   ]
  },
  {
   "cell_type": "markdown",
   "metadata": {},
   "source": [
    "- Suponha que cada participante do teste tenha algum grau de eficácia (`efficacy`), que mede sua capacidade de responder às perguntas do SAT.\n",
    "- Suponha que cada pergunta tenha algum nível de dificuldade (`difficulty`).\n",
    "- Por fim, suponha que a chance de um participante do teste responder a uma pergunta corretamente esteja relacionada à eficácia (`efficacy`) e à dificuldade (`difficulty`);"
   ]
  },
  {
   "cell_type": "code",
   "execution_count": 1,
   "metadata": {},
   "outputs": [],
   "source": [
    "def ProbCorrect(efficacy, difficulty, a=1):\n",
    "    return 1 / (1 + math.exp(-a * (efficacy - difficulty)))"
   ]
  },
  {
   "cell_type": "markdown",
   "metadata": {},
   "source": [
    "- Versão simplificada da curva usada na teoria de resposta ao item;\n",
    "- Eficácia e a dificuldade são consideradas na mesma escala;\n",
    "\n",
    "- A probabilidade de acertar uma pergunta depende da diferença entre eficácia e a dificuldade.\n",
    "- Quando eficácia e dificuldade são iguais, a probabilidade de acertar a pergunta é de 50%;\n",
    "- À medida que a eficácia aumenta (ou à medida que a dificuldade diminui), a probabilidade se aproxima de 100%;\n",
    "- À medida que a eficácia diminui (ou à medida que a dificuldade aumenta), a probabilidade se aproxima de 0%."
   ]
  },
  {
   "cell_type": "code",
   "execution_count": 2,
   "metadata": {},
   "outputs": [],
   "source": [
    "def PmfCorrect(efficacy, difficulties):\n",
    "    pmf0 = thinkbayes.Pmf([0])\n",
    "\n",
    "    ps = [ProbCorrect(efficacy, diff) for diff in difficulties]\n",
    "    pmfs = [BinaryPmf(p) for p in ps]\n",
    "    dist = sum(pmfs, pmf0)\n",
    "    return dist"
   ]
  },
  {
   "cell_type": "markdown",
   "metadata": {},
   "source": [
    "- `difficulties` é uma lista de dificuldades, uma para cada pergunta. \n",
    "- `ps` é uma lista de probabilidades;\n",
    "- `pmfs` é uma lista de objetos Pmf de dois valores"
   ]
  },
  {
   "cell_type": "markdown",
   "metadata": {},
   "source": [
    "- Para um grupo de pessoas com eficácia diferente, a distribuição resultante das pontuações brutas é uma mistura"
   ]
  },
  {
   "cell_type": "code",
   "execution_count": 3,
   "metadata": {},
   "outputs": [],
   "source": [
    "# class Exam:\n",
    "\n",
    "    def MakeRawScoreDist(self, efficacies):\n",
    "        pmfs = thinkbayes.Pmf()\n",
    "        for efficacy, prob in efficacies.Items():\n",
    "            scores = PmfCorrect(efficacy, self.difficulties)\n",
    "            pmfs.Set(scores, prob)\n",
    "\n",
    "        mix = thinkbayes.MakeMixture(pmfs)\n",
    "        return mix"
   ]
  },
  {
   "cell_type": "markdown",
   "metadata": {},
   "source": [
    "### 12.6 - Calibração"
   ]
  },
  {
   "cell_type": "markdown",
   "metadata": {},
   "source": [
    "- Recebemos a distribuição de pontuações brutas e queremos inferir a distribuição de dificuldades."
   ]
  },
  {
   "cell_type": "markdown",
   "metadata": {},
   "source": [
    "![](dist_data_model.png)"
   ]
  },
  {
   "cell_type": "markdown",
   "metadata": {},
   "source": [
    "Distribuição real de pontuações brutas e um modelo para ajustá-lo."
   ]
  },
  {
   "cell_type": "markdown",
   "metadata": {},
   "source": [
    "- Distribuição da dificuldade seja uniforme com os parâmetros center and width;"
   ]
  },
  {
   "cell_type": "code",
   "execution_count": 5,
   "metadata": {},
   "outputs": [],
   "source": [
    "def MakeDifficulties(center, width, n):\n",
    "    low, high = center-width, center+width\n",
    "    return numpy.linspace(low, high, n)"
   ]
  },
  {
   "cell_type": "markdown",
   "metadata": {},
   "source": [
    "`center = -0.05` e `width = 1.8` produzem uma distribuição de pontuações brutas semelhantes aos dados reais;"
   ]
  },
  {
   "cell_type": "markdown",
   "metadata": {},
   "source": [
    "- Intervalo da distribuição de dificuldade é de aproximadamente -1,85 a 1,75;\n",
    "- Eficácia é gaussiana com média 0 e desvio padrão 1.5;"
   ]
  },
  {
   "cell_type": "markdown",
   "metadata": {},
   "source": [
    "![](table_cap12.png)"
   ]
  },
  {
   "cell_type": "markdown",
   "metadata": {},
   "source": [
    "### 12.7 - Distribuição posteriori da eficácia"
   ]
  },
  {
   "cell_type": "markdown",
   "metadata": {},
   "source": [
    "![](post_eficacia.png)"
   ]
  },
  {
   "cell_type": "markdown",
   "metadata": {},
   "source": [
    "Distribuições posteriores de eficácia para Alice e Bob."
   ]
  },
  {
   "cell_type": "code",
   "execution_count": 8,
   "metadata": {},
   "outputs": [],
   "source": [
    "class Sat2(thinkbayes.Suite):\n",
    "\n",
    "    def __init__(self, exam, score):\n",
    "        self.exam = exam\n",
    "        self.score = score\n",
    "\n",
    "        # start with the Gaussian prior\n",
    "        efficacies = thinkbayes.MakeGaussianPmf(0, 1.5, 3)\n",
    "        thinkbayes.Suite.__init__(self, efficacies)\n",
    "\n",
    "        # update based on an exam score\n",
    "        self.Update(score)\n",
    "        \n",
    "    def Likelihood(self, data, hypo):\n",
    "        efficacy = hypo\n",
    "        score = data\n",
    "        raw = self.exam.Reverse(score)\n",
    "\n",
    "        pmf = self.exam.PmfCorrect(efficacy)\n",
    "        like = pmf.Prob(raw)\n",
    "        return like"
   ]
  },
  {
   "cell_type": "markdown",
   "metadata": {},
   "source": [
    "- A razão de verossimilhança é 3.4, um pouco menor do que a obtida no modelo simples (3.8). \n",
    "- A priori é de que A e B são igualmente prováveis, A tem uma probabilidade posteriori de 77%, deixando 23% de chance de que a eficácia de Bob seja maior;"
   ]
  },
  {
   "cell_type": "markdown",
   "metadata": {},
   "source": [
    "### 12.8 - Distribuição preditiva"
   ]
  },
  {
   "cell_type": "markdown",
   "metadata": {},
   "source": [
    "- Estimativas para a eficácia de Alice e Bob;\n",
    "- Se Alice e Bob fizerem o teste de matemática novamente, qual é a chance de Alice fazer melhor novamente?"
   ]
  },
  {
   "cell_type": "markdown",
   "metadata": {},
   "source": [
    "- Usaremos a distribuição posteriori da eficácia para gerar uma distribuição preditiva da pontuação bruta para cada participante do teste.\n",
    "- Compararemos as duas distribuições preditivas para calcular a probabilidade de Alice obter uma pontuação mais alta novamente."
   ]
  },
  {
   "cell_type": "markdown",
   "metadata": {},
   "source": [
    "- A probabilidade de Alice é de 63%;\n",
    "- A de Bob é 37% de chance de se sair tão bem ou melhor;"
   ]
  },
  {
   "cell_type": "markdown",
   "metadata": {},
   "source": [
    "### 12.9 Discussão"
   ]
  }
 ],
 "metadata": {
  "kernelspec": {
   "display_name": "Python 3",
   "language": "python",
   "name": "python3"
  },
  "language_info": {
   "codemirror_mode": {
    "name": "ipython",
    "version": 3
   },
   "file_extension": ".py",
   "mimetype": "text/x-python",
   "name": "python",
   "nbconvert_exporter": "python",
   "pygments_lexer": "ipython3",
   "version": "3.6.8"
  }
 },
 "nbformat": 4,
 "nbformat_minor": 4
}
