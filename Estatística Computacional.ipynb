{
 "cells": [
  {
   "cell_type": "markdown",
   "metadata": {},
   "source": [
    "## 2 - Estatística computacional"
   ]
  },
  {
   "cell_type": "markdown",
   "metadata": {},
   "source": [
    "### 2.1 - Distribuição"
   ]
  },
  {
   "cell_type": "markdown",
   "metadata": {},
   "source": [
    "- **Distribuição** é um conjunto de valores com as suas probabilidades;\n",
    "- **Pmf** é a função de massa de probabilidade;"
   ]
  },
  {
   "cell_type": "code",
   "execution_count": 1,
   "metadata": {},
   "outputs": [],
   "source": [
    "from thinkbayes import Pmf"
   ]
  },
  {
   "cell_type": "code",
   "execution_count": 2,
   "metadata": {},
   "outputs": [
    {
     "data": {
      "text/plain": [
       "dict_items([(1, 0.16666666666666666), (2, 0.16666666666666666), (3, 0.16666666666666666), (4, 0.16666666666666666), (5, 0.16666666666666666), (6, 0.16666666666666666)])"
      ]
     },
     "execution_count": 2,
     "metadata": {},
     "output_type": "execute_result"
    }
   ],
   "source": [
    "pmf = Pmf()\n",
    "for x in [1, 2, 3, 4, 5, 6]:\n",
    "    pmf.Set(x, 1/6.0)\n",
    "\n",
    "pmf.Items()"
   ]
  },
  {
   "cell_type": "markdown",
   "metadata": {},
   "source": [
    "- **Set** é o método usado para adicionar a probabilidade associada com cada valor;"
   ]
  },
  {
   "cell_type": "code",
   "execution_count": 3,
   "metadata": {},
   "outputs": [
    {
     "data": {
      "text/plain": [
       "dict_items([('as', 1), ('another', 1), ('example', 1), ('you', 2), ('might', 1), ('be', 1), ('interested', 1), ('in', 2), ('how', 2), ('many', 2), ('times', 2), ('each', 2), ('word', 2), ('appears,', 1), ('common', 1), ('english', 1), ('usage', 1), ('could', 1), ('build', 1), ('a', 1), ('distribution', 1), ('that', 1), ('includes', 1), ('and', 1), ('it', 1), ('appears', 1)])"
      ]
     },
     "execution_count": 3,
     "metadata": {},
     "output_type": "execute_result"
    }
   ],
   "source": [
    "pmf = Pmf()\n",
    "word_list = ['as', 'another', 'example', 'you', 'might', 'be', 'interested', 'in', 'how', 'many', 'times', 'each', 'word', \n",
    "             'appears,', 'in', 'common', 'english', 'usage', 'you', 'could', 'build', 'a', 'distribution', 'that', 'includes',\n",
    "             'each', 'word', 'and', 'how', 'many', 'times', 'it', 'appears']\n",
    "for word in word_list:\n",
    "    pmf.Incr(word, 1)\n",
    "pmf.Items()"
   ]
  },
  {
   "cell_type": "code",
   "execution_count": 4,
   "metadata": {},
   "outputs": [
    {
     "data": {
      "text/plain": [
       "dict_items([('as', 0.030303030303030304), ('another', 0.030303030303030304), ('example', 0.030303030303030304), ('you', 0.06060606060606061), ('might', 0.030303030303030304), ('be', 0.030303030303030304), ('interested', 0.030303030303030304), ('in', 0.06060606060606061), ('how', 0.06060606060606061), ('many', 0.06060606060606061), ('times', 0.06060606060606061), ('each', 0.06060606060606061), ('word', 0.06060606060606061), ('appears,', 0.030303030303030304), ('common', 0.030303030303030304), ('english', 0.030303030303030304), ('usage', 0.030303030303030304), ('could', 0.030303030303030304), ('build', 0.030303030303030304), ('a', 0.030303030303030304), ('distribution', 0.030303030303030304), ('that', 0.030303030303030304), ('includes', 0.030303030303030304), ('and', 0.030303030303030304), ('it', 0.030303030303030304), ('appears', 0.030303030303030304)])"
      ]
     },
     "execution_count": 4,
     "metadata": {},
     "output_type": "execute_result"
    }
   ],
   "source": [
    "pmf.Normalize()\n",
    "pmf.Items()"
   ]
  },
  {
   "cell_type": "markdown",
   "metadata": {},
   "source": [
    "- **Incr** é o método usada para adicionar um valor, o valor adicionado não é a probabilidade.\n",
    "- **Normalize** é o método para calcular a probabilidade(frequência) associado a uma variável.\n",
    "- **Pmf** é um objeto, podemos perguntar a probabilidade de qualquer valor.\n",
    "- Pmf usa dicionário para armazenar os valores e as probabilidade;"
   ]
  },
  {
   "cell_type": "code",
   "execution_count": 6,
   "metadata": {},
   "outputs": [
    {
     "data": {
      "text/plain": [
       "0.030303030303030304"
      ]
     },
     "execution_count": 6,
     "metadata": {},
     "output_type": "execute_result"
    }
   ],
   "source": [
    "pmf.Prob('that')"
   ]
  },
  {
   "cell_type": "markdown",
   "metadata": {},
   "source": [
    "### 2.2 - O problema do biscoito"
   ]
  },
  {
   "cell_type": "markdown",
   "metadata": {},
   "source": [
    "- No teorema de bayes, é comum usar Pmf para mapear as probabilidade de cada hipóteses;\n",
    "\n",
    "No problema do biscoito as hipóteses são B1 e B2;"
   ]
  },
  {
   "cell_type": "code",
   "execution_count": 3,
   "metadata": {},
   "outputs": [],
   "source": [
    "pmf = Pmf()\n",
    "pmf.Set('Bowl 1', 0.5)\n",
    "pmf.Set('Bowl 2', 0.5)"
   ]
  },
  {
   "cell_type": "markdown",
   "metadata": {},
   "source": [
    "- **Distribuição prior** é a distribuição que contém a priori de cada hipótese;\n",
    "- Para atualizar a distribuição baseada em novos dados, multiplica cada priori pelo valor da verrossimilhança correspondente;"
   ]
  },
  {
   "cell_type": "code",
   "execution_count": 4,
   "metadata": {},
   "outputs": [],
   "source": [
    "pmf.Mult('Bowl 1', 0.75)\n",
    "pmf.Mult('Bowl 2', 0.5)"
   ]
  },
  {
   "cell_type": "markdown",
   "metadata": {},
   "source": [
    "- **Mult** multiplicar uma dada probabilidade por uma dada verossimilhança;\n",
    "- As hipóteses podem ser renomalizada, pois elas são **Mutuamente exclusiva** e **Coletivamente exaustiva**."
   ]
  },
  {
   "cell_type": "code",
   "execution_count": 5,
   "metadata": {},
   "outputs": [
    {
     "data": {
      "text/plain": [
       "0.625"
      ]
     },
     "execution_count": 5,
     "metadata": {},
     "output_type": "execute_result"
    }
   ],
   "source": [
    "pmf.Normalize()"
   ]
  },
  {
   "cell_type": "markdown",
   "metadata": {},
   "source": [
    "- O resultado é a distribuição posteriori de cada hipótese;"
   ]
  },
  {
   "cell_type": "code",
   "execution_count": 6,
   "metadata": {},
   "outputs": [
    {
     "name": "stdout",
     "output_type": "stream",
     "text": [
      "0.6000000000000001\n"
     ]
    }
   ],
   "source": [
    "print(pmf.Prob('Bowl 1'))"
   ]
  },
  {
   "cell_type": "markdown",
   "metadata": {},
   "source": [
    "### 2.3 - O Framework Bayesiano"
   ]
  },
  {
   "cell_type": "markdown",
   "metadata": {},
   "source": [
    "- Reescreve o código para uma forma mais geral. Define a classe para encapsular os códigos relacionado a cada problema; "
   ]
  },
  {
   "cell_type": "code",
   "execution_count": 2,
   "metadata": {},
   "outputs": [],
   "source": [
    "class Cookie(Pmf):\n",
    "    \n",
    "    mixes = {\n",
    "        'Bowl 1': dict(vanilla=0.75, chocolate=0.25),\n",
    "        'Bowl 2': dict(vanilla=0.5, chocolate=0.5),\n",
    "    }\n",
    "    \n",
    "    def __init__(self, hypos):\n",
    "        super().__init__(self)\n",
    "        for hypo in hypos:\n",
    "            self.Set(hypo, 1)\n",
    "        self.Normalize()\n",
    "    \n",
    "    def Update(self, data):\n",
    "        for hypo in self.Values():\n",
    "            like = self.Likelihood(data, hypo)\n",
    "            self.Mult(hypo, like)\n",
    "        self.Normalize()\n",
    "    \n",
    "    def Likelihood(self, data, hypo):\n",
    "        mix = self.mixes[hypo]\n",
    "        like = mix[data]\n",
    "        return like"
   ]
  },
  {
   "cell_type": "markdown",
   "metadata": {},
   "source": [
    "- O objeto Cookie é uma Pmf, onde mapeia as hipótese para suas probabilidades; "
   ]
  },
  {
   "cell_type": "code",
   "execution_count": 3,
   "metadata": {},
   "outputs": [],
   "source": [
    "hypos = ['Bowl 1', 'Bowl 2']\n",
    "pmf = Cookie(hypos)\n",
    "#pmf.Update('vanilla')"
   ]
  },
  {
   "cell_type": "markdown",
   "metadata": {},
   "source": [
    "- **Update** calcula a verossimilhança e multiplica com a probabilidade da hipótese;"
   ]
  },
  {
   "cell_type": "code",
   "execution_count": 26,
   "metadata": {},
   "outputs": [
    {
     "name": "stdout",
     "output_type": "stream",
     "text": [
      "Bowl 1 0.6000000000000001\n",
      "Bowl 2 0.4\n"
     ]
    }
   ],
   "source": [
    "for hypo, prob in pmf.Items():\n",
    "    print(hypo, prob)"
   ]
  },
  {
   "cell_type": "code",
   "execution_count": 4,
   "metadata": {},
   "outputs": [
    {
     "name": "stdout",
     "output_type": "stream",
     "text": [
      "Bowl 1 0.6000000000000001\n",
      "Bowl 2 0.4\n",
      "Bowl 1 0.6923076923076923\n",
      "Bowl 2 0.30769230769230765\n",
      "Bowl 1 0.7714285714285714\n",
      "Bowl 2 0.22857142857142856\n"
     ]
    }
   ],
   "source": [
    "dataset = ['vanilla', 'vanilla', 'vanilla']\n",
    "for data in dataset:\n",
    "    pmf.Update(data)\n",
    "    for hypo, prob in pmf.Items():\n",
    "        print(hypo, prob)"
   ]
  },
  {
   "cell_type": "markdown",
   "metadata": {},
   "source": [
    "- É mais complicado do que o código anterior;\n",
    "\n",
    "- As vantagens de generalizar, são:\n",
    "    - Podemos extrair mais de um biscoito do pote;\n",
    "    - Podemos resolver outros problemas semelhantes;"
   ]
  },
  {
   "cell_type": "markdown",
   "metadata": {},
   "source": [
    "### 2.4 - O problema de Monty Hall"
   ]
  },
  {
   "cell_type": "code",
   "execution_count": 9,
   "metadata": {},
   "outputs": [],
   "source": [
    "class Monty(Pmf):\n",
    "    def __init__(self, hypos):\n",
    "        super().__init__(self)\n",
    "        for hypo in hypos:\n",
    "            self.Set(hypo, 1)\n",
    "        self.Normalize()\n",
    "    \n",
    "    def Update(self, data):\n",
    "        for hypo in self.Values():\n",
    "            like = self.Likelihood(data, hypo)\n",
    "            self.Mult(hypo, like)\n",
    "        self.Normalize()\n",
    "    \n",
    "    def Likelihood(self, data, hypo):\n",
    "        if hypo == data:\n",
    "            return 0\n",
    "        elif hypo == 'A':\n",
    "            return 0.5\n",
    "        else:\n",
    "            return 1"
   ]
  },
  {
   "cell_type": "code",
   "execution_count": 10,
   "metadata": {},
   "outputs": [],
   "source": [
    "hypos = 'ABC'\n",
    "pmf = Monty(hypos)"
   ]
  },
  {
   "cell_type": "code",
   "execution_count": 11,
   "metadata": {},
   "outputs": [],
   "source": [
    "data = 'B'\n",
    "pmf.Update(data)"
   ]
  },
  {
   "cell_type": "code",
   "execution_count": 12,
   "metadata": {},
   "outputs": [
    {
     "name": "stdout",
     "output_type": "stream",
     "text": [
      "A 0.3333333333333333\n",
      "B 0.0\n",
      "C 0.6666666666666666\n"
     ]
    }
   ],
   "source": [
    "for hypo, prob in pmf.Items():\n",
    "    print(hypo, prob)"
   ]
  },
  {
   "cell_type": "markdown",
   "metadata": {},
   "source": [
    "### 2.5 - Encapsulando o framework"
   ]
  },
  {
   "cell_type": "code",
   "execution_count": 8,
   "metadata": {},
   "outputs": [],
   "source": [
    "class Suite(Pmf):\n",
    "    \n",
    "    def __init__(self, hypos=tuple()):\n",
    "        super().__init__(self)\n",
    "        for hypo in hypos:\n",
    "            self.Set(hypo, 1)\n",
    "        self.Normalize()\n",
    "    \n",
    "    def Update(self, data):\n",
    "        for hypo in self.Values():\n",
    "            like = self.Likelihood(data, hypo)\n",
    "            self.Mult(hypo, like)\n",
    "        self.Normalize()\n",
    "    \n",
    "    def Likelihood(self, data, hypo):\n",
    "        \n",
    "        raise UnimplementedMethodException()\n",
    "    \n",
    "    def Print(self):\n",
    "        for hypo, prob in self.Items():\n",
    "            print(hypo, prob)"
   ]
  },
  {
   "cell_type": "code",
   "execution_count": 15,
   "metadata": {},
   "outputs": [],
   "source": [
    "class Monty(Suite):\n",
    "    \n",
    "    def Likelihood(self, data, hypo):\n",
    "        if hypo == data:\n",
    "            return 0\n",
    "        elif hypo == 'A':\n",
    "            return 0.5\n",
    "        else:\n",
    "            return 1"
   ]
  },
  {
   "cell_type": "code",
   "execution_count": 17,
   "metadata": {},
   "outputs": [
    {
     "name": "stdout",
     "output_type": "stream",
     "text": [
      "A 0.3333333333333333\n",
      "B 0.0\n",
      "C 0.6666666666666666\n"
     ]
    }
   ],
   "source": [
    "suite = Monty('ABC')\n",
    "suite.Update('B')\n",
    "suite.Print()"
   ]
  },
  {
   "cell_type": "markdown",
   "metadata": {},
   "source": [
    "### 2.6 - O problema do M&M"
   ]
  },
  {
   "cell_type": "code",
   "execution_count": 9,
   "metadata": {},
   "outputs": [],
   "source": [
    "class M_and_M(Suite):\n",
    "    mix94 = dict(brown=30, yellow=20, red=20, green=10, orange=10, tan=10)\n",
    "    mix96 = dict(brown=13, yellow=14, red=13, green=20, orange=16, blue=24)\n",
    "    \n",
    "    hypoA = dict(bag1=mix94, bag2=mix96)\n",
    "    hypoB = dict(bag1=mix96, bag2=mix94)\n",
    "    \n",
    "    hypotheses = dict(A=hypoA, B=hypoB)\n",
    "    \n",
    "    def Likelihood(self, data, hypo):\n",
    "        bag, color = data\n",
    "        mix = self.hypotheses[hypo][bag]\n",
    "        like = mix[color]\n",
    "        return like\n"
   ]
  },
  {
   "cell_type": "code",
   "execution_count": 10,
   "metadata": {},
   "outputs": [
    {
     "name": "stdout",
     "output_type": "stream",
     "text": [
      "A 0.7407407407407407\n",
      "B 0.2592592592592592\n"
     ]
    }
   ],
   "source": [
    "suite = M_and_M('AB')\n",
    "suite.Update(('bag1', 'yellow'))\n",
    "suite.Update(('bag2', 'green'))\n",
    "\n",
    "suite.Print()"
   ]
  },
  {
   "cell_type": "markdown",
   "metadata": {},
   "source": [
    "### 2.7 - Discussões"
   ]
  },
  {
   "cell_type": "markdown",
   "metadata": {},
   "source": [
    "- Comentários sobre a estrutura do framework;\n",
    "\n",
    "- O Suite é um classe **abstrata**;\n",
    "\n",
    "- **Tipo concreto** é uma classe que estende uma classe pai abstrata e fornece uma implementação dos métodos ausentes"
   ]
  },
  {
   "cell_type": "markdown",
   "metadata": {},
   "source": [
    "### 2.8 - Exercícios"
   ]
  },
  {
   "cell_type": "code",
   "execution_count": null,
   "metadata": {},
   "outputs": [],
   "source": []
  }
 ],
 "metadata": {
  "kernelspec": {
   "display_name": "Python 3",
   "language": "python",
   "name": "python3"
  },
  "language_info": {
   "codemirror_mode": {
    "name": "ipython",
    "version": 3
   },
   "file_extension": ".py",
   "mimetype": "text/x-python",
   "name": "python",
   "nbconvert_exporter": "python",
   "pygments_lexer": "ipython3",
   "version": "3.6.8"
  }
 },
 "nbformat": 4,
 "nbformat_minor": 4
}
